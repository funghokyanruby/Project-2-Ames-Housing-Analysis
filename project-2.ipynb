{
 "cells": [
  {
   "cell_type": "markdown",
   "metadata": {},
   "source": [
    "# Project 2 - Ames Housing Data and Kaggle Challenge"
   ]
  },
  {
   "cell_type": "markdown",
   "metadata": {},
   "source": [
    "## Problem Statement"
   ]
  },
  {
   "cell_type": "markdown",
   "metadata": {},
   "source": [
    "In real estate industry, housing prices are of great interest for both buyers and sellers. As a leader in real estate consulting, RF Real Estate Consulting Firm offer services related to housing market research and valuation for houseowners and buyers. The valuation of house price is based on house features; however, so far in the property market in Iowa, there is a lack of trustworthy and professional price prediction model out there. \n",
    "\n",
    "Hence, the goal of this project is to create a regression model that is able to accurately predict the house sales price given the house features. \n",
    "\n",
    "To develop the most accurate model, I will be evaluating 3 models: 1. `LinearRegression`, 2. `LassoCV` and 3. `RidgeCV`. Performance metrics will be used to compare which model is the most appropriate in this case and the two performance metrics are: \n",
    "\n",
    "1. R-squared (R2) : R2 score measures the proportion of variation in the dependent variable (house prices) that can be attributed to the independent variable (house features). A higher R2 score indicates a better fit for the model. In this project, we will evaluate which model has the highest R2 score, out of 1. \n",
    "\n",
    "2. Root-mean-square error (RMSE) : RMSE measures the difference between predicted values and the actual values. The RMSE of the train and test datasets should be very similar if a good model is built. Hence, here we are looking for the model that can minimize RMSE.\n",
    "\n",
    "With the above information, our company will be able to generate more accurate house price prediction given those highly correlated housefeatures. Eventually, it benefits all the stakeholders, including our direct users - real estate consultants, and indirect users - sellers and buyers. Our real estate consultants can make use of the predicted house prices to better our advise clients accurately with credibility and enhance our company reputation. "
   ]
  },
  {
   "cell_type": "markdown",
   "metadata": {},
   "source": [
    "##  Executive Summary"
   ]
  },
  {
   "cell_type": "markdown",
   "metadata": {},
   "source": [
    "RF Real Estate Consulting company has been offering real estate consulting services in purchasing adn selling houses in Iowa. The most asked question among all stakeholders, include consulting professionals, buyers and sellers is ' how much?'. The house price is the most important indicator that affects the decision making. \n",
    "\n",
    "We have worked closely with developers, investors and institutions such as banks and governments to be the bedrock for all their real estate needs. Developing a model to predict housing sales price will allow us to have a more in-depth understanding of local housing market in Ames, so that our clients are able to reduce costs, create value and improve the investment performance.\n",
    "\n",
    "Due to the pandemic situation since the beginning of the year, there are more uncertainties in the property market in Iowa. Our company is looking for a reliable model that can help predict the house prices more accurately, so that we are able to better advise our clients if they are selling or buying at the ideal price. Only if we can maintain our consulting services professional and trustworthy, we will be able to build the trust with our clients and generate more revenue for our company. \n",
    "\n",
    "Our company will count on this house prediction model to achieve three main objectives:\n",
    "\n",
    "1. Enhance company reputation: \n",
    "\n",
    "    The house price prediction model could be a huge boost to our clients's confidence. There is always a fierce competition among the real estate consulting services in Iowa. In order to stand out, it is essential to provide more professional and more credible service that our competitors can't. Hence, we will also make use of this model as one of our selling point in the marketing campaigns to strenthen our branding, so as to attract more new clients and retain the existing clients. \n",
    "    \n",
    "    \n",
    "2. Build trust with clients and develop long term customer relationship:\n",
    "\n",
    "    Apart from marketing strategy, we will also enhance the customer relationship management making use of this model. Since this model is exclusively created and used by our company, we believe it will enable us to build trust with clients and develop long term customer relationship. In long term, our company will be able to build a client base that stablizes company's source of business and revenue. \n",
    "\n",
    "\n",
    "3. Generate more revenue: \n",
    "\n",
    "    The ultimate goal of developing the model and adjusting marketing and operation strategies is to generate more revenue for the company.  \n",
    "\n",
    "\n",
    "Our company looks forward to making use of the model to align our strategy with business goals and help our business to be more successful. "
   ]
  },
  {
   "cell_type": "markdown",
   "metadata": {},
   "source": [
    "### Contents:\n",
    "1. [Data Import](#Data-Import)\n",
    "2. [Data Dictionary](#Data-Dictionary)\n",
    "3. [Data Exploration](#Data-Exploration)\n",
    "4. [Data Cleaning for Train Set](#Data-Cleaning-for-Train-Set)\n",
    "5. [Data Cleaning for Test Set](#Data-Cleaning-for-Test-Set)\n",
    "6. [Exploratory Data Analysis](#Exploratory-Data-Analysis)\n",
    "7. [Preprocessing and Modeling](#Preprocessing-and-Modeling)\n",
    "8. [Predict Test Dataset](#Predict-Test-Dataset)"
   ]
  },
  {
   "cell_type": "code",
   "execution_count": 1,
   "metadata": {},
   "outputs": [],
   "source": [
    "# imports:\n",
    "\n",
    "import pandas as pd\n",
    "import numpy as np\n",
    "import seaborn as sns\n",
    "import matplotlib.pyplot as plt\n",
    "from scipy import stats\n",
    "\n",
    "from sklearn.linear_model import LinearRegression, LassoCV, RidgeCV\n",
    "from sklearn.preprocessing import PolynomialFeatures, StandardScaler\n",
    "from sklearn.metrics import r2_score\n",
    "from sklearn.model_selection import train_test_split, cross_val_score, cross_val_predict, KFold\n",
    "\n",
    "from sklearn.metrics import mean_squared_error\n",
    "from math import sqrt\n",
    "\n",
    "%matplotlib inline"
   ]
  },
  {
   "cell_type": "markdown",
   "metadata": {},
   "source": [
    "<a id='demo'></a>\n",
    "\n",
    "## Data Import"
   ]
  },
  {
   "cell_type": "code",
   "execution_count": 2,
   "metadata": {},
   "outputs": [],
   "source": [
    "# read in test & train csv\n",
    "train = pd.read_csv ('datasets/train.csv')\n",
    "test = pd.read_csv ('datasets/test.csv')\n",
    "\n",
    "\n",
    "# replace spaces in column names and convert all columns to lowercase:\n",
    "train.columns = [x.lower().replace(' ','_') for x in train.columns]\n",
    "test.columns = [x.lower().replace(' ','_') for x in test.columns]"
   ]
  },
  {
   "cell_type": "code",
   "execution_count": 3,
   "metadata": {},
   "outputs": [
    {
     "data": {
      "text/html": [
       "<div>\n",
       "<style scoped>\n",
       "    .dataframe tbody tr th:only-of-type {\n",
       "        vertical-align: middle;\n",
       "    }\n",
       "\n",
       "    .dataframe tbody tr th {\n",
       "        vertical-align: top;\n",
       "    }\n",
       "\n",
       "    .dataframe thead th {\n",
       "        text-align: right;\n",
       "    }\n",
       "</style>\n",
       "<table border=\"1\" class=\"dataframe\">\n",
       "  <thead>\n",
       "    <tr style=\"text-align: right;\">\n",
       "      <th></th>\n",
       "      <th>id</th>\n",
       "      <th>pid</th>\n",
       "      <th>ms_subclass</th>\n",
       "      <th>ms_zoning</th>\n",
       "      <th>lot_frontage</th>\n",
       "      <th>lot_area</th>\n",
       "      <th>street</th>\n",
       "      <th>alley</th>\n",
       "      <th>lot_shape</th>\n",
       "      <th>land_contour</th>\n",
       "      <th>...</th>\n",
       "      <th>screen_porch</th>\n",
       "      <th>pool_area</th>\n",
       "      <th>pool_qc</th>\n",
       "      <th>fence</th>\n",
       "      <th>misc_feature</th>\n",
       "      <th>misc_val</th>\n",
       "      <th>mo_sold</th>\n",
       "      <th>yr_sold</th>\n",
       "      <th>sale_type</th>\n",
       "      <th>saleprice</th>\n",
       "    </tr>\n",
       "  </thead>\n",
       "  <tbody>\n",
       "    <tr>\n",
       "      <th>0</th>\n",
       "      <td>109</td>\n",
       "      <td>533352170</td>\n",
       "      <td>60</td>\n",
       "      <td>RL</td>\n",
       "      <td>NaN</td>\n",
       "      <td>13517</td>\n",
       "      <td>Pave</td>\n",
       "      <td>NaN</td>\n",
       "      <td>IR1</td>\n",
       "      <td>Lvl</td>\n",
       "      <td>...</td>\n",
       "      <td>0</td>\n",
       "      <td>0</td>\n",
       "      <td>NaN</td>\n",
       "      <td>NaN</td>\n",
       "      <td>NaN</td>\n",
       "      <td>0</td>\n",
       "      <td>3</td>\n",
       "      <td>2010</td>\n",
       "      <td>WD</td>\n",
       "      <td>130500</td>\n",
       "    </tr>\n",
       "    <tr>\n",
       "      <th>1</th>\n",
       "      <td>544</td>\n",
       "      <td>531379050</td>\n",
       "      <td>60</td>\n",
       "      <td>RL</td>\n",
       "      <td>43.0</td>\n",
       "      <td>11492</td>\n",
       "      <td>Pave</td>\n",
       "      <td>NaN</td>\n",
       "      <td>IR1</td>\n",
       "      <td>Lvl</td>\n",
       "      <td>...</td>\n",
       "      <td>0</td>\n",
       "      <td>0</td>\n",
       "      <td>NaN</td>\n",
       "      <td>NaN</td>\n",
       "      <td>NaN</td>\n",
       "      <td>0</td>\n",
       "      <td>4</td>\n",
       "      <td>2009</td>\n",
       "      <td>WD</td>\n",
       "      <td>220000</td>\n",
       "    </tr>\n",
       "    <tr>\n",
       "      <th>2</th>\n",
       "      <td>153</td>\n",
       "      <td>535304180</td>\n",
       "      <td>20</td>\n",
       "      <td>RL</td>\n",
       "      <td>68.0</td>\n",
       "      <td>7922</td>\n",
       "      <td>Pave</td>\n",
       "      <td>NaN</td>\n",
       "      <td>Reg</td>\n",
       "      <td>Lvl</td>\n",
       "      <td>...</td>\n",
       "      <td>0</td>\n",
       "      <td>0</td>\n",
       "      <td>NaN</td>\n",
       "      <td>NaN</td>\n",
       "      <td>NaN</td>\n",
       "      <td>0</td>\n",
       "      <td>1</td>\n",
       "      <td>2010</td>\n",
       "      <td>WD</td>\n",
       "      <td>109000</td>\n",
       "    </tr>\n",
       "    <tr>\n",
       "      <th>3</th>\n",
       "      <td>318</td>\n",
       "      <td>916386060</td>\n",
       "      <td>60</td>\n",
       "      <td>RL</td>\n",
       "      <td>73.0</td>\n",
       "      <td>9802</td>\n",
       "      <td>Pave</td>\n",
       "      <td>NaN</td>\n",
       "      <td>Reg</td>\n",
       "      <td>Lvl</td>\n",
       "      <td>...</td>\n",
       "      <td>0</td>\n",
       "      <td>0</td>\n",
       "      <td>NaN</td>\n",
       "      <td>NaN</td>\n",
       "      <td>NaN</td>\n",
       "      <td>0</td>\n",
       "      <td>4</td>\n",
       "      <td>2010</td>\n",
       "      <td>WD</td>\n",
       "      <td>174000</td>\n",
       "    </tr>\n",
       "    <tr>\n",
       "      <th>4</th>\n",
       "      <td>255</td>\n",
       "      <td>906425045</td>\n",
       "      <td>50</td>\n",
       "      <td>RL</td>\n",
       "      <td>82.0</td>\n",
       "      <td>14235</td>\n",
       "      <td>Pave</td>\n",
       "      <td>NaN</td>\n",
       "      <td>IR1</td>\n",
       "      <td>Lvl</td>\n",
       "      <td>...</td>\n",
       "      <td>0</td>\n",
       "      <td>0</td>\n",
       "      <td>NaN</td>\n",
       "      <td>NaN</td>\n",
       "      <td>NaN</td>\n",
       "      <td>0</td>\n",
       "      <td>3</td>\n",
       "      <td>2010</td>\n",
       "      <td>WD</td>\n",
       "      <td>138500</td>\n",
       "    </tr>\n",
       "    <tr>\n",
       "      <th>5</th>\n",
       "      <td>138</td>\n",
       "      <td>535126040</td>\n",
       "      <td>20</td>\n",
       "      <td>RL</td>\n",
       "      <td>137.0</td>\n",
       "      <td>16492</td>\n",
       "      <td>Pave</td>\n",
       "      <td>NaN</td>\n",
       "      <td>IR1</td>\n",
       "      <td>Lvl</td>\n",
       "      <td>...</td>\n",
       "      <td>0</td>\n",
       "      <td>0</td>\n",
       "      <td>NaN</td>\n",
       "      <td>NaN</td>\n",
       "      <td>NaN</td>\n",
       "      <td>0</td>\n",
       "      <td>6</td>\n",
       "      <td>2010</td>\n",
       "      <td>WD</td>\n",
       "      <td>190000</td>\n",
       "    </tr>\n",
       "    <tr>\n",
       "      <th>6</th>\n",
       "      <td>2827</td>\n",
       "      <td>908186070</td>\n",
       "      <td>180</td>\n",
       "      <td>RM</td>\n",
       "      <td>35.0</td>\n",
       "      <td>3675</td>\n",
       "      <td>Pave</td>\n",
       "      <td>NaN</td>\n",
       "      <td>Reg</td>\n",
       "      <td>Lvl</td>\n",
       "      <td>...</td>\n",
       "      <td>0</td>\n",
       "      <td>0</td>\n",
       "      <td>NaN</td>\n",
       "      <td>NaN</td>\n",
       "      <td>NaN</td>\n",
       "      <td>0</td>\n",
       "      <td>6</td>\n",
       "      <td>2006</td>\n",
       "      <td>New</td>\n",
       "      <td>140000</td>\n",
       "    </tr>\n",
       "    <tr>\n",
       "      <th>7</th>\n",
       "      <td>145</td>\n",
       "      <td>535154050</td>\n",
       "      <td>20</td>\n",
       "      <td>RL</td>\n",
       "      <td>NaN</td>\n",
       "      <td>12160</td>\n",
       "      <td>Pave</td>\n",
       "      <td>NaN</td>\n",
       "      <td>IR1</td>\n",
       "      <td>Lvl</td>\n",
       "      <td>...</td>\n",
       "      <td>0</td>\n",
       "      <td>0</td>\n",
       "      <td>NaN</td>\n",
       "      <td>MnPrv</td>\n",
       "      <td>NaN</td>\n",
       "      <td>0</td>\n",
       "      <td>5</td>\n",
       "      <td>2010</td>\n",
       "      <td>COD</td>\n",
       "      <td>142000</td>\n",
       "    </tr>\n",
       "    <tr>\n",
       "      <th>8</th>\n",
       "      <td>1942</td>\n",
       "      <td>535353130</td>\n",
       "      <td>20</td>\n",
       "      <td>RL</td>\n",
       "      <td>NaN</td>\n",
       "      <td>15783</td>\n",
       "      <td>Pave</td>\n",
       "      <td>NaN</td>\n",
       "      <td>Reg</td>\n",
       "      <td>Lvl</td>\n",
       "      <td>...</td>\n",
       "      <td>0</td>\n",
       "      <td>0</td>\n",
       "      <td>NaN</td>\n",
       "      <td>MnPrv</td>\n",
       "      <td>Shed</td>\n",
       "      <td>400</td>\n",
       "      <td>6</td>\n",
       "      <td>2007</td>\n",
       "      <td>WD</td>\n",
       "      <td>112500</td>\n",
       "    </tr>\n",
       "    <tr>\n",
       "      <th>9</th>\n",
       "      <td>1956</td>\n",
       "      <td>535426130</td>\n",
       "      <td>60</td>\n",
       "      <td>RL</td>\n",
       "      <td>70.0</td>\n",
       "      <td>11606</td>\n",
       "      <td>Pave</td>\n",
       "      <td>NaN</td>\n",
       "      <td>IR1</td>\n",
       "      <td>HLS</td>\n",
       "      <td>...</td>\n",
       "      <td>0</td>\n",
       "      <td>0</td>\n",
       "      <td>NaN</td>\n",
       "      <td>NaN</td>\n",
       "      <td>NaN</td>\n",
       "      <td>0</td>\n",
       "      <td>9</td>\n",
       "      <td>2007</td>\n",
       "      <td>WD</td>\n",
       "      <td>135000</td>\n",
       "    </tr>\n",
       "  </tbody>\n",
       "</table>\n",
       "<p>10 rows × 81 columns</p>\n",
       "</div>"
      ],
      "text/plain": [
       "     id        pid  ms_subclass ms_zoning  lot_frontage  lot_area street  \\\n",
       "0   109  533352170           60        RL           NaN     13517   Pave   \n",
       "1   544  531379050           60        RL          43.0     11492   Pave   \n",
       "2   153  535304180           20        RL          68.0      7922   Pave   \n",
       "3   318  916386060           60        RL          73.0      9802   Pave   \n",
       "4   255  906425045           50        RL          82.0     14235   Pave   \n",
       "5   138  535126040           20        RL         137.0     16492   Pave   \n",
       "6  2827  908186070          180        RM          35.0      3675   Pave   \n",
       "7   145  535154050           20        RL           NaN     12160   Pave   \n",
       "8  1942  535353130           20        RL           NaN     15783   Pave   \n",
       "9  1956  535426130           60        RL          70.0     11606   Pave   \n",
       "\n",
       "  alley lot_shape land_contour  ... screen_porch pool_area pool_qc  fence  \\\n",
       "0   NaN       IR1          Lvl  ...            0         0     NaN    NaN   \n",
       "1   NaN       IR1          Lvl  ...            0         0     NaN    NaN   \n",
       "2   NaN       Reg          Lvl  ...            0         0     NaN    NaN   \n",
       "3   NaN       Reg          Lvl  ...            0         0     NaN    NaN   \n",
       "4   NaN       IR1          Lvl  ...            0         0     NaN    NaN   \n",
       "5   NaN       IR1          Lvl  ...            0         0     NaN    NaN   \n",
       "6   NaN       Reg          Lvl  ...            0         0     NaN    NaN   \n",
       "7   NaN       IR1          Lvl  ...            0         0     NaN  MnPrv   \n",
       "8   NaN       Reg          Lvl  ...            0         0     NaN  MnPrv   \n",
       "9   NaN       IR1          HLS  ...            0         0     NaN    NaN   \n",
       "\n",
       "  misc_feature misc_val mo_sold yr_sold  sale_type  saleprice  \n",
       "0          NaN        0       3    2010        WD      130500  \n",
       "1          NaN        0       4    2009        WD      220000  \n",
       "2          NaN        0       1    2010        WD      109000  \n",
       "3          NaN        0       4    2010        WD      174000  \n",
       "4          NaN        0       3    2010        WD      138500  \n",
       "5          NaN        0       6    2010        WD      190000  \n",
       "6          NaN        0       6    2006        New     140000  \n",
       "7          NaN        0       5    2010        COD     142000  \n",
       "8         Shed      400       6    2007        WD      112500  \n",
       "9          NaN        0       9    2007        WD      135000  \n",
       "\n",
       "[10 rows x 81 columns]"
      ]
     },
     "execution_count": 3,
     "metadata": {},
     "output_type": "execute_result"
    }
   ],
   "source": [
    "# display data\n",
    "\n",
    "train.head(10)"
   ]
  },
  {
   "cell_type": "code",
   "execution_count": 4,
   "metadata": {},
   "outputs": [
    {
     "data": {
      "text/html": [
       "<div>\n",
       "<style scoped>\n",
       "    .dataframe tbody tr th:only-of-type {\n",
       "        vertical-align: middle;\n",
       "    }\n",
       "\n",
       "    .dataframe tbody tr th {\n",
       "        vertical-align: top;\n",
       "    }\n",
       "\n",
       "    .dataframe thead th {\n",
       "        text-align: right;\n",
       "    }\n",
       "</style>\n",
       "<table border=\"1\" class=\"dataframe\">\n",
       "  <thead>\n",
       "    <tr style=\"text-align: right;\">\n",
       "      <th></th>\n",
       "      <th>id</th>\n",
       "      <th>pid</th>\n",
       "      <th>ms_subclass</th>\n",
       "      <th>ms_zoning</th>\n",
       "      <th>lot_frontage</th>\n",
       "      <th>lot_area</th>\n",
       "      <th>street</th>\n",
       "      <th>alley</th>\n",
       "      <th>lot_shape</th>\n",
       "      <th>land_contour</th>\n",
       "      <th>...</th>\n",
       "      <th>3ssn_porch</th>\n",
       "      <th>screen_porch</th>\n",
       "      <th>pool_area</th>\n",
       "      <th>pool_qc</th>\n",
       "      <th>fence</th>\n",
       "      <th>misc_feature</th>\n",
       "      <th>misc_val</th>\n",
       "      <th>mo_sold</th>\n",
       "      <th>yr_sold</th>\n",
       "      <th>sale_type</th>\n",
       "    </tr>\n",
       "  </thead>\n",
       "  <tbody>\n",
       "    <tr>\n",
       "      <th>0</th>\n",
       "      <td>2658</td>\n",
       "      <td>902301120</td>\n",
       "      <td>190</td>\n",
       "      <td>RM</td>\n",
       "      <td>69.0</td>\n",
       "      <td>9142</td>\n",
       "      <td>Pave</td>\n",
       "      <td>Grvl</td>\n",
       "      <td>Reg</td>\n",
       "      <td>Lvl</td>\n",
       "      <td>...</td>\n",
       "      <td>0</td>\n",
       "      <td>0</td>\n",
       "      <td>0</td>\n",
       "      <td>NaN</td>\n",
       "      <td>NaN</td>\n",
       "      <td>NaN</td>\n",
       "      <td>0</td>\n",
       "      <td>4</td>\n",
       "      <td>2006</td>\n",
       "      <td>WD</td>\n",
       "    </tr>\n",
       "    <tr>\n",
       "      <th>1</th>\n",
       "      <td>2718</td>\n",
       "      <td>905108090</td>\n",
       "      <td>90</td>\n",
       "      <td>RL</td>\n",
       "      <td>NaN</td>\n",
       "      <td>9662</td>\n",
       "      <td>Pave</td>\n",
       "      <td>NaN</td>\n",
       "      <td>IR1</td>\n",
       "      <td>Lvl</td>\n",
       "      <td>...</td>\n",
       "      <td>0</td>\n",
       "      <td>0</td>\n",
       "      <td>0</td>\n",
       "      <td>NaN</td>\n",
       "      <td>NaN</td>\n",
       "      <td>NaN</td>\n",
       "      <td>0</td>\n",
       "      <td>8</td>\n",
       "      <td>2006</td>\n",
       "      <td>WD</td>\n",
       "    </tr>\n",
       "    <tr>\n",
       "      <th>2</th>\n",
       "      <td>2414</td>\n",
       "      <td>528218130</td>\n",
       "      <td>60</td>\n",
       "      <td>RL</td>\n",
       "      <td>58.0</td>\n",
       "      <td>17104</td>\n",
       "      <td>Pave</td>\n",
       "      <td>NaN</td>\n",
       "      <td>IR1</td>\n",
       "      <td>Lvl</td>\n",
       "      <td>...</td>\n",
       "      <td>0</td>\n",
       "      <td>0</td>\n",
       "      <td>0</td>\n",
       "      <td>NaN</td>\n",
       "      <td>NaN</td>\n",
       "      <td>NaN</td>\n",
       "      <td>0</td>\n",
       "      <td>9</td>\n",
       "      <td>2006</td>\n",
       "      <td>New</td>\n",
       "    </tr>\n",
       "    <tr>\n",
       "      <th>3</th>\n",
       "      <td>1989</td>\n",
       "      <td>902207150</td>\n",
       "      <td>30</td>\n",
       "      <td>RM</td>\n",
       "      <td>60.0</td>\n",
       "      <td>8520</td>\n",
       "      <td>Pave</td>\n",
       "      <td>NaN</td>\n",
       "      <td>Reg</td>\n",
       "      <td>Lvl</td>\n",
       "      <td>...</td>\n",
       "      <td>0</td>\n",
       "      <td>0</td>\n",
       "      <td>0</td>\n",
       "      <td>NaN</td>\n",
       "      <td>NaN</td>\n",
       "      <td>NaN</td>\n",
       "      <td>0</td>\n",
       "      <td>7</td>\n",
       "      <td>2007</td>\n",
       "      <td>WD</td>\n",
       "    </tr>\n",
       "    <tr>\n",
       "      <th>4</th>\n",
       "      <td>625</td>\n",
       "      <td>535105100</td>\n",
       "      <td>20</td>\n",
       "      <td>RL</td>\n",
       "      <td>NaN</td>\n",
       "      <td>9500</td>\n",
       "      <td>Pave</td>\n",
       "      <td>NaN</td>\n",
       "      <td>IR1</td>\n",
       "      <td>Lvl</td>\n",
       "      <td>...</td>\n",
       "      <td>0</td>\n",
       "      <td>185</td>\n",
       "      <td>0</td>\n",
       "      <td>NaN</td>\n",
       "      <td>NaN</td>\n",
       "      <td>NaN</td>\n",
       "      <td>0</td>\n",
       "      <td>7</td>\n",
       "      <td>2009</td>\n",
       "      <td>WD</td>\n",
       "    </tr>\n",
       "    <tr>\n",
       "      <th>5</th>\n",
       "      <td>333</td>\n",
       "      <td>923228370</td>\n",
       "      <td>160</td>\n",
       "      <td>RM</td>\n",
       "      <td>21.0</td>\n",
       "      <td>1890</td>\n",
       "      <td>Pave</td>\n",
       "      <td>NaN</td>\n",
       "      <td>Reg</td>\n",
       "      <td>Lvl</td>\n",
       "      <td>...</td>\n",
       "      <td>0</td>\n",
       "      <td>0</td>\n",
       "      <td>0</td>\n",
       "      <td>NaN</td>\n",
       "      <td>NaN</td>\n",
       "      <td>NaN</td>\n",
       "      <td>0</td>\n",
       "      <td>6</td>\n",
       "      <td>2010</td>\n",
       "      <td>WD</td>\n",
       "    </tr>\n",
       "    <tr>\n",
       "      <th>6</th>\n",
       "      <td>1327</td>\n",
       "      <td>902427150</td>\n",
       "      <td>20</td>\n",
       "      <td>RM</td>\n",
       "      <td>52.0</td>\n",
       "      <td>8516</td>\n",
       "      <td>Pave</td>\n",
       "      <td>NaN</td>\n",
       "      <td>Reg</td>\n",
       "      <td>Lvl</td>\n",
       "      <td>...</td>\n",
       "      <td>0</td>\n",
       "      <td>0</td>\n",
       "      <td>0</td>\n",
       "      <td>NaN</td>\n",
       "      <td>NaN</td>\n",
       "      <td>NaN</td>\n",
       "      <td>0</td>\n",
       "      <td>5</td>\n",
       "      <td>2008</td>\n",
       "      <td>WD</td>\n",
       "    </tr>\n",
       "    <tr>\n",
       "      <th>7</th>\n",
       "      <td>858</td>\n",
       "      <td>907202130</td>\n",
       "      <td>20</td>\n",
       "      <td>RL</td>\n",
       "      <td>NaN</td>\n",
       "      <td>9286</td>\n",
       "      <td>Pave</td>\n",
       "      <td>NaN</td>\n",
       "      <td>IR1</td>\n",
       "      <td>Lvl</td>\n",
       "      <td>...</td>\n",
       "      <td>0</td>\n",
       "      <td>0</td>\n",
       "      <td>0</td>\n",
       "      <td>NaN</td>\n",
       "      <td>NaN</td>\n",
       "      <td>NaN</td>\n",
       "      <td>0</td>\n",
       "      <td>10</td>\n",
       "      <td>2009</td>\n",
       "      <td>WD</td>\n",
       "    </tr>\n",
       "    <tr>\n",
       "      <th>8</th>\n",
       "      <td>95</td>\n",
       "      <td>533208090</td>\n",
       "      <td>160</td>\n",
       "      <td>FV</td>\n",
       "      <td>39.0</td>\n",
       "      <td>3515</td>\n",
       "      <td>Pave</td>\n",
       "      <td>Pave</td>\n",
       "      <td>Reg</td>\n",
       "      <td>Lvl</td>\n",
       "      <td>...</td>\n",
       "      <td>0</td>\n",
       "      <td>0</td>\n",
       "      <td>0</td>\n",
       "      <td>NaN</td>\n",
       "      <td>NaN</td>\n",
       "      <td>NaN</td>\n",
       "      <td>0</td>\n",
       "      <td>1</td>\n",
       "      <td>2010</td>\n",
       "      <td>WD</td>\n",
       "    </tr>\n",
       "    <tr>\n",
       "      <th>9</th>\n",
       "      <td>1568</td>\n",
       "      <td>914476010</td>\n",
       "      <td>20</td>\n",
       "      <td>RL</td>\n",
       "      <td>75.0</td>\n",
       "      <td>10125</td>\n",
       "      <td>Pave</td>\n",
       "      <td>NaN</td>\n",
       "      <td>Reg</td>\n",
       "      <td>Lvl</td>\n",
       "      <td>...</td>\n",
       "      <td>0</td>\n",
       "      <td>0</td>\n",
       "      <td>0</td>\n",
       "      <td>NaN</td>\n",
       "      <td>MnPrv</td>\n",
       "      <td>NaN</td>\n",
       "      <td>0</td>\n",
       "      <td>2</td>\n",
       "      <td>2008</td>\n",
       "      <td>WD</td>\n",
       "    </tr>\n",
       "  </tbody>\n",
       "</table>\n",
       "<p>10 rows × 80 columns</p>\n",
       "</div>"
      ],
      "text/plain": [
       "     id        pid  ms_subclass ms_zoning  lot_frontage  lot_area street  \\\n",
       "0  2658  902301120          190        RM          69.0      9142   Pave   \n",
       "1  2718  905108090           90        RL           NaN      9662   Pave   \n",
       "2  2414  528218130           60        RL          58.0     17104   Pave   \n",
       "3  1989  902207150           30        RM          60.0      8520   Pave   \n",
       "4   625  535105100           20        RL           NaN      9500   Pave   \n",
       "5   333  923228370          160        RM          21.0      1890   Pave   \n",
       "6  1327  902427150           20        RM          52.0      8516   Pave   \n",
       "7   858  907202130           20        RL           NaN      9286   Pave   \n",
       "8    95  533208090          160        FV          39.0      3515   Pave   \n",
       "9  1568  914476010           20        RL          75.0     10125   Pave   \n",
       "\n",
       "  alley lot_shape land_contour  ... 3ssn_porch screen_porch pool_area pool_qc  \\\n",
       "0  Grvl       Reg          Lvl  ...          0            0         0     NaN   \n",
       "1   NaN       IR1          Lvl  ...          0            0         0     NaN   \n",
       "2   NaN       IR1          Lvl  ...          0            0         0     NaN   \n",
       "3   NaN       Reg          Lvl  ...          0            0         0     NaN   \n",
       "4   NaN       IR1          Lvl  ...          0          185         0     NaN   \n",
       "5   NaN       Reg          Lvl  ...          0            0         0     NaN   \n",
       "6   NaN       Reg          Lvl  ...          0            0         0     NaN   \n",
       "7   NaN       IR1          Lvl  ...          0            0         0     NaN   \n",
       "8  Pave       Reg          Lvl  ...          0            0         0     NaN   \n",
       "9   NaN       Reg          Lvl  ...          0            0         0     NaN   \n",
       "\n",
       "   fence misc_feature misc_val mo_sold  yr_sold  sale_type  \n",
       "0    NaN          NaN        0       4     2006        WD   \n",
       "1    NaN          NaN        0       8     2006        WD   \n",
       "2    NaN          NaN        0       9     2006        New  \n",
       "3    NaN          NaN        0       7     2007        WD   \n",
       "4    NaN          NaN        0       7     2009        WD   \n",
       "5    NaN          NaN        0       6     2010        WD   \n",
       "6    NaN          NaN        0       5     2008        WD   \n",
       "7    NaN          NaN        0      10     2009        WD   \n",
       "8    NaN          NaN        0       1     2010        WD   \n",
       "9  MnPrv          NaN        0       2     2008        WD   \n",
       "\n",
       "[10 rows x 80 columns]"
      ]
     },
     "execution_count": 4,
     "metadata": {},
     "output_type": "execute_result"
    }
   ],
   "source": [
    "# display data\n",
    "\n",
    "test.head(10)"
   ]
  },
  {
   "cell_type": "code",
   "execution_count": 5,
   "metadata": {},
   "outputs": [
    {
     "data": {
      "text/plain": [
       "(2051, 81)"
      ]
     },
     "execution_count": 5,
     "metadata": {},
     "output_type": "execute_result"
    }
   ],
   "source": [
    "train.shape"
   ]
  },
  {
   "cell_type": "code",
   "execution_count": 6,
   "metadata": {},
   "outputs": [
    {
     "data": {
      "text/plain": [
       "(879, 80)"
      ]
     },
     "execution_count": 6,
     "metadata": {},
     "output_type": "execute_result"
    }
   ],
   "source": [
    "test.shape"
   ]
  },
  {
   "cell_type": "markdown",
   "metadata": {},
   "source": [
    "id and pid serve the similar function, and pid has no correlation with sales price, hence I will drop pid column."
   ]
  },
  {
   "cell_type": "code",
   "execution_count": 7,
   "metadata": {},
   "outputs": [],
   "source": [
    "# drop pid column\n",
    "\n",
    "train.drop(columns='pid', inplace=True)\n",
    "test.drop(columns='pid', inplace=True)"
   ]
  },
  {
   "cell_type": "markdown",
   "metadata": {},
   "source": [
    "<a id='demo'></a>\n",
    "\n",
    "## Data Dictionary"
   ]
  },
  {
   "cell_type": "markdown",
   "metadata": {},
   "source": [
    "|**Feature**|Type|Description|Values|\n",
    "| :---|:---|:---|:---|\n",
    "|**id**|*int*|ID|Integer|\n",
    "|**ms_subclass**|*int*|The building class|20 1-STORY 1946 & NEWER ALL STYLES <br> 30 1-STORY 1945 & OLDER <br> 40 1-STORY W/FINISHED ATTIC ALL AGES <br> 45 1-1/2 STORY - UNFINISHED ALL AGES <br> 50 1-1/2 STORY FINISHED ALL AGES <br> 60 2-STORY 1946 & NEWER <br> 70 2-STORY 1945 & OLDER <br> 75 2-1/2 STORY ALL AGES <br> 80 SPLIT OR MULTI-LEVEL <br> 85 SPLIT FOYER <br> 90 DUPLEX - ALL STYLES AND AGES <br> 120 1-STORY PUD (Planned Unit Development) - 1946 & NEWER <br> 150 1-1/2 STORY PUD - ALL AGES <br>  160 2-STORY PUD - 1946 & NEWER <br> 180 PUD - MULTILEVEL - INCL SPLIT LEV/FOYER <br> 190 2 FAMILY CONVERSION - ALL STYLES AND AGES <br>|\n",
    "|**ms_zoning**|*object*|Identifies the general zoning classification of the sale|A Agriculture <br> C Commercial <br> FV Floating Village Residential <br> I Industrial <br> RH Residential High Density <br> RL Residential Low Density <br> RP Residential Low Density Park <br> RM Residential Medium Density|\n",
    "|**lot_frontage**|*float*|Linear feet of street connected to property|feet|\n",
    "|**lot_area**|*int*|Lot size in square feet|square feet|\n",
    "|**street**|*object*|Type of road access to property|Grvl Gravel <br> Pave Paved|\n",
    "|**alley**|*object*|Type of alley access to property|Grvl Gravel <br> Pave Paved <br> NA No alley access|\n",
    "|**lot_shape**|*object*|General shape of property|Reg Regular <br> IR1 Slightly irregular <br> IR2 Moderately Irregular <br> IR3 Irregular|\n",
    "|**land_contour**|*object*|Flatness of the property|Lvl Near Flat/Level <br> Bnk Banked - Quick and significant rise from street grade to building <br> HLS Hillside - Significant slope from side to side <br> Low Depression|\n",
    "|**utilities**|*object*|Type of utilities available|AllPub All public Utilities (E,G,W,& S) <br> NoSewr Electricity, Gas, and Water (Septic Tank) <br> NoSeWa Electricity and Gas Only <br> ELO Electricity only|\n",
    "|**lot_config**|*object*|Lot configuration|Inside Inside lot <br> Corner Corner lot <br> CulDSac Cul-de-sac <br>  FR2 Frontage on 2 sides of property <br>  FR3 Frontage on 3 sides of property|\n",
    "|**land_slope**|*object*|Slope of property|Gtl Gentle slope <br> Mod Moderate Slope <br> Sev Severe Slope|\n",
    "|**neighborhood**|*object*|Physical locations within Ames city limits|Blmngtn Bloomington Heights <br> Blueste Bluestem <br> BrDale Briardale <br> BrkSide Brookside <br> ClearCr Clear Creek <br> CollgCr College Creek <br> Crawfor Crawford <br> Edwards Edwards <br> Gilbert Gilbert <br> IDOTRR Iowa DOT and Rail Road <br> MeadowV Meadow Village <br> Mitchel Mitchell <br> Names North Ames <br> NoRidge Northridge <br> NPkVill Northpark Villa <br> NridgHt Northridge Heights <br> NWAmes Northwest Ames <br> OldTown Old Town <br> SWISU South & West of <br> Iowa State University <br> Sawyer Sawyer <br> SawyerW Sawyer West <br> Somerst Somerset <br> StoneBr Stone Brook <br> Timber Timberland <br> Veenker Veenker|\n",
    "|**condition_1**|*object*|Proximity to main road or railroad|Artery Adjacent to arterial street <br> Feedr Adjacent to feeder street <br> Norm Normal <br> RRNn Within 200' of North-South Railroad <br> RRAn Adjacent to North-South Railroad <br> PosN Near positive off-site feature--park, greenbelt, etc. <br> PosA Adjacent to postive off-site feature <br> RRNe Within 200' of East-West Railroad <br> RRAe Adjacent to East-West Railroad|\n",
    "|**condition_2**|*object*|Proximity to main road or railroad (if a second is present|Artery Adjacent to arterial street <br> Feedr Adjacent to feeder street <br> Norm Normal <br>  RRNn Within 200' of North-South Railroad <br>  RRAn Adjacent to North-South Railroad <br>  PosN Near positive off-site feature--park, greenbelt, etc. <br>  PosA Adjacent to postive off-site feature <br>  RRNe Within 200' of East-West Railroad <br>  RRAe Adjacent to East-West Railroad|\n",
    "|**bldg_type**|*object*|Type of dwelling|1Fam Single-family Detached <br> 2FmCon Two-family Conversion; originally built as one-family dwelling <br> Duplx Duplex <br> TwnhsE Townhouse End Unit <br> TwnhsI Townhouse Inside Unit|\n",
    "|**house_style**|*object*|Style of dwelling|1Story One story <br> 1.5Fin One and one-half story: 2nd level finished <br> 1.5Unf One and one-half story: 2nd level unfinished <br> 2Story Two story <br> 2.5Fin Two and one-half story: 2nd level finished <br> 2.5Unf Two and one-half story: 2nd level unfinished <br> SFoyer Split Foyer <br> SLvl Split Level|\n",
    "|**overall_qual**|*int*|Overall material and finish quality|10 Very Excellent <br> 9 Excellent <br> 8 Very Good <br> 7 Good <br> 6 Above Average <br> 5 Average <br> 4 Below Average <br> 3 Fair <br> 2 Poor <br> 1 Very Poor|\n",
    "|**overall_cond**|*int*|Overall condition rating|10 Very Excellent <br> 9 Excellent <br> 8 Very Good <br> 7 Good <br> 6 Above Average <br> 5 Average <br> 4 Below Average <br> 3 Fair <br> 2 Poor <br> 1 Very Poor|\n",
    "|**year_built**|*int*|Original construction date|Year|\n",
    "|**year_remod/add**|*int*|Remodel date (same as construction date if no remodeling or additions)|Year|\n",
    "|**roof_style**|*object*|Type of roof|Flat Flat <br> Gable Gable <br> Gambrel Gabrel (Barn) <br> Hip Hip <br> Mansard Mansard <br> Shed Shed|\n",
    "|**roof_matl**|*object*|Roof material|ClyTile Clay or Tile <br> CompShg Standard (Composite) Shingle <br> Membran Membrane <br> Metal Metal <br> Roll Roll <br> Tar&Grv Gravel & Tar <br> WdShake Wood Shakes <br> WdShngl Wood Shingles|\n",
    "|**exterior_1st**|*object*|Exterior covering on house|AsbShng Asbestos Shingles <br> AsphShn Asphalt Shingles <br> BrkComm Brick Common <br> BrkFace Brick Face <br> CBlock Cinder Block <br> CemntBd Cement Board <br> HdBoard Hard Board <br> ImStucc Imitation Stucco <br> MetalSd Metal Siding <br> Other Other <br> Plywood Plywood <br> PreCast PreCast <br> Stone Stone <br> Stucco Stucco <br> VinylSd Vinyl Siding <br> Wd Sdng Wood Siding <br> WdShing Wood Shingles|\n",
    "|**exterior_2nd**|*object*|Exterior covering on house (if more than one material)|AsbShng Asbestos Shingles <br> AsphShn Asphalt Shingles <br> BrkComm Brick Common <br> BrkFace Brick Face <br> CBlock Cinder Block <br> CemntBd Cement Board <br> HdBoard Hard Board <br> ImStucc Imitation Stucco <br> MetalSd Metal Siding <br> Other Other <br> Plywood Plywood <br> PreCast PreCast <br> Stone Stone <br> Stucco Stucco <br> VinylSd Vinyl Siding <br> Wd Sdng Wood Siding <br> WdShing Wood Shingles|\n",
    "|**mas_vnr_type**|*object*|Masonry veneer type|BrkCmn Brick Common <br> BrkFace Brick Face <br> CBlock Cinder Block <br> None None <br> Stone Stone|\n",
    "|**mas_vnr_area**|*float*|Masonry veneer area in square feet|square feet|\n",
    "|**exter_qual**|*int*|Exterior material quality|Ex Excellent <br> Gd Good <br> TA Average/Typical <br> Fa Fair <br> Po Poor|\n",
    "|**exter_cond**|*object*|Present condition of the material on the exterior|Ex Excellent <br> Gd Good <br> TA Average/Typical <br> Fa Fair <br> Po Poor|\n",
    "|**foundation**|*int*|Type of foundation|BrkTil Brick & Tile <br> CBlock Cinder Block <br> PConc Poured Contrete <br> Slab Slab <br> Stone Stone <br> Wood Wood|\n",
    "|**bsmt_qual**|*object*|Height of the basement|Ex Excellent (100+ inches) <br> Gd Good (90-99 inches) <br> TA Typical (80-89 inches) <br> Fa Fair (70-79 inches) <br> Po Poor (<70 inches) <br> NA No Basement|\n",
    "|**bsmt_cond**|*object*|General condition of the basement|Ex Excellent <br> Gd Good <br> TA Typical - slight dampness allowed <br> Fa Fair - dampness or some cracking or settling <br> Po Poor - Severe cracking, settling, or wetness <br> NA No Basement|\n",
    "|**bsmt_exposure**|*object*|Walkout or garden level basement walls|Gd Good Exposure <br> Av Average Exposure (split levels or foyers typically score average or above) <br> Mn Mimimum Exposure <br> No No Exposure <br> NA No Basement|\n",
    "|**bsmtfin_type_1**|*object*|Quality of basement finished area|GLQ Good Living Quarters <br> ALQ Average Living Quarters <br> BLQ Below Average Living Quarters <br> Rec Average Rec Room <br> LwQ Low Quality <br> Unf Unfinshed <br> NA No Basement|\n",
    "|**bsmtfin_sf_1**|*int*|Type 1 finished square feet|square feet|\n",
    "|**bsmtfin_type_2**|*object*|Quality of second finished area (if present)|GLQ Good Living Quarters <br> ALQ Average Living Quarters <br> BLQ Below Average Living Quarters <br> Rec Average Rec Room <br> LwQ Low Quality <br> Unf Unfinshed <br> NA No Basement|\n",
    "|**bsmtfin_sf_2**|*int*|Type 2 finished square feet|square feet|\n",
    "|**bsmt_unf_sf**|*int*|Unfinished square feet of basement area|square feet|\n",
    "|**total_bsmt_sf**|*int*|Total square feet of basement area|square feet|\n",
    "|**heating**|*object*|Type of heating|Floor Floor Furnace <br> GasA Gas forced warm air furnace <br> GasW Gas hot water or steam heat <br> Grav Gravity furnace <br> OthW Hot water or steam heat other than gas <br> Wall Wall furnace|\n",
    "|**heating_qc**|*object*|Heating quality and condition|Ex Excellent <br> Gd Good <br> TA Average/Typical <br> Fa Fair <br> Po Poor|\n",
    "|**central_air**|*object*|Central air conditioning|N No <br> Y Yes|\n",
    "|**electrical**|*object*|Electrical system|SBrkr Standard Circuit Breakers & Romex <br> FuseA Fuse Box over 60 AMP and all Romex wiring (Average) <br> FuseF 60 AMP Fuse Box and mostly Romex wiring (Fair) <br> FuseP 60 AMP Fuse Box and mostly knob & tube wiring (poor) <br> Mix Mixed|\n",
    "|**1st_flr_sf**|*int*|First Floor square feet|square feet|\n",
    "|**2nd_flr_sf**|*int*|Second Floor square feet|square feet|\n",
    "|**low_qual_fin_sf**|*int*|Low quality finished square feet (all floors)|square feet|\n",
    "|**gr_liv_area**|*int*|Above grade (ground) living area square feet|square feet|\n",
    "|**bsmt_full_bath**|*float*|Basement full bathrooms|Number|\n",
    "|**bsmt_half_bath**|*float*|Basement half bathrooms|Number|\n",
    "|**full_bath**|*int*|Full bathrooms above grade|Integer|\n",
    "|**galf_bath**|*int*|Half baths above grade|Integer|\n",
    "|**bedroom_abvgr**|*int*|Number of bedrooms above basement level|Integer|\n",
    "|**kitchen_abvgr**|*int*|Number of kitchens|Integer|\n",
    "|**kitchen_qual**|*int*|Kitchen quality|Ex Excellent <br> Gd Good <br> TA Average/Typical <br> Fa Fair <br> Po Poor|\n",
    "|**totrms_abvgrd**|*int*|Total rooms above grade (does not include bathrooms)|Integer|\n",
    "|**functional**|*object*|Home functionality rating|Typ Typical Functionality <br> Min1 Minor Deductions 1 <br> Min2 Minor Deductions 2 Mod Moderate Deductions <br> Maj1 Major Deductions 1 <br> Maj2 Major Deductions 2 <br> Sev Severely Damaged <br> Sal Salvage only|\n",
    "|**fireplaces**|*int*|umber of fireplaces|Integer|\n",
    "|**fireplace_qu**|*object*|Fireplac quality|Ex Excellent - Exceptional Masonry Fireplace <br> Gd Good - Masonry Fireplace in main level <br> TA Average - Prefabricated Fireplace in main living area or Masonry Fireplace in basement <br> Fa Fair - Prefabricated Fireplace in basement <br> Po Poor - Ben Franklin Stove <br> NA No Fireplace|\n",
    "|**garage_type**|*object*|Garage location|2Types More than one type of garage <br> Attchd Attached to home <br> Basment Basement Garage <br> BuiltIn Built-In (Garage part of house - typically has room above garage) <br> CarPort Car Port <br> Detchd Detached from home <br> NA No Garage|\n",
    "|**garage_yr_blt**|*int*|Year garage was built|Year|\n",
    "|**garage_finish**|*object*|Interior finish of the garage|Fin Finished <br> RFn Rough Finished <br> Unf Unfinished <br> NA No Garage|\n",
    "|**garage_cars**|*float*|Size of garage in car capacity|Number|\n",
    "|**garage_area**|*float*|Size of garage in square feet|square feet|\n",
    "|**garage_qual**|*object*|Garage quality|Ex Excellent <br> Gd Good <br> TA Average/Typical <br> Fa Fair <br> NA No Garage|\n",
    "|**garage_cond**|*object*|Garage condition|Ex Excellent <br> Gd Good <br> TA Average/Typical <br> Fa Fair <br> NA No Garage|\n",
    "|**paved_drive**|*object*|Paved driveway|vY Paved <br> P Partial Pavement <br> N Dirt/Gravelals|\n",
    "|**wood_deck_sf**|*int*|Wood deck area in square feet|square feet|\n",
    "|**open_porch_sf**|*int*|Open porch area in square feet|square feet|\n",
    "|**enclosed_porch**|*int*|Enclosed porch area in square feet|square feet|\n",
    "|**3ssn_porch**|*int*|Three season porch area in square feet|square feet|\n",
    "|**screen_porch**|*int*|Screen porch area in square feet|square feet|\n",
    "|**pool_area**|*int*|Pool area in square feet||square feet|\n",
    "|**pool_qc**|*object*|Pool quality|Ex Excellent <br> Gd Good <br> TA Average/Typical <br> Fa Fair <br> NA No Pool|\n",
    "|**fence**|*object*|Fence quality|GdPrv Good Privacy <br> MnPrv Minimum Privacy <br> GdWo Good Wood <br> MnWw Minimum Wood/Wire <br> NA No Fence|\n",
    "|**misc_feature**|*object*|Miscellaneous feature not covered in other categories|Elev Elevator <br> Gar2 2nd Garage (if not described in garage section) <br> Othr Other <br> Shed Shed (over 100 SF) <br> TenC Tennis Court <br> NA None|\n",
    "|**misc_val**|*int*|$Value of miscellaneous feature|USD|\n",
    "|**mo_sold**|*int*|Month Sold|Month|\n",
    "|**yr_sold**|*int*|Sold|Year|\n",
    "|**sale_type**|*object*|Type of sale|WD Warranty Deed - Conventional <br> CWD Warranty Deed - Cash <br> VWD Warranty Deed - VA Loan <br> New Home just constructed and sold <br> COD Court Officer Deed/Estate <br> Con Contract 15% Down payment regular terms <br> ConLw Contract Low Down payment and low interest <br> ConLI Contract Low Interest <br> ConLD Contract Low Down <br> Oth Other|\n",
    "|**saleprice**|*int*|The property's sale price in dollars. |USD|"
   ]
  },
  {
   "cell_type": "markdown",
   "metadata": {},
   "source": [
    "## Data Exploration"
   ]
  },
  {
   "cell_type": "markdown",
   "metadata": {},
   "source": [
    "After dropping pid column in both train and test set, there are 80 columns in train set, and 79 columns in test set. In test set, sales price column is missing and that is the value we are going to predict making use of the model we will develop in this project."
   ]
  },
  {
   "cell_type": "code",
   "execution_count": 8,
   "metadata": {},
   "outputs": [
    {
     "data": {
      "text/plain": [
       "(2051, 80)"
      ]
     },
     "execution_count": 8,
     "metadata": {},
     "output_type": "execute_result"
    }
   ],
   "source": [
    "train.shape"
   ]
  },
  {
   "cell_type": "code",
   "execution_count": 9,
   "metadata": {},
   "outputs": [
    {
     "data": {
      "text/plain": [
       "(879, 79)"
      ]
     },
     "execution_count": 9,
     "metadata": {},
     "output_type": "execute_result"
    }
   ],
   "source": [
    "test.shape"
   ]
  },
  {
   "cell_type": "code",
   "execution_count": 10,
   "metadata": {},
   "outputs": [
    {
     "data": {
      "text/html": [
       "<div>\n",
       "<style scoped>\n",
       "    .dataframe tbody tr th:only-of-type {\n",
       "        vertical-align: middle;\n",
       "    }\n",
       "\n",
       "    .dataframe tbody tr th {\n",
       "        vertical-align: top;\n",
       "    }\n",
       "\n",
       "    .dataframe thead th {\n",
       "        text-align: right;\n",
       "    }\n",
       "</style>\n",
       "<table border=\"1\" class=\"dataframe\">\n",
       "  <thead>\n",
       "    <tr style=\"text-align: right;\">\n",
       "      <th></th>\n",
       "      <th>id</th>\n",
       "      <th>ms_subclass</th>\n",
       "      <th>lot_frontage</th>\n",
       "      <th>lot_area</th>\n",
       "      <th>overall_qual</th>\n",
       "      <th>overall_cond</th>\n",
       "      <th>year_built</th>\n",
       "      <th>year_remod/add</th>\n",
       "      <th>mas_vnr_area</th>\n",
       "      <th>bsmtfin_sf_1</th>\n",
       "      <th>...</th>\n",
       "      <th>wood_deck_sf</th>\n",
       "      <th>open_porch_sf</th>\n",
       "      <th>enclosed_porch</th>\n",
       "      <th>3ssn_porch</th>\n",
       "      <th>screen_porch</th>\n",
       "      <th>pool_area</th>\n",
       "      <th>misc_val</th>\n",
       "      <th>mo_sold</th>\n",
       "      <th>yr_sold</th>\n",
       "      <th>saleprice</th>\n",
       "    </tr>\n",
       "  </thead>\n",
       "  <tbody>\n",
       "    <tr>\n",
       "      <th>count</th>\n",
       "      <td>2051.000000</td>\n",
       "      <td>2051.000000</td>\n",
       "      <td>1721.000000</td>\n",
       "      <td>2051.000000</td>\n",
       "      <td>2051.000000</td>\n",
       "      <td>2051.000000</td>\n",
       "      <td>2051.000000</td>\n",
       "      <td>2051.000000</td>\n",
       "      <td>2029.000000</td>\n",
       "      <td>2050.000000</td>\n",
       "      <td>...</td>\n",
       "      <td>2051.000000</td>\n",
       "      <td>2051.000000</td>\n",
       "      <td>2051.000000</td>\n",
       "      <td>2051.000000</td>\n",
       "      <td>2051.000000</td>\n",
       "      <td>2051.000000</td>\n",
       "      <td>2051.000000</td>\n",
       "      <td>2051.000000</td>\n",
       "      <td>2051.000000</td>\n",
       "      <td>2051.000000</td>\n",
       "    </tr>\n",
       "    <tr>\n",
       "      <th>mean</th>\n",
       "      <td>1474.033642</td>\n",
       "      <td>57.008776</td>\n",
       "      <td>69.055200</td>\n",
       "      <td>10065.208191</td>\n",
       "      <td>6.112140</td>\n",
       "      <td>5.562165</td>\n",
       "      <td>1971.708922</td>\n",
       "      <td>1984.190151</td>\n",
       "      <td>99.695909</td>\n",
       "      <td>442.300488</td>\n",
       "      <td>...</td>\n",
       "      <td>93.833740</td>\n",
       "      <td>47.556802</td>\n",
       "      <td>22.571916</td>\n",
       "      <td>2.591419</td>\n",
       "      <td>16.511458</td>\n",
       "      <td>2.397855</td>\n",
       "      <td>51.574354</td>\n",
       "      <td>6.219893</td>\n",
       "      <td>2007.775719</td>\n",
       "      <td>181469.701609</td>\n",
       "    </tr>\n",
       "    <tr>\n",
       "      <th>std</th>\n",
       "      <td>843.980841</td>\n",
       "      <td>42.824223</td>\n",
       "      <td>23.260653</td>\n",
       "      <td>6742.488909</td>\n",
       "      <td>1.426271</td>\n",
       "      <td>1.104497</td>\n",
       "      <td>30.177889</td>\n",
       "      <td>21.036250</td>\n",
       "      <td>174.963129</td>\n",
       "      <td>461.204124</td>\n",
       "      <td>...</td>\n",
       "      <td>128.549416</td>\n",
       "      <td>66.747241</td>\n",
       "      <td>59.845110</td>\n",
       "      <td>25.229615</td>\n",
       "      <td>57.374204</td>\n",
       "      <td>37.782570</td>\n",
       "      <td>573.393985</td>\n",
       "      <td>2.744736</td>\n",
       "      <td>1.312014</td>\n",
       "      <td>79258.659352</td>\n",
       "    </tr>\n",
       "    <tr>\n",
       "      <th>min</th>\n",
       "      <td>1.000000</td>\n",
       "      <td>20.000000</td>\n",
       "      <td>21.000000</td>\n",
       "      <td>1300.000000</td>\n",
       "      <td>1.000000</td>\n",
       "      <td>1.000000</td>\n",
       "      <td>1872.000000</td>\n",
       "      <td>1950.000000</td>\n",
       "      <td>0.000000</td>\n",
       "      <td>0.000000</td>\n",
       "      <td>...</td>\n",
       "      <td>0.000000</td>\n",
       "      <td>0.000000</td>\n",
       "      <td>0.000000</td>\n",
       "      <td>0.000000</td>\n",
       "      <td>0.000000</td>\n",
       "      <td>0.000000</td>\n",
       "      <td>0.000000</td>\n",
       "      <td>1.000000</td>\n",
       "      <td>2006.000000</td>\n",
       "      <td>12789.000000</td>\n",
       "    </tr>\n",
       "    <tr>\n",
       "      <th>25%</th>\n",
       "      <td>753.500000</td>\n",
       "      <td>20.000000</td>\n",
       "      <td>58.000000</td>\n",
       "      <td>7500.000000</td>\n",
       "      <td>5.000000</td>\n",
       "      <td>5.000000</td>\n",
       "      <td>1953.500000</td>\n",
       "      <td>1964.500000</td>\n",
       "      <td>0.000000</td>\n",
       "      <td>0.000000</td>\n",
       "      <td>...</td>\n",
       "      <td>0.000000</td>\n",
       "      <td>0.000000</td>\n",
       "      <td>0.000000</td>\n",
       "      <td>0.000000</td>\n",
       "      <td>0.000000</td>\n",
       "      <td>0.000000</td>\n",
       "      <td>0.000000</td>\n",
       "      <td>4.000000</td>\n",
       "      <td>2007.000000</td>\n",
       "      <td>129825.000000</td>\n",
       "    </tr>\n",
       "    <tr>\n",
       "      <th>50%</th>\n",
       "      <td>1486.000000</td>\n",
       "      <td>50.000000</td>\n",
       "      <td>68.000000</td>\n",
       "      <td>9430.000000</td>\n",
       "      <td>6.000000</td>\n",
       "      <td>5.000000</td>\n",
       "      <td>1974.000000</td>\n",
       "      <td>1993.000000</td>\n",
       "      <td>0.000000</td>\n",
       "      <td>368.000000</td>\n",
       "      <td>...</td>\n",
       "      <td>0.000000</td>\n",
       "      <td>27.000000</td>\n",
       "      <td>0.000000</td>\n",
       "      <td>0.000000</td>\n",
       "      <td>0.000000</td>\n",
       "      <td>0.000000</td>\n",
       "      <td>0.000000</td>\n",
       "      <td>6.000000</td>\n",
       "      <td>2008.000000</td>\n",
       "      <td>162500.000000</td>\n",
       "    </tr>\n",
       "    <tr>\n",
       "      <th>75%</th>\n",
       "      <td>2198.000000</td>\n",
       "      <td>70.000000</td>\n",
       "      <td>80.000000</td>\n",
       "      <td>11513.500000</td>\n",
       "      <td>7.000000</td>\n",
       "      <td>6.000000</td>\n",
       "      <td>2001.000000</td>\n",
       "      <td>2004.000000</td>\n",
       "      <td>161.000000</td>\n",
       "      <td>733.750000</td>\n",
       "      <td>...</td>\n",
       "      <td>168.000000</td>\n",
       "      <td>70.000000</td>\n",
       "      <td>0.000000</td>\n",
       "      <td>0.000000</td>\n",
       "      <td>0.000000</td>\n",
       "      <td>0.000000</td>\n",
       "      <td>0.000000</td>\n",
       "      <td>8.000000</td>\n",
       "      <td>2009.000000</td>\n",
       "      <td>214000.000000</td>\n",
       "    </tr>\n",
       "    <tr>\n",
       "      <th>max</th>\n",
       "      <td>2930.000000</td>\n",
       "      <td>190.000000</td>\n",
       "      <td>313.000000</td>\n",
       "      <td>159000.000000</td>\n",
       "      <td>10.000000</td>\n",
       "      <td>9.000000</td>\n",
       "      <td>2010.000000</td>\n",
       "      <td>2010.000000</td>\n",
       "      <td>1600.000000</td>\n",
       "      <td>5644.000000</td>\n",
       "      <td>...</td>\n",
       "      <td>1424.000000</td>\n",
       "      <td>547.000000</td>\n",
       "      <td>432.000000</td>\n",
       "      <td>508.000000</td>\n",
       "      <td>490.000000</td>\n",
       "      <td>800.000000</td>\n",
       "      <td>17000.000000</td>\n",
       "      <td>12.000000</td>\n",
       "      <td>2010.000000</td>\n",
       "      <td>611657.000000</td>\n",
       "    </tr>\n",
       "  </tbody>\n",
       "</table>\n",
       "<p>8 rows × 38 columns</p>\n",
       "</div>"
      ],
      "text/plain": [
       "                id  ms_subclass  lot_frontage       lot_area  overall_qual  \\\n",
       "count  2051.000000  2051.000000   1721.000000    2051.000000   2051.000000   \n",
       "mean   1474.033642    57.008776     69.055200   10065.208191      6.112140   \n",
       "std     843.980841    42.824223     23.260653    6742.488909      1.426271   \n",
       "min       1.000000    20.000000     21.000000    1300.000000      1.000000   \n",
       "25%     753.500000    20.000000     58.000000    7500.000000      5.000000   \n",
       "50%    1486.000000    50.000000     68.000000    9430.000000      6.000000   \n",
       "75%    2198.000000    70.000000     80.000000   11513.500000      7.000000   \n",
       "max    2930.000000   190.000000    313.000000  159000.000000     10.000000   \n",
       "\n",
       "       overall_cond   year_built  year_remod/add  mas_vnr_area  bsmtfin_sf_1  \\\n",
       "count   2051.000000  2051.000000     2051.000000   2029.000000   2050.000000   \n",
       "mean       5.562165  1971.708922     1984.190151     99.695909    442.300488   \n",
       "std        1.104497    30.177889       21.036250    174.963129    461.204124   \n",
       "min        1.000000  1872.000000     1950.000000      0.000000      0.000000   \n",
       "25%        5.000000  1953.500000     1964.500000      0.000000      0.000000   \n",
       "50%        5.000000  1974.000000     1993.000000      0.000000    368.000000   \n",
       "75%        6.000000  2001.000000     2004.000000    161.000000    733.750000   \n",
       "max        9.000000  2010.000000     2010.000000   1600.000000   5644.000000   \n",
       "\n",
       "       ...  wood_deck_sf  open_porch_sf  enclosed_porch   3ssn_porch  \\\n",
       "count  ...   2051.000000    2051.000000     2051.000000  2051.000000   \n",
       "mean   ...     93.833740      47.556802       22.571916     2.591419   \n",
       "std    ...    128.549416      66.747241       59.845110    25.229615   \n",
       "min    ...      0.000000       0.000000        0.000000     0.000000   \n",
       "25%    ...      0.000000       0.000000        0.000000     0.000000   \n",
       "50%    ...      0.000000      27.000000        0.000000     0.000000   \n",
       "75%    ...    168.000000      70.000000        0.000000     0.000000   \n",
       "max    ...   1424.000000     547.000000      432.000000   508.000000   \n",
       "\n",
       "       screen_porch    pool_area      misc_val      mo_sold      yr_sold  \\\n",
       "count   2051.000000  2051.000000   2051.000000  2051.000000  2051.000000   \n",
       "mean      16.511458     2.397855     51.574354     6.219893  2007.775719   \n",
       "std       57.374204    37.782570    573.393985     2.744736     1.312014   \n",
       "min        0.000000     0.000000      0.000000     1.000000  2006.000000   \n",
       "25%        0.000000     0.000000      0.000000     4.000000  2007.000000   \n",
       "50%        0.000000     0.000000      0.000000     6.000000  2008.000000   \n",
       "75%        0.000000     0.000000      0.000000     8.000000  2009.000000   \n",
       "max      490.000000   800.000000  17000.000000    12.000000  2010.000000   \n",
       "\n",
       "           saleprice  \n",
       "count    2051.000000  \n",
       "mean   181469.701609  \n",
       "std     79258.659352  \n",
       "min     12789.000000  \n",
       "25%    129825.000000  \n",
       "50%    162500.000000  \n",
       "75%    214000.000000  \n",
       "max    611657.000000  \n",
       "\n",
       "[8 rows x 38 columns]"
      ]
     },
     "execution_count": 10,
     "metadata": {},
     "output_type": "execute_result"
    }
   ],
   "source": [
    "# summary statistics\n",
    "\n",
    "train.describe()"
   ]
  },
  {
   "cell_type": "code",
   "execution_count": 11,
   "metadata": {},
   "outputs": [
    {
     "data": {
      "text/html": [
       "<div>\n",
       "<style scoped>\n",
       "    .dataframe tbody tr th:only-of-type {\n",
       "        vertical-align: middle;\n",
       "    }\n",
       "\n",
       "    .dataframe tbody tr th {\n",
       "        vertical-align: top;\n",
       "    }\n",
       "\n",
       "    .dataframe thead th {\n",
       "        text-align: right;\n",
       "    }\n",
       "</style>\n",
       "<table border=\"1\" class=\"dataframe\">\n",
       "  <thead>\n",
       "    <tr style=\"text-align: right;\">\n",
       "      <th></th>\n",
       "      <th>id</th>\n",
       "      <th>ms_subclass</th>\n",
       "      <th>lot_frontage</th>\n",
       "      <th>lot_area</th>\n",
       "      <th>overall_qual</th>\n",
       "      <th>overall_cond</th>\n",
       "      <th>year_built</th>\n",
       "      <th>year_remod/add</th>\n",
       "      <th>mas_vnr_area</th>\n",
       "      <th>bsmtfin_sf_1</th>\n",
       "      <th>...</th>\n",
       "      <th>garage_area</th>\n",
       "      <th>wood_deck_sf</th>\n",
       "      <th>open_porch_sf</th>\n",
       "      <th>enclosed_porch</th>\n",
       "      <th>3ssn_porch</th>\n",
       "      <th>screen_porch</th>\n",
       "      <th>pool_area</th>\n",
       "      <th>misc_val</th>\n",
       "      <th>mo_sold</th>\n",
       "      <th>yr_sold</th>\n",
       "    </tr>\n",
       "  </thead>\n",
       "  <tbody>\n",
       "    <tr>\n",
       "      <th>count</th>\n",
       "      <td>879.000000</td>\n",
       "      <td>879.000000</td>\n",
       "      <td>719.000000</td>\n",
       "      <td>879.000000</td>\n",
       "      <td>879.000000</td>\n",
       "      <td>879.000000</td>\n",
       "      <td>879.000000</td>\n",
       "      <td>879.000000</td>\n",
       "      <td>878.000000</td>\n",
       "      <td>879.000000</td>\n",
       "      <td>...</td>\n",
       "      <td>879.000000</td>\n",
       "      <td>879.000000</td>\n",
       "      <td>879.000000</td>\n",
       "      <td>879.000000</td>\n",
       "      <td>879.000000</td>\n",
       "      <td>879.000000</td>\n",
       "      <td>879.000000</td>\n",
       "      <td>879.000000</td>\n",
       "      <td>879.000000</td>\n",
       "      <td>879.000000</td>\n",
       "    </tr>\n",
       "    <tr>\n",
       "      <th>mean</th>\n",
       "      <td>1445.588168</td>\n",
       "      <td>58.270762</td>\n",
       "      <td>69.630042</td>\n",
       "      <td>10340.920364</td>\n",
       "      <td>6.054608</td>\n",
       "      <td>5.565415</td>\n",
       "      <td>1970.533561</td>\n",
       "      <td>1984.444824</td>\n",
       "      <td>106.982916</td>\n",
       "      <td>443.397042</td>\n",
       "      <td>...</td>\n",
       "      <td>470.832765</td>\n",
       "      <td>93.560865</td>\n",
       "      <td>47.478953</td>\n",
       "      <td>24.037543</td>\n",
       "      <td>2.594994</td>\n",
       "      <td>14.813424</td>\n",
       "      <td>1.882821</td>\n",
       "      <td>48.443686</td>\n",
       "      <td>6.207053</td>\n",
       "      <td>2007.824801</td>\n",
       "    </tr>\n",
       "    <tr>\n",
       "      <th>std</th>\n",
       "      <td>850.717105</td>\n",
       "      <td>42.211389</td>\n",
       "      <td>23.625372</td>\n",
       "      <td>10047.335167</td>\n",
       "      <td>1.374756</td>\n",
       "      <td>1.128422</td>\n",
       "      <td>30.403527</td>\n",
       "      <td>20.454546</td>\n",
       "      <td>188.356829</td>\n",
       "      <td>442.480223</td>\n",
       "      <td>...</td>\n",
       "      <td>213.070155</td>\n",
       "      <td>121.174306</td>\n",
       "      <td>69.209179</td>\n",
       "      <td>73.212237</td>\n",
       "      <td>24.948416</td>\n",
       "      <td>52.975963</td>\n",
       "      <td>29.899698</td>\n",
       "      <td>549.858353</td>\n",
       "      <td>2.644097</td>\n",
       "      <td>1.327396</td>\n",
       "    </tr>\n",
       "    <tr>\n",
       "      <th>min</th>\n",
       "      <td>2.000000</td>\n",
       "      <td>20.000000</td>\n",
       "      <td>21.000000</td>\n",
       "      <td>1477.000000</td>\n",
       "      <td>2.000000</td>\n",
       "      <td>1.000000</td>\n",
       "      <td>1880.000000</td>\n",
       "      <td>1950.000000</td>\n",
       "      <td>0.000000</td>\n",
       "      <td>0.000000</td>\n",
       "      <td>...</td>\n",
       "      <td>0.000000</td>\n",
       "      <td>0.000000</td>\n",
       "      <td>0.000000</td>\n",
       "      <td>0.000000</td>\n",
       "      <td>0.000000</td>\n",
       "      <td>0.000000</td>\n",
       "      <td>0.000000</td>\n",
       "      <td>0.000000</td>\n",
       "      <td>1.000000</td>\n",
       "      <td>2006.000000</td>\n",
       "    </tr>\n",
       "    <tr>\n",
       "      <th>25%</th>\n",
       "      <td>692.500000</td>\n",
       "      <td>20.000000</td>\n",
       "      <td>59.000000</td>\n",
       "      <td>7298.500000</td>\n",
       "      <td>5.000000</td>\n",
       "      <td>5.000000</td>\n",
       "      <td>1954.000000</td>\n",
       "      <td>1967.000000</td>\n",
       "      <td>0.000000</td>\n",
       "      <td>0.000000</td>\n",
       "      <td>...</td>\n",
       "      <td>323.000000</td>\n",
       "      <td>0.000000</td>\n",
       "      <td>0.000000</td>\n",
       "      <td>0.000000</td>\n",
       "      <td>0.000000</td>\n",
       "      <td>0.000000</td>\n",
       "      <td>0.000000</td>\n",
       "      <td>0.000000</td>\n",
       "      <td>5.000000</td>\n",
       "      <td>2007.000000</td>\n",
       "    </tr>\n",
       "    <tr>\n",
       "      <th>50%</th>\n",
       "      <td>1435.000000</td>\n",
       "      <td>50.000000</td>\n",
       "      <td>68.000000</td>\n",
       "      <td>9453.000000</td>\n",
       "      <td>6.000000</td>\n",
       "      <td>5.000000</td>\n",
       "      <td>1972.000000</td>\n",
       "      <td>1992.000000</td>\n",
       "      <td>0.000000</td>\n",
       "      <td>374.000000</td>\n",
       "      <td>...</td>\n",
       "      <td>473.000000</td>\n",
       "      <td>0.000000</td>\n",
       "      <td>27.000000</td>\n",
       "      <td>0.000000</td>\n",
       "      <td>0.000000</td>\n",
       "      <td>0.000000</td>\n",
       "      <td>0.000000</td>\n",
       "      <td>0.000000</td>\n",
       "      <td>6.000000</td>\n",
       "      <td>2008.000000</td>\n",
       "    </tr>\n",
       "    <tr>\n",
       "      <th>75%</th>\n",
       "      <td>2197.000000</td>\n",
       "      <td>70.000000</td>\n",
       "      <td>80.000000</td>\n",
       "      <td>11606.500000</td>\n",
       "      <td>7.000000</td>\n",
       "      <td>6.000000</td>\n",
       "      <td>2000.000000</td>\n",
       "      <td>2003.000000</td>\n",
       "      <td>173.500000</td>\n",
       "      <td>735.500000</td>\n",
       "      <td>...</td>\n",
       "      <td>576.000000</td>\n",
       "      <td>171.000000</td>\n",
       "      <td>70.000000</td>\n",
       "      <td>0.000000</td>\n",
       "      <td>0.000000</td>\n",
       "      <td>0.000000</td>\n",
       "      <td>0.000000</td>\n",
       "      <td>0.000000</td>\n",
       "      <td>8.000000</td>\n",
       "      <td>2009.000000</td>\n",
       "    </tr>\n",
       "    <tr>\n",
       "      <th>max</th>\n",
       "      <td>2928.000000</td>\n",
       "      <td>190.000000</td>\n",
       "      <td>182.000000</td>\n",
       "      <td>215245.000000</td>\n",
       "      <td>10.000000</td>\n",
       "      <td>9.000000</td>\n",
       "      <td>2010.000000</td>\n",
       "      <td>2010.000000</td>\n",
       "      <td>1378.000000</td>\n",
       "      <td>2288.000000</td>\n",
       "      <td>...</td>\n",
       "      <td>1488.000000</td>\n",
       "      <td>690.000000</td>\n",
       "      <td>742.000000</td>\n",
       "      <td>1012.000000</td>\n",
       "      <td>360.000000</td>\n",
       "      <td>576.000000</td>\n",
       "      <td>555.000000</td>\n",
       "      <td>15500.000000</td>\n",
       "      <td>12.000000</td>\n",
       "      <td>2010.000000</td>\n",
       "    </tr>\n",
       "  </tbody>\n",
       "</table>\n",
       "<p>8 rows × 37 columns</p>\n",
       "</div>"
      ],
      "text/plain": [
       "                id  ms_subclass  lot_frontage       lot_area  overall_qual  \\\n",
       "count   879.000000   879.000000    719.000000     879.000000    879.000000   \n",
       "mean   1445.588168    58.270762     69.630042   10340.920364      6.054608   \n",
       "std     850.717105    42.211389     23.625372   10047.335167      1.374756   \n",
       "min       2.000000    20.000000     21.000000    1477.000000      2.000000   \n",
       "25%     692.500000    20.000000     59.000000    7298.500000      5.000000   \n",
       "50%    1435.000000    50.000000     68.000000    9453.000000      6.000000   \n",
       "75%    2197.000000    70.000000     80.000000   11606.500000      7.000000   \n",
       "max    2928.000000   190.000000    182.000000  215245.000000     10.000000   \n",
       "\n",
       "       overall_cond   year_built  year_remod/add  mas_vnr_area  bsmtfin_sf_1  \\\n",
       "count    879.000000   879.000000      879.000000    878.000000    879.000000   \n",
       "mean       5.565415  1970.533561     1984.444824    106.982916    443.397042   \n",
       "std        1.128422    30.403527       20.454546    188.356829    442.480223   \n",
       "min        1.000000  1880.000000     1950.000000      0.000000      0.000000   \n",
       "25%        5.000000  1954.000000     1967.000000      0.000000      0.000000   \n",
       "50%        5.000000  1972.000000     1992.000000      0.000000    374.000000   \n",
       "75%        6.000000  2000.000000     2003.000000    173.500000    735.500000   \n",
       "max        9.000000  2010.000000     2010.000000   1378.000000   2288.000000   \n",
       "\n",
       "       ...  garage_area  wood_deck_sf  open_porch_sf  enclosed_porch  \\\n",
       "count  ...   879.000000    879.000000     879.000000      879.000000   \n",
       "mean   ...   470.832765     93.560865      47.478953       24.037543   \n",
       "std    ...   213.070155    121.174306      69.209179       73.212237   \n",
       "min    ...     0.000000      0.000000       0.000000        0.000000   \n",
       "25%    ...   323.000000      0.000000       0.000000        0.000000   \n",
       "50%    ...   473.000000      0.000000      27.000000        0.000000   \n",
       "75%    ...   576.000000    171.000000      70.000000        0.000000   \n",
       "max    ...  1488.000000    690.000000     742.000000     1012.000000   \n",
       "\n",
       "       3ssn_porch  screen_porch   pool_area      misc_val     mo_sold  \\\n",
       "count  879.000000    879.000000  879.000000    879.000000  879.000000   \n",
       "mean     2.594994     14.813424    1.882821     48.443686    6.207053   \n",
       "std     24.948416     52.975963   29.899698    549.858353    2.644097   \n",
       "min      0.000000      0.000000    0.000000      0.000000    1.000000   \n",
       "25%      0.000000      0.000000    0.000000      0.000000    5.000000   \n",
       "50%      0.000000      0.000000    0.000000      0.000000    6.000000   \n",
       "75%      0.000000      0.000000    0.000000      0.000000    8.000000   \n",
       "max    360.000000    576.000000  555.000000  15500.000000   12.000000   \n",
       "\n",
       "           yr_sold  \n",
       "count   879.000000  \n",
       "mean   2007.824801  \n",
       "std       1.327396  \n",
       "min    2006.000000  \n",
       "25%    2007.000000  \n",
       "50%    2008.000000  \n",
       "75%    2009.000000  \n",
       "max    2010.000000  \n",
       "\n",
       "[8 rows x 37 columns]"
      ]
     },
     "execution_count": 11,
     "metadata": {},
     "output_type": "execute_result"
    }
   ],
   "source": [
    "# summary statistics\n",
    "\n",
    "test.describe()"
   ]
  },
  {
   "cell_type": "code",
   "execution_count": 12,
   "metadata": {},
   "outputs": [
    {
     "name": "stdout",
     "output_type": "stream",
     "text": [
      "<class 'pandas.core.frame.DataFrame'>\n",
      "RangeIndex: 2051 entries, 0 to 2050\n",
      "Data columns (total 80 columns):\n",
      " #   Column           Non-Null Count  Dtype  \n",
      "---  ------           --------------  -----  \n",
      " 0   id               2051 non-null   int64  \n",
      " 1   ms_subclass      2051 non-null   int64  \n",
      " 2   ms_zoning        2051 non-null   object \n",
      " 3   lot_frontage     1721 non-null   float64\n",
      " 4   lot_area         2051 non-null   int64  \n",
      " 5   street           2051 non-null   object \n",
      " 6   alley            140 non-null    object \n",
      " 7   lot_shape        2051 non-null   object \n",
      " 8   land_contour     2051 non-null   object \n",
      " 9   utilities        2051 non-null   object \n",
      " 10  lot_config       2051 non-null   object \n",
      " 11  land_slope       2051 non-null   object \n",
      " 12  neighborhood     2051 non-null   object \n",
      " 13  condition_1      2051 non-null   object \n",
      " 14  condition_2      2051 non-null   object \n",
      " 15  bldg_type        2051 non-null   object \n",
      " 16  house_style      2051 non-null   object \n",
      " 17  overall_qual     2051 non-null   int64  \n",
      " 18  overall_cond     2051 non-null   int64  \n",
      " 19  year_built       2051 non-null   int64  \n",
      " 20  year_remod/add   2051 non-null   int64  \n",
      " 21  roof_style       2051 non-null   object \n",
      " 22  roof_matl        2051 non-null   object \n",
      " 23  exterior_1st     2051 non-null   object \n",
      " 24  exterior_2nd     2051 non-null   object \n",
      " 25  mas_vnr_type     2029 non-null   object \n",
      " 26  mas_vnr_area     2029 non-null   float64\n",
      " 27  exter_qual       2051 non-null   object \n",
      " 28  exter_cond       2051 non-null   object \n",
      " 29  foundation       2051 non-null   object \n",
      " 30  bsmt_qual        1996 non-null   object \n",
      " 31  bsmt_cond        1996 non-null   object \n",
      " 32  bsmt_exposure    1993 non-null   object \n",
      " 33  bsmtfin_type_1   1996 non-null   object \n",
      " 34  bsmtfin_sf_1     2050 non-null   float64\n",
      " 35  bsmtfin_type_2   1995 non-null   object \n",
      " 36  bsmtfin_sf_2     2050 non-null   float64\n",
      " 37  bsmt_unf_sf      2050 non-null   float64\n",
      " 38  total_bsmt_sf    2050 non-null   float64\n",
      " 39  heating          2051 non-null   object \n",
      " 40  heating_qc       2051 non-null   object \n",
      " 41  central_air      2051 non-null   object \n",
      " 42  electrical       2051 non-null   object \n",
      " 43  1st_flr_sf       2051 non-null   int64  \n",
      " 44  2nd_flr_sf       2051 non-null   int64  \n",
      " 45  low_qual_fin_sf  2051 non-null   int64  \n",
      " 46  gr_liv_area      2051 non-null   int64  \n",
      " 47  bsmt_full_bath   2049 non-null   float64\n",
      " 48  bsmt_half_bath   2049 non-null   float64\n",
      " 49  full_bath        2051 non-null   int64  \n",
      " 50  half_bath        2051 non-null   int64  \n",
      " 51  bedroom_abvgr    2051 non-null   int64  \n",
      " 52  kitchen_abvgr    2051 non-null   int64  \n",
      " 53  kitchen_qual     2051 non-null   object \n",
      " 54  totrms_abvgrd    2051 non-null   int64  \n",
      " 55  functional       2051 non-null   object \n",
      " 56  fireplaces       2051 non-null   int64  \n",
      " 57  fireplace_qu     1051 non-null   object \n",
      " 58  garage_type      1938 non-null   object \n",
      " 59  garage_yr_blt    1937 non-null   float64\n",
      " 60  garage_finish    1937 non-null   object \n",
      " 61  garage_cars      2050 non-null   float64\n",
      " 62  garage_area      2050 non-null   float64\n",
      " 63  garage_qual      1937 non-null   object \n",
      " 64  garage_cond      1937 non-null   object \n",
      " 65  paved_drive      2051 non-null   object \n",
      " 66  wood_deck_sf     2051 non-null   int64  \n",
      " 67  open_porch_sf    2051 non-null   int64  \n",
      " 68  enclosed_porch   2051 non-null   int64  \n",
      " 69  3ssn_porch       2051 non-null   int64  \n",
      " 70  screen_porch     2051 non-null   int64  \n",
      " 71  pool_area        2051 non-null   int64  \n",
      " 72  pool_qc          9 non-null      object \n",
      " 73  fence            400 non-null    object \n",
      " 74  misc_feature     65 non-null     object \n",
      " 75  misc_val         2051 non-null   int64  \n",
      " 76  mo_sold          2051 non-null   int64  \n",
      " 77  yr_sold          2051 non-null   int64  \n",
      " 78  sale_type        2051 non-null   object \n",
      " 79  saleprice        2051 non-null   int64  \n",
      "dtypes: float64(11), int64(27), object(42)\n",
      "memory usage: 1.3+ MB\n"
     ]
    }
   ],
   "source": [
    "# check column data types\n",
    "\n",
    "train.info()"
   ]
  },
  {
   "cell_type": "code",
   "execution_count": 13,
   "metadata": {},
   "outputs": [
    {
     "name": "stdout",
     "output_type": "stream",
     "text": [
      "<class 'pandas.core.frame.DataFrame'>\n",
      "RangeIndex: 879 entries, 0 to 878\n",
      "Data columns (total 79 columns):\n",
      " #   Column           Non-Null Count  Dtype  \n",
      "---  ------           --------------  -----  \n",
      " 0   id               879 non-null    int64  \n",
      " 1   ms_subclass      879 non-null    int64  \n",
      " 2   ms_zoning        879 non-null    object \n",
      " 3   lot_frontage     719 non-null    float64\n",
      " 4   lot_area         879 non-null    int64  \n",
      " 5   street           879 non-null    object \n",
      " 6   alley            58 non-null     object \n",
      " 7   lot_shape        879 non-null    object \n",
      " 8   land_contour     879 non-null    object \n",
      " 9   utilities        879 non-null    object \n",
      " 10  lot_config       879 non-null    object \n",
      " 11  land_slope       879 non-null    object \n",
      " 12  neighborhood     879 non-null    object \n",
      " 13  condition_1      879 non-null    object \n",
      " 14  condition_2      879 non-null    object \n",
      " 15  bldg_type        879 non-null    object \n",
      " 16  house_style      879 non-null    object \n",
      " 17  overall_qual     879 non-null    int64  \n",
      " 18  overall_cond     879 non-null    int64  \n",
      " 19  year_built       879 non-null    int64  \n",
      " 20  year_remod/add   879 non-null    int64  \n",
      " 21  roof_style       879 non-null    object \n",
      " 22  roof_matl        879 non-null    object \n",
      " 23  exterior_1st     879 non-null    object \n",
      " 24  exterior_2nd     879 non-null    object \n",
      " 25  mas_vnr_type     878 non-null    object \n",
      " 26  mas_vnr_area     878 non-null    float64\n",
      " 27  exter_qual       879 non-null    object \n",
      " 28  exter_cond       879 non-null    object \n",
      " 29  foundation       879 non-null    object \n",
      " 30  bsmt_qual        854 non-null    object \n",
      " 31  bsmt_cond        854 non-null    object \n",
      " 32  bsmt_exposure    854 non-null    object \n",
      " 33  bsmtfin_type_1   854 non-null    object \n",
      " 34  bsmtfin_sf_1     879 non-null    int64  \n",
      " 35  bsmtfin_type_2   854 non-null    object \n",
      " 36  bsmtfin_sf_2     879 non-null    int64  \n",
      " 37  bsmt_unf_sf      879 non-null    int64  \n",
      " 38  total_bsmt_sf    879 non-null    int64  \n",
      " 39  heating          879 non-null    object \n",
      " 40  heating_qc       879 non-null    object \n",
      " 41  central_air      879 non-null    object \n",
      " 42  electrical       878 non-null    object \n",
      " 43  1st_flr_sf       879 non-null    int64  \n",
      " 44  2nd_flr_sf       879 non-null    int64  \n",
      " 45  low_qual_fin_sf  879 non-null    int64  \n",
      " 46  gr_liv_area      879 non-null    int64  \n",
      " 47  bsmt_full_bath   879 non-null    int64  \n",
      " 48  bsmt_half_bath   879 non-null    int64  \n",
      " 49  full_bath        879 non-null    int64  \n",
      " 50  half_bath        879 non-null    int64  \n",
      " 51  bedroom_abvgr    879 non-null    int64  \n",
      " 52  kitchen_abvgr    879 non-null    int64  \n",
      " 53  kitchen_qual     879 non-null    object \n",
      " 54  totrms_abvgrd    879 non-null    int64  \n",
      " 55  functional       879 non-null    object \n",
      " 56  fireplaces       879 non-null    int64  \n",
      " 57  fireplace_qu     457 non-null    object \n",
      " 58  garage_type      835 non-null    object \n",
      " 59  garage_yr_blt    834 non-null    float64\n",
      " 60  garage_finish    834 non-null    object \n",
      " 61  garage_cars      879 non-null    int64  \n",
      " 62  garage_area      879 non-null    int64  \n",
      " 63  garage_qual      834 non-null    object \n",
      " 64  garage_cond      834 non-null    object \n",
      " 65  paved_drive      879 non-null    object \n",
      " 66  wood_deck_sf     879 non-null    int64  \n",
      " 67  open_porch_sf    879 non-null    int64  \n",
      " 68  enclosed_porch   879 non-null    int64  \n",
      " 69  3ssn_porch       879 non-null    int64  \n",
      " 70  screen_porch     879 non-null    int64  \n",
      " 71  pool_area        879 non-null    int64  \n",
      " 72  pool_qc          4 non-null      object \n",
      " 73  fence            172 non-null    object \n",
      " 74  misc_feature     41 non-null     object \n",
      " 75  misc_val         879 non-null    int64  \n",
      " 76  mo_sold          879 non-null    int64  \n",
      " 77  yr_sold          879 non-null    int64  \n",
      " 78  sale_type        879 non-null    object \n",
      "dtypes: float64(3), int64(34), object(42)\n",
      "memory usage: 542.6+ KB\n"
     ]
    }
   ],
   "source": [
    "# check column data types\n",
    "\n",
    "test.info()"
   ]
  },
  {
   "cell_type": "markdown",
   "metadata": {},
   "source": [
    "There are no incorrect data types found in both test and train datasets."
   ]
  },
  {
   "cell_type": "code",
   "execution_count": 14,
   "metadata": {},
   "outputs": [
    {
     "data": {
      "text/plain": [
       "saleprice         1.000000\n",
       "overall_qual      0.800207\n",
       "gr_liv_area       0.697038\n",
       "garage_area       0.650270\n",
       "garage_cars       0.648220\n",
       "total_bsmt_sf     0.628925\n",
       "1st_flr_sf        0.618486\n",
       "year_built        0.571849\n",
       "year_remod/add    0.550370\n",
       "full_bath         0.537969\n",
       "garage_yr_blt     0.533922\n",
       "mas_vnr_area      0.512230\n",
       "totrms_abvgrd     0.504014\n",
       "fireplaces        0.471093\n",
       "bsmtfin_sf_1      0.423519\n",
       "Name: saleprice, dtype: float64"
      ]
     },
     "execution_count": 14,
     "metadata": {},
     "output_type": "execute_result"
    }
   ],
   "source": [
    "# find out those features that are highly correlated to sales price\n",
    "\n",
    "corr = train.corr()\n",
    "corr['saleprice'].sort_values(ascending=False).head(15)"
   ]
  },
  {
   "cell_type": "code",
   "execution_count": 15,
   "metadata": {},
   "outputs": [
    {
     "data": {
      "image/png": "[encoded data removed]",
      "text/plain": [
       "<Figure size 1800x1440 with 2 Axes>"
      ]
     },
     "metadata": {
      "needs_background": "light"
     },
     "output_type": "display_data"
    }
   ],
   "source": [
    "plt.figure(figsize=(25,20))\n",
    "corr = train.corr()\n",
    "\n",
    "sns.heatmap(corr,\n",
    "            xticklabels=corr.columns,\n",
    "            yticklabels=corr.columns,\n",
    "            cmap='YlGnBu',\n",
    "            vmin=1, vmax=0.1\n",
    "           )\n",
    "plt.title('Correlation Heatmap')\n",
    "plt.savefig('datasets/heatmap.png')\n",
    "plt.show()"
   ]
  },
  {
   "cell_type": "markdown",
   "metadata": {},
   "source": [
    "The hheatmap shows that overall_qual and gr_liv_area have the highest correlation with the sales price. \n",
    "\n",
    "Other features with considerable correlations with sales price are garage_area, garage_cars, total_bsmt_sf, 1st_flr_sf. \n",
    "\n",
    "We can see high correlation between some independent variables. There is high correlation between gr_liv_area and totrms_abvgrd. Similar relation exists between garage_area and garage_cars. \n",
    "\n",
    "This will lead to multicollinearity and linear model might not be able to identify the relationship between these features and sales price. \n",
    "\n",
    "Hence, we will drop one of those features. \n",
    "\n",
    "To confirm the correlations, I will plot the scatter plot for these features."
   ]
  },
  {
   "cell_type": "code",
   "execution_count": 16,
   "metadata": {},
   "outputs": [
    {
     "data": {
      "image/png": "[encoded data removed]",
      "text/plain": [
       "<Figure size 792x288 with 2 Axes>"
      ]
     },
     "metadata": {
      "needs_background": "light"
     },
     "output_type": "display_data"
    }
   ],
   "source": [
    "plt.figure(figsize = (11,4))\n",
    "plt.subplot(1,2,1)\n",
    "plt.scatter(train.overall_qual, train.saleprice)\n",
    "plt.xlabel('Overall Qual'); plt.ylabel('Sales Price')\n",
    "plt.subplot(1,2,2)\n",
    "plt.scatter(train.gr_liv_area, train.saleprice)\n",
    "plt.xlabel('Ground Living Area'); plt.ylabel('Sales Price')\n",
    "plt.show()"
   ]
  },
  {
   "cell_type": "code",
   "execution_count": 17,
   "metadata": {},
   "outputs": [
    {
     "data": {
      "text/plain": [
       "<Figure size 1440x1080 with 0 Axes>"
      ]
     },
     "metadata": {},
     "output_type": "display_data"
    },
    {
     "data": {
      "image/png": "[encoded data removed]",
      "text/plain": [
       "<Figure size 1260x180 with 7 Axes>"
      ]
     },
     "metadata": {
      "needs_background": "light"
     },
     "output_type": "display_data"
    }
   ],
   "source": [
    "plt.figure(figsize=(20,15))\n",
    "var = ['garage_area', 'garage_cars', 'total_bsmt_sf', '1st_flr_sf', 'year_built', 'year_remod/add', 'full_bath']\n",
    "sns.pairplot(train, x_vars = var, y_vars = 'saleprice')\n",
    "plt.show()"
   ]
  },
  {
   "cell_type": "markdown",
   "metadata": {},
   "source": [
    "## Data Cleaning for Train Set\n"
   ]
  },
  {
   "cell_type": "markdown",
   "metadata": {},
   "source": [
    "### Multicollinearity"
   ]
  },
  {
   "cell_type": "markdown",
   "metadata": {},
   "source": [
    "I will drop totrms_abvgrd, and garage_cars columns as they have lower correlation with sales price compared to garage_area and gr_liv_area.\n"
   ]
  },
  {
   "cell_type": "code",
   "execution_count": 18,
   "metadata": {},
   "outputs": [],
   "source": [
    "train.drop(['totrms_abvgrd', 'garage_cars'], axis =1, inplace = True)"
   ]
  },
  {
   "cell_type": "code",
   "execution_count": 19,
   "metadata": {},
   "outputs": [
    {
     "data": {
      "text/plain": [
       "(2051, 78)"
      ]
     },
     "execution_count": 19,
     "metadata": {},
     "output_type": "execute_result"
    }
   ],
   "source": [
    "train.shape # 2 columns dropped"
   ]
  },
  {
   "cell_type": "markdown",
   "metadata": {},
   "source": [
    "### Outliers\n",
    "\n",
    "Linear models are not robust to outliers, meaning one outlier could influence the true relationship between the house price and the predictor significantly. Therefore, we removed any observation that is far away from the mean sales price relative to any particular variable. \n",
    "\n",
    "We created boxplots to complement and confirm our decision to remove outliers from our model."
   ]
  },
  {
   "cell_type": "code",
   "execution_count": 20,
   "metadata": {},
   "outputs": [
    {
     "data": {
      "image/png": "[encoded data removed]",
      "text/plain": [
       "<Figure size 432x288 with 1 Axes>"
      ]
     },
     "metadata": {
      "needs_background": "light"
     },
     "output_type": "display_data"
    }
   ],
   "source": [
    "train['saleprice'].hist(bins=50, alpha=0.8)\n",
    "plt.axvline(train['saleprice'].mean(), color='r', linestyle='dashed', linewidth=2, label='Mean')\n",
    "plt.axvline(train['saleprice'].median(), color='orange', linestyle='dashed', linewidth=2, label='Median')\n",
    "plt.xlabel('Sale Price')\n",
    "plt.ylabel('Count')\n",
    "plt.title(\"Distribution of sales price\")\n",
    "plt.legend()\n",
    "plt.show()"
   ]
  },
  {
   "cell_type": "code",
   "execution_count": 21,
   "metadata": {},
   "outputs": [],
   "source": [
    "def scatter_plot(dataframe, column_1, column_2, title):\n",
    "    plt.figure(figsize=(10,6))\n",
    "    sns.scatterplot(train[column_1], train[column_2])\n",
    "    plt.title(title)"
   ]
  },
  {
   "cell_type": "markdown",
   "metadata": {},
   "source": [
    "#### gr_liv_area vs saleprice outliers"
   ]
  },
  {
   "cell_type": "code",
   "execution_count": 22,
   "metadata": {},
   "outputs": [
    {
     "data": {
      "image/png": "[encoded data removed]",
      "text/plain": [
       "<Figure size 720x432 with 1 Axes>"
      ]
     },
     "metadata": {
      "needs_background": "light"
     },
     "output_type": "display_data"
    }
   ],
   "source": [
    "scatter_plot(train, 'gr_liv_area', 'saleprice', 'Above Ground Living Area vs Sales Price')"
   ]
  },
  {
   "cell_type": "code",
   "execution_count": 23,
   "metadata": {},
   "outputs": [
    {
     "data": {
      "image/png": "[encoded data removed]",
      "text/plain": [
       "<Figure size 432x288 with 1 Axes>"
      ]
     },
     "metadata": {
      "needs_background": "light"
     },
     "output_type": "display_data"
    }
   ],
   "source": [
    "test['gr_liv_area'].hist(bins=50, alpha=0.8, color = 'orange')\n",
    "plt.xlabel('Above Ground Living Area')\n",
    "plt.ylabel('Count')\n",
    "plt.title(\"Test - Distribution of Above Ground Living Area\")\n",
    "plt.show()"
   ]
  },
  {
   "cell_type": "markdown",
   "metadata": {},
   "source": [
    "In order to make sure dropping outliers will not affect the modeling for test data set. I have plotted the distribution of sales price in test set to find out the maximum above ground living area.\n",
    "\n",
    "Since the maximum is less than 5000, hence it is safe to drop the 2 outliers in train set, which have greater than 5000 above ground living area. "
   ]
  },
  {
   "cell_type": "code",
   "execution_count": 24,
   "metadata": {},
   "outputs": [
    {
     "data": {
      "text/html": [
       "<div>\n",
       "<style scoped>\n",
       "    .dataframe tbody tr th:only-of-type {\n",
       "        vertical-align: middle;\n",
       "    }\n",
       "\n",
       "    .dataframe tbody tr th {\n",
       "        vertical-align: top;\n",
       "    }\n",
       "\n",
       "    .dataframe thead th {\n",
       "        text-align: right;\n",
       "    }\n",
       "</style>\n",
       "<table border=\"1\" class=\"dataframe\">\n",
       "  <thead>\n",
       "    <tr style=\"text-align: right;\">\n",
       "      <th></th>\n",
       "      <th>id</th>\n",
       "      <th>ms_subclass</th>\n",
       "      <th>ms_zoning</th>\n",
       "      <th>lot_frontage</th>\n",
       "      <th>lot_area</th>\n",
       "      <th>street</th>\n",
       "      <th>alley</th>\n",
       "      <th>lot_shape</th>\n",
       "      <th>land_contour</th>\n",
       "      <th>utilities</th>\n",
       "      <th>...</th>\n",
       "      <th>screen_porch</th>\n",
       "      <th>pool_area</th>\n",
       "      <th>pool_qc</th>\n",
       "      <th>fence</th>\n",
       "      <th>misc_feature</th>\n",
       "      <th>misc_val</th>\n",
       "      <th>mo_sold</th>\n",
       "      <th>yr_sold</th>\n",
       "      <th>sale_type</th>\n",
       "      <th>saleprice</th>\n",
       "    </tr>\n",
       "  </thead>\n",
       "  <tbody>\n",
       "    <tr>\n",
       "      <th>960</th>\n",
       "      <td>1499</td>\n",
       "      <td>60</td>\n",
       "      <td>RL</td>\n",
       "      <td>313.0</td>\n",
       "      <td>63887</td>\n",
       "      <td>Pave</td>\n",
       "      <td>NaN</td>\n",
       "      <td>IR3</td>\n",
       "      <td>Bnk</td>\n",
       "      <td>AllPub</td>\n",
       "      <td>...</td>\n",
       "      <td>0</td>\n",
       "      <td>480</td>\n",
       "      <td>Gd</td>\n",
       "      <td>NaN</td>\n",
       "      <td>NaN</td>\n",
       "      <td>0</td>\n",
       "      <td>1</td>\n",
       "      <td>2008</td>\n",
       "      <td>New</td>\n",
       "      <td>160000</td>\n",
       "    </tr>\n",
       "    <tr>\n",
       "      <th>1885</th>\n",
       "      <td>2181</td>\n",
       "      <td>20</td>\n",
       "      <td>RL</td>\n",
       "      <td>128.0</td>\n",
       "      <td>39290</td>\n",
       "      <td>Pave</td>\n",
       "      <td>NaN</td>\n",
       "      <td>IR1</td>\n",
       "      <td>Bnk</td>\n",
       "      <td>AllPub</td>\n",
       "      <td>...</td>\n",
       "      <td>0</td>\n",
       "      <td>0</td>\n",
       "      <td>NaN</td>\n",
       "      <td>NaN</td>\n",
       "      <td>Elev</td>\n",
       "      <td>17000</td>\n",
       "      <td>10</td>\n",
       "      <td>2007</td>\n",
       "      <td>New</td>\n",
       "      <td>183850</td>\n",
       "    </tr>\n",
       "  </tbody>\n",
       "</table>\n",
       "<p>2 rows × 78 columns</p>\n",
       "</div>"
      ],
      "text/plain": [
       "        id  ms_subclass ms_zoning  lot_frontage  lot_area street alley  \\\n",
       "960   1499           60        RL         313.0     63887   Pave   NaN   \n",
       "1885  2181           20        RL         128.0     39290   Pave   NaN   \n",
       "\n",
       "     lot_shape land_contour utilities  ... screen_porch pool_area pool_qc  \\\n",
       "960        IR3          Bnk    AllPub  ...            0       480      Gd   \n",
       "1885       IR1          Bnk    AllPub  ...            0         0     NaN   \n",
       "\n",
       "     fence misc_feature misc_val mo_sold  yr_sold  sale_type  saleprice  \n",
       "960    NaN          NaN        0       1     2008        New     160000  \n",
       "1885   NaN         Elev    17000      10     2007        New     183850  \n",
       "\n",
       "[2 rows x 78 columns]"
      ]
     },
     "execution_count": 24,
     "metadata": {},
     "output_type": "execute_result"
    }
   ],
   "source": [
    "train[train['gr_liv_area'] > 5000]"
   ]
  },
  {
   "cell_type": "code",
   "execution_count": 25,
   "metadata": {},
   "outputs": [],
   "source": [
    "#drop gr_liv_area outliers\n",
    "train.drop(index = 960, inplace=True)\n",
    "train.drop(index = 1885, inplace=True)"
   ]
  },
  {
   "cell_type": "markdown",
   "metadata": {},
   "source": [
    "#### lot_area vs saleprice outliers"
   ]
  },
  {
   "cell_type": "code",
   "execution_count": 26,
   "metadata": {},
   "outputs": [
    {
     "data": {
      "image/png": "[encoded data removed]",
      "text/plain": [
       "<Figure size 720x432 with 1 Axes>"
      ]
     },
     "metadata": {
      "needs_background": "light"
     },
     "output_type": "display_data"
    }
   ],
   "source": [
    "scatter_plot(train, 'lot_area', 'saleprice', 'Lot Area vs Sales Price')"
   ]
  },
  {
   "cell_type": "code",
   "execution_count": 27,
   "metadata": {},
   "outputs": [
    {
     "data": {
      "image/png": "[encoded data removed]",
      "text/plain": [
       "<Figure size 720x432 with 1 Axes>"
      ]
     },
     "metadata": {
      "needs_background": "light"
     },
     "output_type": "display_data"
    }
   ],
   "source": [
    "scatter_plot(test, 'lot_area', 'saleprice', 'Lot Area vs Sales Price')"
   ]
  },
  {
   "cell_type": "markdown",
   "metadata": {},
   "source": [
    "Since in both train and test dataset, the distribution of lot area look almost exaclty the same, hence there is no need to remove outliers for lot area column."
   ]
  },
  {
   "cell_type": "code",
   "execution_count": 28,
   "metadata": {},
   "outputs": [
    {
     "data": {
      "text/plain": [
       "(2049, 78)"
      ]
     },
     "execution_count": 28,
     "metadata": {},
     "output_type": "execute_result"
    }
   ],
   "source": [
    "train.shape"
   ]
  },
  {
   "cell_type": "markdown",
   "metadata": {},
   "source": [
    "### Missing values"
   ]
  },
  {
   "cell_type": "code",
   "execution_count": 29,
   "metadata": {},
   "outputs": [
    {
     "data": {
      "text/plain": [
       "pool_qc           2041\n",
       "misc_feature      1985\n",
       "alley             1909\n",
       "fence             1649\n",
       "fireplace_qu      1000\n",
       "lot_frontage       330\n",
       "garage_finish      114\n",
       "garage_qual        114\n",
       "garage_cond        114\n",
       "garage_yr_blt      114\n",
       "garage_type        113\n",
       "bsmt_exposure       58\n",
       "bsmtfin_type_2      56\n",
       "bsmtfin_type_1      55\n",
       "bsmt_cond           55\n",
       "bsmt_qual           55\n",
       "mas_vnr_area        22\n",
       "mas_vnr_type        22\n",
       "bsmt_full_bath       2\n",
       "bsmt_half_bath       2\n",
       "bsmt_unf_sf          1\n",
       "bsmtfin_sf_2         1\n",
       "bsmtfin_sf_1         1\n",
       "garage_area          1\n",
       "total_bsmt_sf        1\n",
       "dtype: int64"
      ]
     },
     "execution_count": 29,
     "metadata": {},
     "output_type": "execute_result"
    }
   ],
   "source": [
    "# check for nulls\n",
    "\n",
    "train.isnull().sum()[train.isnull().sum()>0].sort_values(ascending=False)"
   ]
  },
  {
   "cell_type": "code",
   "execution_count": 30,
   "metadata": {},
   "outputs": [
    {
     "data": {
      "text/plain": [
       "pool_qc           99.609566\n",
       "misc_feature      96.876525\n",
       "alley             93.167399\n",
       "fence             80.478282\n",
       "fireplace_qu      48.804295\n",
       "lot_frontage      16.105417\n",
       "garage_finish      5.563690\n",
       "garage_qual        5.563690\n",
       "garage_cond        5.563690\n",
       "garage_yr_blt      5.563690\n",
       "garage_type        5.514885\n",
       "bsmt_exposure      2.830649\n",
       "bsmtfin_type_2     2.733041\n",
       "bsmtfin_type_1     2.684236\n",
       "bsmt_cond          2.684236\n",
       "bsmt_qual          2.684236\n",
       "mas_vnr_area       1.073694\n",
       "mas_vnr_type       1.073694\n",
       "bsmt_full_bath     0.097609\n",
       "bsmt_half_bath     0.097609\n",
       "bsmt_unf_sf        0.048804\n",
       "bsmtfin_sf_2       0.048804\n",
       "bsmtfin_sf_1       0.048804\n",
       "garage_area        0.048804\n",
       "total_bsmt_sf      0.048804\n",
       "dtype: float64"
      ]
     },
     "execution_count": 30,
     "metadata": {},
     "output_type": "execute_result"
    }
   ],
   "source": [
    "nulls = train.isnull().sum()\n",
    "nulls = nulls[nulls>0]\n",
    "nulls_perc = nulls/train.shape[0]*100\n",
    "nulls_perc.sort_values(ascending=False)"
   ]
  },
  {
   "cell_type": "markdown",
   "metadata": {},
   "source": [
    "We will first handle the first 5 features with the most missing values.\n",
    "\n",
    "1. pool_qc           \n",
    "2. misc_feature      \n",
    "3. alley             \n",
    "4. fence             \n",
    "5. fireplace_qu      "
   ]
  },
  {
   "cell_type": "markdown",
   "metadata": {},
   "source": [
    "#### pool_qc column"
   ]
  },
  {
   "cell_type": "code",
   "execution_count": 31,
   "metadata": {},
   "outputs": [
    {
     "data": {
      "text/plain": [
       "Gd    3\n",
       "TA    2\n",
       "Fa    2\n",
       "Ex    1\n",
       "Name: pool_qc, dtype: int64"
      ]
     },
     "execution_count": 31,
     "metadata": {},
     "output_type": "execute_result"
    }
   ],
   "source": [
    "train['pool_qc'].value_counts()"
   ]
  },
  {
   "cell_type": "code",
   "execution_count": 32,
   "metadata": {},
   "outputs": [
    {
     "data": {
      "text/plain": [
       "0"
      ]
     },
     "execution_count": 32,
     "metadata": {},
     "output_type": "execute_result"
    }
   ],
   "source": [
    "train['pool_qc'].fillna('None', inplace=True) # fill with None\n",
    "train['pool_qc'].isnull().sum() # check for nulls "
   ]
  },
  {
   "cell_type": "markdown",
   "metadata": {},
   "source": [
    "#### misc_feature column"
   ]
  },
  {
   "cell_type": "code",
   "execution_count": 33,
   "metadata": {},
   "outputs": [
    {
     "data": {
      "text/plain": [
       "Shed    56\n",
       "Gar2     4\n",
       "Othr     3\n",
       "TenC     1\n",
       "Name: misc_feature, dtype: int64"
      ]
     },
     "execution_count": 33,
     "metadata": {},
     "output_type": "execute_result"
    }
   ],
   "source": [
    "train['misc_feature'].value_counts()"
   ]
  },
  {
   "cell_type": "code",
   "execution_count": 34,
   "metadata": {},
   "outputs": [
    {
     "data": {
      "text/plain": [
       "0"
      ]
     },
     "execution_count": 34,
     "metadata": {},
     "output_type": "execute_result"
    }
   ],
   "source": [
    "train['misc_feature'].fillna('None', inplace=True) # fill with None\n",
    "train['misc_feature'].isnull().sum() # check for nulls "
   ]
  },
  {
   "cell_type": "markdown",
   "metadata": {},
   "source": [
    "#### Categorical features\n",
    "\n",
    "**alley** and **fence** are the other two features with many null values. Their values are categorial and I will convert them to numerical components to be used in model later."
   ]
  },
  {
   "cell_type": "markdown",
   "metadata": {},
   "source": [
    "#### alley column\n",
    "\n",
    "Houses with an alley, no matter the material is Grvl of Pave, will be assigned 1; and the rest without alley will be assigned a 0."
   ]
  },
  {
   "cell_type": "code",
   "execution_count": 35,
   "metadata": {},
   "outputs": [
    {
     "data": {
      "text/plain": [
       "Grvl    85\n",
       "Pave    55\n",
       "Name: alley, dtype: int64"
      ]
     },
     "execution_count": 35,
     "metadata": {},
     "output_type": "execute_result"
    }
   ],
   "source": [
    "train['alley'].value_counts()"
   ]
  },
  {
   "cell_type": "code",
   "execution_count": null,
   "metadata": {},
   "outputs": [],
   "source": [
    "# Create column with value 1 if smoker and 0 if non-smoker.\n",
    "train['alley'] = [1 if i == 'Yes' else 0 for i in df['smoker']]"
   ]
  },
  {
   "cell_type": "code",
   "execution_count": 36,
   "metadata": {},
   "outputs": [
    {
     "data": {
      "text/plain": [
       "0"
      ]
     },
     "execution_count": 36,
     "metadata": {},
     "output_type": "execute_result"
    }
   ],
   "source": [
    "alley_type = ['Grvl', 'Pave']\n",
    "\n",
    "for type in alley_type:\n",
    "    train.alley = train.alley.str.replace(type, '1')\n",
    "    \n",
    "train.alley.fillna(0, inplace=True) # fill with 0\n",
    "train.alley= train.alley.apply(lambda x: int(x))\n",
    "\n",
    "train['alley'].isnull().sum() # check for nulls "
   ]
  },
  {
   "cell_type": "markdown",
   "metadata": {},
   "source": [
    "#### fence column\n",
    "\n",
    "Houses with fence, regardless of quality, will be assigned 1; and the rest without fence will be assigned 0."
   ]
  },
  {
   "cell_type": "code",
   "execution_count": 37,
   "metadata": {},
   "outputs": [
    {
     "data": {
      "text/plain": [
       "MnPrv    227\n",
       "GdPrv     83\n",
       "GdWo      80\n",
       "MnWw      10\n",
       "Name: fence, dtype: int64"
      ]
     },
     "execution_count": 37,
     "metadata": {},
     "output_type": "execute_result"
    }
   ],
   "source": [
    "train['fence'].value_counts()"
   ]
  },
  {
   "cell_type": "code",
   "execution_count": 38,
   "metadata": {},
   "outputs": [
    {
     "data": {
      "text/plain": [
       "0"
      ]
     },
     "execution_count": 38,
     "metadata": {},
     "output_type": "execute_result"
    }
   ],
   "source": [
    "fence_quality = ['MnPrv', 'GdPrv', 'GdWo', 'MnWw']\n",
    "\n",
    "for quality in fence_quality:\n",
    "    train.fence = train.fence.str.replace(quality, '1')\n",
    "    \n",
    "train.fence.fillna(0, inplace=True)\n",
    "train.fence = train.fence.apply(lambda x: int(x))\n",
    "\n",
    "train['fence'].isnull().sum()"
   ]
  },
  {
   "cell_type": "markdown",
   "metadata": {},
   "source": [
    "#### fireplace column\n",
    "\n",
    "Houses with fireplace, regardless of quality, will be assigned 1; and the rest without fireplace will be assigned 0."
   ]
  },
  {
   "cell_type": "code",
   "execution_count": 39,
   "metadata": {},
   "outputs": [
    {
     "data": {
      "text/plain": [
       "Gd    521\n",
       "TA    407\n",
       "Fa     59\n",
       "Po     31\n",
       "Ex     31\n",
       "Name: fireplace_qu, dtype: int64"
      ]
     },
     "execution_count": 39,
     "metadata": {},
     "output_type": "execute_result"
    }
   ],
   "source": [
    "train['fireplace_qu'].value_counts()"
   ]
  },
  {
   "cell_type": "code",
   "execution_count": 40,
   "metadata": {},
   "outputs": [
    {
     "data": {
      "text/plain": [
       "0"
      ]
     },
     "execution_count": 40,
     "metadata": {},
     "output_type": "execute_result"
    }
   ],
   "source": [
    "fireplace_quality = ['Gd', 'TA', 'Fa', 'Po', 'Ex']\n",
    "\n",
    "for quality in fireplace_quality:\n",
    "    train.fireplace_qu = train.fireplace_qu.str.replace(quality, '1')\n",
    "    \n",
    "train.fireplace_qu.fillna(0, inplace=True)\n",
    "train.fireplace_qu = train.fireplace_qu.apply(lambda x: int(x))\n",
    "\n",
    "train['fireplace_qu'].isnull().sum()"
   ]
  },
  {
   "cell_type": "markdown",
   "metadata": {},
   "source": [
    "#### garage-related columns"
   ]
  },
  {
   "cell_type": "code",
   "execution_count": 41,
   "metadata": {},
   "outputs": [],
   "source": [
    "# combine 6 garage-related columns into one single variable\n",
    "\n",
    "garage_columns = ['garage_type', 'garage_yr_blt', 'garage_finish','garage_area', \n",
    "                  'garage_qual', 'garage_cond']"
   ]
  },
  {
   "cell_type": "code",
   "execution_count": 42,
   "metadata": {},
   "outputs": [
    {
     "data": {
      "text/html": [
       "<div>\n",
       "<style scoped>\n",
       "    .dataframe tbody tr th:only-of-type {\n",
       "        vertical-align: middle;\n",
       "    }\n",
       "\n",
       "    .dataframe tbody tr th {\n",
       "        vertical-align: top;\n",
       "    }\n",
       "\n",
       "    .dataframe thead th {\n",
       "        text-align: right;\n",
       "    }\n",
       "</style>\n",
       "<table border=\"1\" class=\"dataframe\">\n",
       "  <thead>\n",
       "    <tr style=\"text-align: right;\">\n",
       "      <th></th>\n",
       "      <th>garage_type</th>\n",
       "      <th>garage_yr_blt</th>\n",
       "      <th>garage_finish</th>\n",
       "      <th>garage_area</th>\n",
       "      <th>garage_qual</th>\n",
       "      <th>garage_cond</th>\n",
       "    </tr>\n",
       "  </thead>\n",
       "  <tbody>\n",
       "    <tr>\n",
       "      <th>1712</th>\n",
       "      <td>Detchd</td>\n",
       "      <td>NaN</td>\n",
       "      <td>NaN</td>\n",
       "      <td>NaN</td>\n",
       "      <td>NaN</td>\n",
       "      <td>NaN</td>\n",
       "    </tr>\n",
       "  </tbody>\n",
       "</table>\n",
       "</div>"
      ],
      "text/plain": [
       "     garage_type  garage_yr_blt garage_finish  garage_area garage_qual  \\\n",
       "1712      Detchd            NaN           NaN          NaN         NaN   \n",
       "\n",
       "     garage_cond  \n",
       "1712         NaN  "
      ]
     },
     "execution_count": 42,
     "metadata": {},
     "output_type": "execute_result"
    }
   ],
   "source": [
    "train[train['garage_area'].isnull()][garage_columns]"
   ]
  },
  {
   "cell_type": "markdown",
   "metadata": {},
   "source": [
    "Since index 1712 only filled the garage type and the rest of the information is unavailable, I will drop it."
   ]
  },
  {
   "cell_type": "code",
   "execution_count": 43,
   "metadata": {},
   "outputs": [],
   "source": [
    "# drop index 1712\n",
    "\n",
    "train.drop(index = 1712, inplace=True)"
   ]
  },
  {
   "cell_type": "code",
   "execution_count": 44,
   "metadata": {},
   "outputs": [
    {
     "data": {
      "text/html": [
       "<div>\n",
       "<style scoped>\n",
       "    .dataframe tbody tr th:only-of-type {\n",
       "        vertical-align: middle;\n",
       "    }\n",
       "\n",
       "    .dataframe tbody tr th {\n",
       "        vertical-align: top;\n",
       "    }\n",
       "\n",
       "    .dataframe thead th {\n",
       "        text-align: right;\n",
       "    }\n",
       "</style>\n",
       "<table border=\"1\" class=\"dataframe\">\n",
       "  <thead>\n",
       "    <tr style=\"text-align: right;\">\n",
       "      <th></th>\n",
       "      <th>id</th>\n",
       "      <th>ms_subclass</th>\n",
       "      <th>ms_zoning</th>\n",
       "      <th>lot_frontage</th>\n",
       "      <th>lot_area</th>\n",
       "      <th>street</th>\n",
       "      <th>alley</th>\n",
       "      <th>lot_shape</th>\n",
       "      <th>land_contour</th>\n",
       "      <th>utilities</th>\n",
       "      <th>...</th>\n",
       "      <th>screen_porch</th>\n",
       "      <th>pool_area</th>\n",
       "      <th>pool_qc</th>\n",
       "      <th>fence</th>\n",
       "      <th>misc_feature</th>\n",
       "      <th>misc_val</th>\n",
       "      <th>mo_sold</th>\n",
       "      <th>yr_sold</th>\n",
       "      <th>sale_type</th>\n",
       "      <th>saleprice</th>\n",
       "    </tr>\n",
       "  </thead>\n",
       "  <tbody>\n",
       "    <tr>\n",
       "      <th>0</th>\n",
       "      <td>109</td>\n",
       "      <td>60</td>\n",
       "      <td>RL</td>\n",
       "      <td>NaN</td>\n",
       "      <td>13517</td>\n",
       "      <td>Pave</td>\n",
       "      <td>0</td>\n",
       "      <td>IR1</td>\n",
       "      <td>Lvl</td>\n",
       "      <td>AllPub</td>\n",
       "      <td>...</td>\n",
       "      <td>0</td>\n",
       "      <td>0</td>\n",
       "      <td>None</td>\n",
       "      <td>0</td>\n",
       "      <td>None</td>\n",
       "      <td>0</td>\n",
       "      <td>3</td>\n",
       "      <td>2010</td>\n",
       "      <td>WD</td>\n",
       "      <td>130500</td>\n",
       "    </tr>\n",
       "    <tr>\n",
       "      <th>1</th>\n",
       "      <td>544</td>\n",
       "      <td>60</td>\n",
       "      <td>RL</td>\n",
       "      <td>43.0</td>\n",
       "      <td>11492</td>\n",
       "      <td>Pave</td>\n",
       "      <td>0</td>\n",
       "      <td>IR1</td>\n",
       "      <td>Lvl</td>\n",
       "      <td>AllPub</td>\n",
       "      <td>...</td>\n",
       "      <td>0</td>\n",
       "      <td>0</td>\n",
       "      <td>None</td>\n",
       "      <td>0</td>\n",
       "      <td>None</td>\n",
       "      <td>0</td>\n",
       "      <td>4</td>\n",
       "      <td>2009</td>\n",
       "      <td>WD</td>\n",
       "      <td>220000</td>\n",
       "    </tr>\n",
       "    <tr>\n",
       "      <th>2</th>\n",
       "      <td>153</td>\n",
       "      <td>20</td>\n",
       "      <td>RL</td>\n",
       "      <td>68.0</td>\n",
       "      <td>7922</td>\n",
       "      <td>Pave</td>\n",
       "      <td>0</td>\n",
       "      <td>Reg</td>\n",
       "      <td>Lvl</td>\n",
       "      <td>AllPub</td>\n",
       "      <td>...</td>\n",
       "      <td>0</td>\n",
       "      <td>0</td>\n",
       "      <td>None</td>\n",
       "      <td>0</td>\n",
       "      <td>None</td>\n",
       "      <td>0</td>\n",
       "      <td>1</td>\n",
       "      <td>2010</td>\n",
       "      <td>WD</td>\n",
       "      <td>109000</td>\n",
       "    </tr>\n",
       "    <tr>\n",
       "      <th>3</th>\n",
       "      <td>318</td>\n",
       "      <td>60</td>\n",
       "      <td>RL</td>\n",
       "      <td>73.0</td>\n",
       "      <td>9802</td>\n",
       "      <td>Pave</td>\n",
       "      <td>0</td>\n",
       "      <td>Reg</td>\n",
       "      <td>Lvl</td>\n",
       "      <td>AllPub</td>\n",
       "      <td>...</td>\n",
       "      <td>0</td>\n",
       "      <td>0</td>\n",
       "      <td>None</td>\n",
       "      <td>0</td>\n",
       "      <td>None</td>\n",
       "      <td>0</td>\n",
       "      <td>4</td>\n",
       "      <td>2010</td>\n",
       "      <td>WD</td>\n",
       "      <td>174000</td>\n",
       "    </tr>\n",
       "    <tr>\n",
       "      <th>4</th>\n",
       "      <td>255</td>\n",
       "      <td>50</td>\n",
       "      <td>RL</td>\n",
       "      <td>82.0</td>\n",
       "      <td>14235</td>\n",
       "      <td>Pave</td>\n",
       "      <td>0</td>\n",
       "      <td>IR1</td>\n",
       "      <td>Lvl</td>\n",
       "      <td>AllPub</td>\n",
       "      <td>...</td>\n",
       "      <td>0</td>\n",
       "      <td>0</td>\n",
       "      <td>None</td>\n",
       "      <td>0</td>\n",
       "      <td>None</td>\n",
       "      <td>0</td>\n",
       "      <td>3</td>\n",
       "      <td>2010</td>\n",
       "      <td>WD</td>\n",
       "      <td>138500</td>\n",
       "    </tr>\n",
       "  </tbody>\n",
       "</table>\n",
       "<p>5 rows × 78 columns</p>\n",
       "</div>"
      ],
      "text/plain": [
       "    id  ms_subclass ms_zoning  lot_frontage  lot_area street  alley lot_shape  \\\n",
       "0  109           60        RL           NaN     13517   Pave      0       IR1   \n",
       "1  544           60        RL          43.0     11492   Pave      0       IR1   \n",
       "2  153           20        RL          68.0      7922   Pave      0       Reg   \n",
       "3  318           60        RL          73.0      9802   Pave      0       Reg   \n",
       "4  255           50        RL          82.0     14235   Pave      0       IR1   \n",
       "\n",
       "  land_contour utilities  ... screen_porch pool_area pool_qc fence  \\\n",
       "0          Lvl    AllPub  ...            0         0    None     0   \n",
       "1          Lvl    AllPub  ...            0         0    None     0   \n",
       "2          Lvl    AllPub  ...            0         0    None     0   \n",
       "3          Lvl    AllPub  ...            0         0    None     0   \n",
       "4          Lvl    AllPub  ...            0         0    None     0   \n",
       "\n",
       "  misc_feature misc_val mo_sold  yr_sold  sale_type  saleprice  \n",
       "0         None        0       3     2010        WD      130500  \n",
       "1         None        0       4     2009        WD      220000  \n",
       "2         None        0       1     2010        WD      109000  \n",
       "3         None        0       4     2010        WD      174000  \n",
       "4         None        0       3     2010        WD      138500  \n",
       "\n",
       "[5 rows x 78 columns]"
      ]
     },
     "execution_count": 44,
     "metadata": {},
     "output_type": "execute_result"
    }
   ],
   "source": [
    "train.head()"
   ]
  },
  {
   "cell_type": "markdown",
   "metadata": {},
   "source": [
    "#### Categorical garage-related features\n",
    "\n",
    "**garage_type**, **garage_finish**, **garage_qual**, **garage_cond** are the four features with null values. Their values are categorial and I will convert them to numerical components to be used in model later.\n",
    "\n",
    "Houses without garage will be assiged None.\n"
   ]
  },
  {
   "cell_type": "code",
   "execution_count": 45,
   "metadata": {},
   "outputs": [
    {
     "data": {
      "text/plain": [
       "[None, None, None, None]"
      ]
     },
     "execution_count": 45,
     "metadata": {},
     "output_type": "execute_result"
    }
   ],
   "source": [
    "categorical_garage = ['garage_type', 'garage_finish', 'garage_qual', 'garage_cond']\n",
    "\n",
    "[train[column].fillna(str('None'), inplace = True) for column in categorical_garage]"
   ]
  },
  {
   "cell_type": "markdown",
   "metadata": {},
   "source": [
    "#### garage_yr_blt column\n",
    "\n",
    "Since usually garage is built when the house is constructed, there is no need to keep this feature. Hence, I will drop it."
   ]
  },
  {
   "cell_type": "code",
   "execution_count": 46,
   "metadata": {},
   "outputs": [],
   "source": [
    "train.drop(['garage_yr_blt'], axis=1, inplace = True)"
   ]
  },
  {
   "cell_type": "markdown",
   "metadata": {},
   "source": [
    "#### basement-related columns"
   ]
  },
  {
   "cell_type": "code",
   "execution_count": 47,
   "metadata": {},
   "outputs": [],
   "source": [
    "# combine basement-related columns into one single variable\n",
    "\n",
    "basement_columns = ['bsmt_qual', 'bsmt_cond', 'bsmt_exposure', 'bsmtfin_type_1', 'bsmtfin_sf_1', 'bsmtfin_type_2', 'bsmtfin_sf_2', 'bsmt_unf_sf', 'total_bsmt_sf', 'bsmt_full_bath', 'bsmt_half_bath']"
   ]
  },
  {
   "cell_type": "code",
   "execution_count": 48,
   "metadata": {},
   "outputs": [
    {
     "data": {
      "text/html": [
       "<div>\n",
       "<style scoped>\n",
       "    .dataframe tbody tr th:only-of-type {\n",
       "        vertical-align: middle;\n",
       "    }\n",
       "\n",
       "    .dataframe tbody tr th {\n",
       "        vertical-align: top;\n",
       "    }\n",
       "\n",
       "    .dataframe thead th {\n",
       "        text-align: right;\n",
       "    }\n",
       "</style>\n",
       "<table border=\"1\" class=\"dataframe\">\n",
       "  <thead>\n",
       "    <tr style=\"text-align: right;\">\n",
       "      <th></th>\n",
       "      <th>bsmt_qual</th>\n",
       "      <th>bsmt_cond</th>\n",
       "      <th>bsmt_exposure</th>\n",
       "      <th>bsmtfin_type_1</th>\n",
       "      <th>bsmtfin_sf_1</th>\n",
       "      <th>bsmtfin_type_2</th>\n",
       "      <th>bsmtfin_sf_2</th>\n",
       "      <th>bsmt_unf_sf</th>\n",
       "      <th>total_bsmt_sf</th>\n",
       "      <th>bsmt_full_bath</th>\n",
       "      <th>bsmt_half_bath</th>\n",
       "    </tr>\n",
       "  </thead>\n",
       "  <tbody>\n",
       "    <tr>\n",
       "      <th>1327</th>\n",
       "      <td>NaN</td>\n",
       "      <td>NaN</td>\n",
       "      <td>NaN</td>\n",
       "      <td>NaN</td>\n",
       "      <td>NaN</td>\n",
       "      <td>NaN</td>\n",
       "      <td>NaN</td>\n",
       "      <td>NaN</td>\n",
       "      <td>NaN</td>\n",
       "      <td>NaN</td>\n",
       "      <td>NaN</td>\n",
       "    </tr>\n",
       "  </tbody>\n",
       "</table>\n",
       "</div>"
      ],
      "text/plain": [
       "     bsmt_qual bsmt_cond bsmt_exposure bsmtfin_type_1  bsmtfin_sf_1  \\\n",
       "1327       NaN       NaN           NaN            NaN           NaN   \n",
       "\n",
       "     bsmtfin_type_2  bsmtfin_sf_2  bsmt_unf_sf  total_bsmt_sf  bsmt_full_bath  \\\n",
       "1327            NaN           NaN          NaN            NaN             NaN   \n",
       "\n",
       "      bsmt_half_bath  \n",
       "1327             NaN  "
      ]
     },
     "execution_count": 48,
     "metadata": {},
     "output_type": "execute_result"
    }
   ],
   "source": [
    "train[train['total_bsmt_sf'].isnull()][basement_columns]"
   ]
  },
  {
   "cell_type": "code",
   "execution_count": 49,
   "metadata": {},
   "outputs": [],
   "source": [
    "# drop index 1327\n",
    "\n",
    "train.drop(index = 1327, inplace=True)"
   ]
  },
  {
   "cell_type": "markdown",
   "metadata": {},
   "source": [
    "#### Numerical basement-related features\n",
    "\n",
    "1. bsmt_full_bath       \n",
    "2. bsmt_half_bath       \n",
    "3. bsmt_unf_sf          \n",
    "4. bsmtfin_sf_2         \n",
    "5. bsmtfin_sf_1\n",
    "6. total_bsmt_sf \n",
    "\n",
    "Their values are numerical and I will fill in missing values with 0. \n",
    "\n",
    "\n",
    "#### Categorical basement-related features\n",
    "\n",
    "1. bsmt_exposure     \n",
    "2. bsmtfin_type_2    \n",
    "3. bsmtfin_type_1    \n",
    "4. bsmt_cond         \n",
    "5. bsmt_qual         \n",
    "\n",
    "Their values are catergorial and I will convert them to numerical components to be used in model later. Houses without basement will be assiged None."
   ]
  },
  {
   "cell_type": "code",
   "execution_count": 50,
   "metadata": {},
   "outputs": [
    {
     "data": {
      "text/plain": [
       "[None, None, None, None, None, None]"
      ]
     },
     "execution_count": 50,
     "metadata": {},
     "output_type": "execute_result"
    }
   ],
   "source": [
    "numerical_basement = ['bsmt_full_bath', 'bsmt_half_bath', 'bsmt_unf_sf', 'bsmtfin_sf_2', 'bsmtfin_sf_1', 'total_bsmt_sf']\n",
    "\n",
    "[train[column].fillna(0, inplace=True) for column in numerical_basement]"
   ]
  },
  {
   "cell_type": "code",
   "execution_count": 51,
   "metadata": {},
   "outputs": [
    {
     "data": {
      "text/plain": [
       "[None, None, None, None, None]"
      ]
     },
     "execution_count": 51,
     "metadata": {},
     "output_type": "execute_result"
    }
   ],
   "source": [
    "categorical_basement = ['bsmt_exposure', 'bsmtfin_type_2', 'bsmtfin_type_1', 'bsmt_cond', 'bsmt_qual'] \n",
    "\n",
    "[train[column].fillna(str('None'), inplace = True) for column in categorical_basement]"
   ]
  },
  {
   "cell_type": "markdown",
   "metadata": {},
   "source": [
    "#### lot_frontage column"
   ]
  },
  {
   "cell_type": "code",
   "execution_count": 52,
   "metadata": {},
   "outputs": [
    {
     "data": {
      "text/plain": [
       "60.0     179\n",
       "70.0      96\n",
       "80.0      94\n",
       "50.0      89\n",
       "65.0      71\n",
       "        ... \n",
       "135.0      1\n",
       "22.0       1\n",
       "313.0      1\n",
       "116.0      1\n",
       "137.0      1\n",
       "Name: lot_frontage, Length: 118, dtype: int64"
      ]
     },
     "execution_count": 52,
     "metadata": {},
     "output_type": "execute_result"
    }
   ],
   "source": [
    "train['lot_frontage'].value_counts()"
   ]
  },
  {
   "cell_type": "code",
   "execution_count": 53,
   "metadata": {},
   "outputs": [
    {
     "data": {
      "text/plain": [
       "neighborhood\n",
       "Blmngtn    47.250000\n",
       "Blueste    27.666667\n",
       "BrDale     21.315789\n",
       "BrkSide    55.739130\n",
       "ClearCr    92.500000\n",
       "CollgCr    70.753247\n",
       "Crawfor    69.272727\n",
       "Edwards    64.511811\n",
       "Gilbert    72.025641\n",
       "Greens     40.000000\n",
       "GrnHill          NaN\n",
       "IDOTRR     62.079365\n",
       "Landmrk          NaN\n",
       "MeadowV    26.809524\n",
       "Mitchel    75.476923\n",
       "NAmes      75.192453\n",
       "NPkVill    27.625000\n",
       "NWAmes     80.965517\n",
       "NoRidge    88.305556\n",
       "NridgHt    86.294118\n",
       "OldTown    62.802548\n",
       "SWISU      58.387097\n",
       "Sawyer     72.774648\n",
       "SawyerW    70.493333\n",
       "Somerst    63.982906\n",
       "StoneBr    60.058824\n",
       "Timber     78.594595\n",
       "Veenker    67.846154\n",
       "Name: lot_frontage, dtype: float64"
      ]
     },
     "execution_count": 53,
     "metadata": {},
     "output_type": "execute_result"
    }
   ],
   "source": [
    "# group by neighbour and calculate the mean of lot_frontage\n",
    "\n",
    "frontage_mean = train.groupby('neighborhood').lot_frontage.mean()\n",
    "frontage_mean"
   ]
  },
  {
   "cell_type": "markdown",
   "metadata": {},
   "source": [
    "Even though we have found out the mean of lot_frontage in each neighbourhood, outside research is needed to confirm if the linear feet in each neighbourhood is similar. Hence, we can't simply fill NA with the mean without extra confirmation. Due to time limit, in this case, I will drop the NA in lot_frontage column."
   ]
  },
  {
   "cell_type": "code",
   "execution_count": 54,
   "metadata": {},
   "outputs": [],
   "source": [
    "train.dropna(subset = ['lot_frontage'], inplace=True)"
   ]
  },
  {
   "cell_type": "code",
   "execution_count": 55,
   "metadata": {},
   "outputs": [
    {
     "data": {
      "text/plain": [
       "0"
      ]
     },
     "execution_count": 55,
     "metadata": {},
     "output_type": "execute_result"
    }
   ],
   "source": [
    "train['lot_frontage'].isnull().sum()"
   ]
  },
  {
   "cell_type": "markdown",
   "metadata": {},
   "source": [
    "#### masonry veneer-related columns\n",
    "\n",
    "mas_vnr_type is categorical value and I will fill in missing values with None.\n",
    "\n",
    "mas_vnr_area is numerical value and I will willing in missing values with 0."
   ]
  },
  {
   "cell_type": "code",
   "execution_count": 56,
   "metadata": {},
   "outputs": [],
   "source": [
    "mas_columns = ['mas_vnr_type', 'mas_vnr_area']\n",
    "\n",
    "# fill in 'None' for NaN for mas_vnr_type column\n",
    "train['mas_vnr_type'].fillna(str('None'), inplace = True)\n",
    "\n",
    "# fill in 0 for NaN for mas_vnr_area column \n",
    "train['mas_vnr_area'].fillna(0, inplace = True)"
   ]
  },
  {
   "cell_type": "code",
   "execution_count": 57,
   "metadata": {},
   "outputs": [
    {
     "data": {
      "text/plain": [
       "Series([], dtype: int64)"
      ]
     },
     "execution_count": 57,
     "metadata": {},
     "output_type": "execute_result"
    }
   ],
   "source": [
    "# check for nulls\n",
    "\n",
    "train.isnull().sum()[train.isnull().sum()>0].sort_values(ascending=False)"
   ]
  },
  {
   "cell_type": "code",
   "execution_count": 58,
   "metadata": {},
   "outputs": [
    {
     "data": {
      "text/plain": [
       "(1717, 77)"
      ]
     },
     "execution_count": 58,
     "metadata": {},
     "output_type": "execute_result"
    }
   ],
   "source": [
    "train.shape"
   ]
  },
  {
   "cell_type": "markdown",
   "metadata": {},
   "source": [
    "## Data Cleaning for Test Set"
   ]
  },
  {
   "cell_type": "markdown",
   "metadata": {},
   "source": [
    "### Multicollinearity"
   ]
  },
  {
   "cell_type": "code",
   "execution_count": 59,
   "metadata": {},
   "outputs": [],
   "source": [
    "test.drop(['totrms_abvgrd', 'garage_cars'], axis =1, inplace = True)"
   ]
  },
  {
   "cell_type": "code",
   "execution_count": 60,
   "metadata": {},
   "outputs": [
    {
     "data": {
      "text/plain": [
       "(879, 77)"
      ]
     },
     "execution_count": 60,
     "metadata": {},
     "output_type": "execute_result"
    }
   ],
   "source": [
    "test.shape # 2 columns dropped"
   ]
  },
  {
   "cell_type": "markdown",
   "metadata": {},
   "source": [
    "### Missing values"
   ]
  },
  {
   "cell_type": "code",
   "execution_count": 61,
   "metadata": {},
   "outputs": [
    {
     "data": {
      "text/plain": [
       "pool_qc           875\n",
       "misc_feature      838\n",
       "alley             821\n",
       "fence             707\n",
       "fireplace_qu      422\n",
       "lot_frontage      160\n",
       "garage_yr_blt      45\n",
       "garage_finish      45\n",
       "garage_qual        45\n",
       "garage_cond        45\n",
       "garage_type        44\n",
       "bsmtfin_type_2     25\n",
       "bsmtfin_type_1     25\n",
       "bsmt_exposure      25\n",
       "bsmt_cond          25\n",
       "bsmt_qual          25\n",
       "mas_vnr_area        1\n",
       "mas_vnr_type        1\n",
       "electrical          1\n",
       "dtype: int64"
      ]
     },
     "execution_count": 61,
     "metadata": {},
     "output_type": "execute_result"
    }
   ],
   "source": [
    "# check for nulls\n",
    "\n",
    "test.isnull().sum()[test.isnull().sum()>0].sort_values(ascending=False)"
   ]
  },
  {
   "cell_type": "code",
   "execution_count": 62,
   "metadata": {},
   "outputs": [
    {
     "data": {
      "text/plain": [
       "pool_qc           99.544937\n",
       "misc_feature      95.335609\n",
       "alley             93.401593\n",
       "fence             80.432309\n",
       "fireplace_qu      48.009101\n",
       "lot_frontage      18.202503\n",
       "garage_yr_blt      5.119454\n",
       "garage_finish      5.119454\n",
       "garage_qual        5.119454\n",
       "garage_cond        5.119454\n",
       "garage_type        5.005688\n",
       "bsmtfin_type_2     2.844141\n",
       "bsmtfin_type_1     2.844141\n",
       "bsmt_exposure      2.844141\n",
       "bsmt_cond          2.844141\n",
       "bsmt_qual          2.844141\n",
       "mas_vnr_area       0.113766\n",
       "mas_vnr_type       0.113766\n",
       "electrical         0.113766\n",
       "dtype: float64"
      ]
     },
     "execution_count": 62,
     "metadata": {},
     "output_type": "execute_result"
    }
   ],
   "source": [
    "nulls = test.isnull().sum()\n",
    "nulls = nulls[nulls>0]\n",
    "nulls_perc = nulls/test.shape[0]*100\n",
    "nulls_perc.sort_values(ascending=False)"
   ]
  },
  {
   "cell_type": "markdown",
   "metadata": {},
   "source": [
    "Missing values in Test set are similar to those in Train set. Hence, we will apply the same methds to clean test dataset.\n",
    "\n",
    "There is one difference, which is the electrical column, and it will be handled in this part. \n",
    "\n",
    "Similar to train set, will first handle the first 5 features with the most missing values.\n",
    "\n",
    "1. pool_qc           \n",
    "2. misc_feature      \n",
    "3. alley             \n",
    "4. fence             \n",
    "5. fireplace_qu \n",
    "\n",
    "\n"
   ]
  },
  {
   "cell_type": "markdown",
   "metadata": {},
   "source": [
    "#### pool_qc column"
   ]
  },
  {
   "cell_type": "code",
   "execution_count": 63,
   "metadata": {},
   "outputs": [
    {
     "data": {
      "text/plain": [
       "0"
      ]
     },
     "execution_count": 63,
     "metadata": {},
     "output_type": "execute_result"
    }
   ],
   "source": [
    "test['pool_qc'].fillna('None', inplace=True) # fill with None\n",
    "test['pool_qc'].isnull().sum() # check for nulls "
   ]
  },
  {
   "cell_type": "markdown",
   "metadata": {},
   "source": [
    "#### misc_feature column"
   ]
  },
  {
   "cell_type": "code",
   "execution_count": 64,
   "metadata": {},
   "outputs": [
    {
     "data": {
      "text/plain": [
       "0"
      ]
     },
     "execution_count": 64,
     "metadata": {},
     "output_type": "execute_result"
    }
   ],
   "source": [
    "test['misc_feature'].fillna('None', inplace=True) # fill with None\n",
    "test['misc_feature'].isnull().sum() # check for nulls "
   ]
  },
  {
   "cell_type": "markdown",
   "metadata": {},
   "source": [
    "#### alley column"
   ]
  },
  {
   "cell_type": "code",
   "execution_count": 65,
   "metadata": {},
   "outputs": [
    {
     "data": {
      "text/plain": [
       "0"
      ]
     },
     "execution_count": 65,
     "metadata": {},
     "output_type": "execute_result"
    }
   ],
   "source": [
    "for type in alley_type:\n",
    "    test.alley = test.alley.str.replace(type, '1')\n",
    "    \n",
    "test.alley.fillna(0, inplace=True) # fill with 0\n",
    "test.alley= test.alley.apply(lambda x: int(x))\n",
    "\n",
    "test['alley'].isnull().sum() # check for nulls "
   ]
  },
  {
   "cell_type": "markdown",
   "metadata": {},
   "source": [
    "#### fence column"
   ]
  },
  {
   "cell_type": "code",
   "execution_count": 66,
   "metadata": {},
   "outputs": [
    {
     "data": {
      "text/plain": [
       "0"
      ]
     },
     "execution_count": 66,
     "metadata": {},
     "output_type": "execute_result"
    }
   ],
   "source": [
    "for quality in fence_quality:\n",
    "    test.fence = test.fence.str.replace(quality, '1')\n",
    "    \n",
    "test.fence.fillna(0, inplace=True)\n",
    "test.fence = test.fence.apply(lambda x: int(x))\n",
    "\n",
    "test['fence'].isnull().sum()"
   ]
  },
  {
   "cell_type": "markdown",
   "metadata": {},
   "source": [
    "#### fireplace column"
   ]
  },
  {
   "cell_type": "code",
   "execution_count": 67,
   "metadata": {},
   "outputs": [
    {
     "data": {
      "text/plain": [
       "0"
      ]
     },
     "execution_count": 67,
     "metadata": {},
     "output_type": "execute_result"
    }
   ],
   "source": [
    "for quality in fireplace_quality:\n",
    "    test.fireplace_qu = test.fireplace_qu.str.replace(quality, '1')\n",
    "    \n",
    "test.fireplace_qu.fillna(0, inplace=True)\n",
    "test.fireplace_qu = test.fireplace_qu.apply(lambda x: int(x))\n",
    "\n",
    "test['fireplace_qu'].isnull().sum()"
   ]
  },
  {
   "cell_type": "markdown",
   "metadata": {},
   "source": [
    "#### garage-related columns"
   ]
  },
  {
   "cell_type": "code",
   "execution_count": 68,
   "metadata": {},
   "outputs": [
    {
     "data": {
      "text/plain": [
       "[None, None, None, None]"
      ]
     },
     "execution_count": 68,
     "metadata": {},
     "output_type": "execute_result"
    }
   ],
   "source": [
    "[test[column].fillna(str('None'), inplace = True) for column in categorical_garage]"
   ]
  },
  {
   "cell_type": "markdown",
   "metadata": {},
   "source": [
    "#### garage_yr_blt column"
   ]
  },
  {
   "cell_type": "code",
   "execution_count": 69,
   "metadata": {},
   "outputs": [],
   "source": [
    "test.drop(['garage_yr_blt'], axis=1, inplace = True)"
   ]
  },
  {
   "cell_type": "markdown",
   "metadata": {},
   "source": [
    "#### basement-related columns"
   ]
  },
  {
   "cell_type": "code",
   "execution_count": 70,
   "metadata": {},
   "outputs": [
    {
     "data": {
      "text/plain": [
       "[None, None, None, None, None, None]"
      ]
     },
     "execution_count": 70,
     "metadata": {},
     "output_type": "execute_result"
    }
   ],
   "source": [
    "[test[column].fillna(0, inplace=True) for column in numerical_basement]"
   ]
  },
  {
   "cell_type": "code",
   "execution_count": 71,
   "metadata": {},
   "outputs": [
    {
     "data": {
      "text/plain": [
       "[None, None, None, None, None]"
      ]
     },
     "execution_count": 71,
     "metadata": {},
     "output_type": "execute_result"
    }
   ],
   "source": [
    "[test[column].fillna(str('None'), inplace = True) for column in categorical_basement]"
   ]
  },
  {
   "cell_type": "markdown",
   "metadata": {},
   "source": [
    "#### lot_frontage column"
   ]
  },
  {
   "cell_type": "code",
   "execution_count": 72,
   "metadata": {},
   "outputs": [],
   "source": [
    "test.dropna(subset = ['lot_frontage'], inplace=True)"
   ]
  },
  {
   "cell_type": "markdown",
   "metadata": {},
   "source": [
    "#### electrical column"
   ]
  },
  {
   "cell_type": "code",
   "execution_count": 73,
   "metadata": {},
   "outputs": [
    {
     "data": {
      "text/html": [
       "<div>\n",
       "<style scoped>\n",
       "    .dataframe tbody tr th:only-of-type {\n",
       "        vertical-align: middle;\n",
       "    }\n",
       "\n",
       "    .dataframe tbody tr th {\n",
       "        vertical-align: top;\n",
       "    }\n",
       "\n",
       "    .dataframe thead th {\n",
       "        text-align: right;\n",
       "    }\n",
       "</style>\n",
       "<table border=\"1\" class=\"dataframe\">\n",
       "  <thead>\n",
       "    <tr style=\"text-align: right;\">\n",
       "      <th></th>\n",
       "      <th>electrical</th>\n",
       "    </tr>\n",
       "  </thead>\n",
       "  <tbody>\n",
       "    <tr>\n",
       "      <th>635</th>\n",
       "      <td>NaN</td>\n",
       "    </tr>\n",
       "  </tbody>\n",
       "</table>\n",
       "</div>"
      ],
      "text/plain": [
       "    electrical\n",
       "635        NaN"
      ]
     },
     "execution_count": 73,
     "metadata": {},
     "output_type": "execute_result"
    }
   ],
   "source": [
    "test[test['electrical'].isnull()][['electrical']]"
   ]
  },
  {
   "cell_type": "code",
   "execution_count": 74,
   "metadata": {},
   "outputs": [],
   "source": [
    "# fill missing value with mode\n",
    "test['electrical'].fillna(test['electrical'].mode()[0], inplace = True)"
   ]
  },
  {
   "cell_type": "code",
   "execution_count": 75,
   "metadata": {},
   "outputs": [
    {
     "data": {
      "text/plain": [
       "0"
      ]
     },
     "execution_count": 75,
     "metadata": {},
     "output_type": "execute_result"
    }
   ],
   "source": [
    "test['electrical'].isnull().sum()"
   ]
  },
  {
   "cell_type": "markdown",
   "metadata": {},
   "source": [
    "#### masonry veneer-related columns"
   ]
  },
  {
   "cell_type": "code",
   "execution_count": 76,
   "metadata": {},
   "outputs": [],
   "source": [
    "# fill in 'None' for NaN for mas_vnr_type column\n",
    "test['mas_vnr_type'].fillna(str('None'), inplace = True)\n",
    "\n",
    "# fill in 0 for NaN for mas_vnr_area column \n",
    "test['mas_vnr_area'].fillna(0, inplace = True)"
   ]
  },
  {
   "cell_type": "markdown",
   "metadata": {},
   "source": [
    "#### Data cleaning for both train set and test set are done."
   ]
  },
  {
   "cell_type": "code",
   "execution_count": 77,
   "metadata": {},
   "outputs": [
    {
     "data": {
      "text/plain": [
       "0"
      ]
     },
     "execution_count": 77,
     "metadata": {},
     "output_type": "execute_result"
    }
   ],
   "source": [
    "# check for nulls\n",
    "\n",
    "test.isnull().sum().sum()"
   ]
  },
  {
   "cell_type": "code",
   "execution_count": 78,
   "metadata": {},
   "outputs": [
    {
     "data": {
      "text/plain": [
       "0"
      ]
     },
     "execution_count": 78,
     "metadata": {},
     "output_type": "execute_result"
    }
   ],
   "source": [
    "# check for nulls\n",
    "\n",
    "train.isnull().sum().sum()"
   ]
  },
  {
   "cell_type": "code",
   "execution_count": 79,
   "metadata": {},
   "outputs": [
    {
     "data": {
      "text/plain": [
       "(719, 76)"
      ]
     },
     "execution_count": 79,
     "metadata": {},
     "output_type": "execute_result"
    }
   ],
   "source": [
    "test.shape"
   ]
  },
  {
   "cell_type": "code",
   "execution_count": 80,
   "metadata": {},
   "outputs": [
    {
     "data": {
      "text/plain": [
       "(1717, 77)"
      ]
     },
     "execution_count": 80,
     "metadata": {},
     "output_type": "execute_result"
    }
   ],
   "source": [
    "train.shape"
   ]
  },
  {
   "cell_type": "markdown",
   "metadata": {},
   "source": [
    "## Exploratory Data Analysis"
   ]
  },
  {
   "cell_type": "markdown",
   "metadata": {},
   "source": [
    "### EDA: histogram"
   ]
  },
  {
   "cell_type": "code",
   "execution_count": 81,
   "metadata": {},
   "outputs": [
    {
     "data": {
      "image/png": "[encoded data removed]",
      "text/plain": [
       "<Figure size 1080x792 with 1 Axes>"
      ]
     },
     "metadata": {
      "needs_background": "light"
     },
     "output_type": "display_data"
    }
   ],
   "source": [
    "plt.figure(figsize=(15, 11))\n",
    "plt.hist(train.saleprice, bins=24, color='#03a5fc')\n",
    "plt.title(\"Distribution of Housing Sales Price in Ames\", fontsize=25)\n",
    "plt.xticks(ticks=range(0, 650000, 50000), fontsize=15)\n",
    "plt.yticks(fontsize=12)\n",
    "plt.xlabel('Sales price', fontsize=12)\n",
    "plt.ylabel('Number of Houses', fontsize=12)\n",
    "plt.axvline(train.saleprice.mean(), color='orange', label='Mean Sales Price')\n",
    "plt.legend(fontsize=12);"
   ]
  },
  {
   "cell_type": "code",
   "execution_count": 82,
   "metadata": {},
   "outputs": [
    {
     "data": {
      "text/plain": [
       "180284.29004076877"
      ]
     },
     "execution_count": 82,
     "metadata": {},
     "output_type": "execute_result"
    }
   ],
   "source": [
    "train.saleprice.mean()"
   ]
  },
  {
   "cell_type": "markdown",
   "metadata": {},
   "source": [
    "The above historgram shows the distribution of housing sales price in Ames, which range between 50,000 and 600,000. The mean sales price is 180284. "
   ]
  },
  {
   "cell_type": "markdown",
   "metadata": {},
   "source": [
    "### EDA: histogram"
   ]
  },
  {
   "cell_type": "code",
   "execution_count": 83,
   "metadata": {},
   "outputs": [
    {
     "data": {
      "image/png": "[encoded data removed]",
      "text/plain": [
       "<Figure size 2160x2160 with 42 Axes>"
      ]
     },
     "metadata": {
      "needs_background": "light"
     },
     "output_type": "display_data"
    }
   ],
   "source": [
    "train.hist(figsize=(30, 30));"
   ]
  },
  {
   "cell_type": "markdown",
   "metadata": {},
   "source": [
    "### EDA: heatmap"
   ]
  },
  {
   "cell_type": "code",
   "execution_count": 84,
   "metadata": {},
   "outputs": [
    {
     "data": {
      "image/png": "[encoded data removed]",
      "text/plain": [
       "<Figure size 1800x1440 with 2 Axes>"
      ]
     },
     "metadata": {
      "needs_background": "light"
     },
     "output_type": "display_data"
    }
   ],
   "source": [
    "plt.figure(figsize=(25,20))\n",
    "corr = train.corr()\n",
    "\n",
    "sns.heatmap(corr,\n",
    "            xticklabels=corr.columns,\n",
    "            yticklabels=corr.columns,\n",
    "            cmap='YlGnBu',\n",
    "            vmin=1, vmax=0.1\n",
    "           )\n",
    "plt.title('Correlation Heatmap')\n",
    "plt.savefig('datasets/heatmap2.png')\n",
    "plt.show()"
   ]
  },
  {
   "cell_type": "code",
   "execution_count": 85,
   "metadata": {},
   "outputs": [
    {
     "data": {
      "text/plain": [
       "saleprice         1.000000\n",
       "overall_qual      0.815698\n",
       "gr_liv_area       0.723847\n",
       "total_bsmt_sf     0.683293\n",
       "garage_area       0.675651\n",
       "1st_flr_sf        0.669985\n",
       "year_built        0.581025\n",
       "year_remod/add    0.558339\n",
       "full_bath         0.544465\n",
       "mas_vnr_area      0.540944\n",
       "fireplace_qu      0.487290\n",
       "fireplaces        0.476892\n",
       "bsmtfin_sf_1      0.452499\n",
       "lot_area          0.400482\n",
       "lot_frontage      0.356742\n",
       "Name: saleprice, dtype: float64"
      ]
     },
     "execution_count": 85,
     "metadata": {},
     "output_type": "execute_result"
    }
   ],
   "source": [
    "# find out those features that are highly correlated to sales price\n",
    "\n",
    "corr = train.corr()\n",
    "corr['saleprice'].sort_values(ascending=False).head(15)"
   ]
  },
  {
   "cell_type": "markdown",
   "metadata": {},
   "source": [
    "The heatmap has shown the correlation between features and sales price.\n",
    "\n",
    "The top 5 features that have the strongest influence over sales price are:\n",
    "\n",
    "1. overall_qual      \n",
    "2. gr_liv_area       \n",
    "3. total_bsmt_sf     \n",
    "4. garage_area       \n",
    "5. 1st_flr_sf        "
   ]
  },
  {
   "cell_type": "markdown",
   "metadata": {},
   "source": [
    "## Preprocessing and Modeling"
   ]
  },
  {
   "cell_type": "markdown",
   "metadata": {},
   "source": [
    "### One-hot Encoding\n",
    "\n",
    "Before modeling, I will dummy out the non-numerical features in both test and train datasets.\n",
    "\n",
    "Since One-hot Encoding is only applicable to nominal categorical values, I will separate categorical ordinal and nominal before One-hot Encoding. "
   ]
  },
  {
   "cell_type": "code",
   "execution_count": 86,
   "metadata": {},
   "outputs": [],
   "source": [
    "#replace ordinal variables with ranked values for train set\n",
    "\n",
    "train['bsmt_qual'].replace(to_replace = ['None', 'Po', 'Fa', 'TA', 'Gd', 'Ex'], value = [0, 1, 2, 3, 4, 5], inplace = True)\n",
    "train['bsmt_cond'].replace(to_replace = ['None', 'Po', 'Fa', 'TA', 'Gd', 'Ex'], value = [0, 1, 2, 3, 4, 5], inplace = True)\n",
    "train['bsmt_exposure'].replace(to_replace = ['None', 'No', 'Mn', 'Av', 'Gd'], value = [0, 1, 2, 3, 4], inplace = True)\n",
    "train['bsmtfin_type_1'].replace(to_replace = ['None', 'Unf', 'LwQ', 'Rec', 'BLQ', 'ALQ', 'GLQ'], value = [0, 1, 2, 3, 4, 5, 6], inplace = True)\n",
    "train['bsmtfin_type_2'].replace(to_replace = ['None', 'Unf', 'LwQ', 'Rec', 'BLQ', 'ALQ', 'GLQ'], value = [0, 1, 2, 3, 4, 5, 6], inplace = True)\n",
    "\n",
    "train['garage_finish'].replace(to_replace =  ['None', 'Unf', 'RFn', 'Fin'], value = [0, 1, 2, 3], inplace = True)\n",
    "train['garage_qual'].replace(to_replace =  ['None', 'Po', 'Fa', 'TA', 'Gd', 'Ex'], value = [0, 1, 2, 3, 4, 5], inplace = True)\n",
    "train['garage_cond'].replace(to_replace =  ['None', 'Po', 'Fa', 'TA', 'Gd', 'Ex'], value = [0, 1, 2, 3, 4, 5], inplace = True)\n",
    "\n",
    "train['pool_qc'].replace(to_replace = ['None', 'Gd', 'TA', 'Fa', 'Ex'], value = [0, 1, 2, 3, 4], inplace = True)\n",
    "train['lot_shape'].replace(to_replace = ['IR3', 'IR2', 'IR1', 'Reg'], value = [0, 1, 2, 3], inplace = True)\n",
    "train['utilities'].replace(to_replace = ['ELO','NoSeWa','NoSewr', 'AllPub'], value = [0, 1, 2, 3], inplace = True)\n",
    "train['land_slope'].replace(to_replace = ['Sev', 'Mod', 'Gtl'], value = [0, 1, 2], inplace = True)\n",
    "train['exter_qual'].replace(to_replace = ['Fa', 'TA', 'Gd', 'Ex'], value = [0, 1, 2, 3], inplace = True)\n",
    "train['exter_cond'].replace(to_replace = ['Po', 'Fa', 'TA', 'Gd', 'Ex'], value = [0, 1, 2, 3, 4], inplace = True)\n",
    "train['heating_qc'].replace(to_replace = ['Po', 'Fa', 'TA', 'Gd', 'Ex'], value = [0, 1, 2, 3, 4], inplace = True)\n",
    "train['electrical'].replace(to_replace = ['FuseP', 'FuseF', 'Mix', 'FuseA', 'SBrkr'], value = [0, 1, 2, 3, 4], inplace = True)\n",
    "train['kitchen_qual'].replace(to_replace = ['Po', 'Fa', 'TA', 'Gd', 'Ex'], value = [0, 1, 2, 3, 4], inplace = True)\n",
    "train['functional'].replace(to_replace = ['Sal', 'Sev', 'Maj2', 'Maj1', 'Mod', 'Min2', 'Min1', 'Typ'], value = [0, 1, 2, 3, 4, 5, 6, 7], inplace = True)\n",
    "train['paved_drive'].replace(to_replace =  ['N', 'P', 'Y'], value = [0, 1, 2], inplace = True)"
   ]
  },
  {
   "cell_type": "code",
   "execution_count": 87,
   "metadata": {},
   "outputs": [],
   "source": [
    "#replace ordinal variables with ranked values for test set\n",
    "\n",
    "test['bsmt_qual'].replace(to_replace = ['None', 'Po', 'Fa', 'TA', 'Gd', 'Ex'], value = [0, 1, 2, 3, 4, 5], inplace = True)\n",
    "test['bsmt_cond'].replace(to_replace = ['None', 'Po', 'Fa', 'TA', 'Gd', 'Ex'], value = [0, 1, 2, 3, 4, 5], inplace = True)\n",
    "test['bsmt_exposure'].replace(to_replace = ['None', 'No', 'Mn', 'Av', 'Gd'], value = [0, 1, 2, 3, 4], inplace = True)\n",
    "test['bsmtfin_type_1'].replace(to_replace = ['None', 'Unf', 'LwQ', 'Rec', 'BLQ', 'ALQ', 'GLQ'], value = [0, 1, 2, 3, 4, 5, 6], inplace = True)\n",
    "test['bsmtfin_type_2'].replace(to_replace = ['None', 'Unf', 'LwQ', 'Rec', 'BLQ', 'ALQ', 'GLQ'], value = [0, 1, 2, 3, 4, 5, 6], inplace = True)\n",
    "\n",
    "test['garage_finish'].replace(to_replace =  ['None', 'Unf', 'RFn', 'Fin'], value = [0, 1, 2, 3], inplace = True)\n",
    "test['garage_qual'].replace(to_replace =  ['None', 'Po', 'Fa', 'TA', 'Gd', 'Ex'], value = [0, 1, 2, 3, 4, 5], inplace = True)\n",
    "test['garage_cond'].replace(to_replace =  ['None', 'Po', 'Fa', 'TA', 'Gd', 'Ex'], value = [0, 1, 2, 3, 4, 5], inplace = True)\n",
    "\n",
    "test['pool_qc'].replace(to_replace = ['None', 'Gd', 'TA', 'Fa', 'Ex'], value = [0, 1, 2, 3, 4], inplace = True)\n",
    "test['lot_shape'].replace(to_replace = ['IR3', 'IR2', 'IR1', 'Reg'], value = [0, 1, 2, 3], inplace = True)\n",
    "test['utilities'].replace(to_replace = ['ELO','NoSeWa','NoSewr', 'AllPub'], value = [0, 1, 2, 3], inplace = True)\n",
    "test['land_slope'].replace(to_replace = ['Sev', 'Mod', 'Gtl'], value = [0, 1, 2], inplace = True)\n",
    "test['exter_qual'].replace(to_replace = ['Fa', 'TA', 'Gd', 'Ex'], value = [0, 1, 2, 3], inplace = True)\n",
    "test['exter_cond'].replace(to_replace = ['Po', 'Fa', 'TA', 'Gd', 'Ex'], value = [0, 1, 2, 3, 4], inplace = True)\n",
    "test['heating_qc'].replace(to_replace = ['Po', 'Fa', 'TA', 'Gd', 'Ex'], value = [0, 1, 2, 3, 4], inplace = True)\n",
    "test['electrical'].replace(to_replace = ['FuseP', 'FuseF', 'Mix', 'FuseA', 'SBrkr'], value = [0, 1, 2, 3, 4], inplace = True)\n",
    "test['kitchen_qual'].replace(to_replace = ['Po', 'Fa', 'TA', 'Gd', 'Ex'], value = [0, 1, 2, 3, 4], inplace = True)\n",
    "test['functional'].replace(to_replace = ['Sal', 'Sev', 'Maj2', 'Maj1', 'Mod', 'Min2', 'Min1', 'Typ'], value = [0, 1, 2, 3, 4, 5, 6, 7], inplace = True)\n",
    "test['paved_drive'].replace(to_replace =  ['N', 'P', 'Y'], value = [0, 1, 2], inplace = True)"
   ]
  },
  {
   "cell_type": "code",
   "execution_count": 88,
   "metadata": {},
   "outputs": [],
   "source": [
    "# combine all nominal variables\n",
    "\n",
    "nominal_variables=['ms_subclass', 'ms_zoning', 'street', 'alley', 'land_contour', 'lot_config', 'neighborhood', \n",
    "                   'condition_1', 'condition_2', 'bldg_type', 'house_style', 'roof_style', \n",
    "                   'roof_matl', 'exterior_1st', 'exterior_2nd', 'mas_vnr_type', 'foundation', 'heating', \n",
    "                   'central_air', 'garage_type', 'misc_feature', 'sale_type', 'mo_sold', 'yr_sold']"
   ]
  },
  {
   "cell_type": "code",
   "execution_count": 89,
   "metadata": {},
   "outputs": [],
   "source": [
    "# create dummies for all nominal variables in train set\n",
    "\n",
    "train_dummies = pd.get_dummies(train, columns = nominal_variables)"
   ]
  },
  {
   "cell_type": "code",
   "execution_count": 90,
   "metadata": {},
   "outputs": [],
   "source": [
    "# create dummies for all nominal variables in test set\n",
    "\n",
    "test_dummies = pd.get_dummies(test, columns = nominal_variables)"
   ]
  },
  {
   "cell_type": "code",
   "execution_count": 91,
   "metadata": {},
   "outputs": [
    {
     "name": "stdout",
     "output_type": "stream",
     "text": [
      "<class 'pandas.core.frame.DataFrame'>\n",
      "Int64Index: 1717 entries, 1 to 2050\n",
      "Data columns (total 238 columns):\n",
      " #   Column                Non-Null Count  Dtype  \n",
      "---  ------                --------------  -----  \n",
      " 0   id                    1717 non-null   int64  \n",
      " 1   lot_frontage          1717 non-null   float64\n",
      " 2   lot_area              1717 non-null   int64  \n",
      " 3   lot_shape             1717 non-null   int64  \n",
      " 4   utilities             1717 non-null   int64  \n",
      " 5   land_slope            1717 non-null   int64  \n",
      " 6   overall_qual          1717 non-null   int64  \n",
      " 7   overall_cond          1717 non-null   int64  \n",
      " 8   year_built            1717 non-null   int64  \n",
      " 9   year_remod/add        1717 non-null   int64  \n",
      " 10  mas_vnr_area          1717 non-null   float64\n",
      " 11  exter_qual            1717 non-null   int64  \n",
      " 12  exter_cond            1717 non-null   int64  \n",
      " 13  bsmt_qual             1717 non-null   int64  \n",
      " 14  bsmt_cond             1717 non-null   int64  \n",
      " 15  bsmt_exposure         1717 non-null   int64  \n",
      " 16  bsmtfin_type_1        1717 non-null   int64  \n",
      " 17  bsmtfin_sf_1          1717 non-null   float64\n",
      " 18  bsmtfin_type_2        1717 non-null   int64  \n",
      " 19  bsmtfin_sf_2          1717 non-null   float64\n",
      " 20  bsmt_unf_sf           1717 non-null   float64\n",
      " 21  total_bsmt_sf         1717 non-null   float64\n",
      " 22  heating_qc            1717 non-null   int64  \n",
      " 23  electrical            1717 non-null   int64  \n",
      " 24  1st_flr_sf            1717 non-null   int64  \n",
      " 25  2nd_flr_sf            1717 non-null   int64  \n",
      " 26  low_qual_fin_sf       1717 non-null   int64  \n",
      " 27  gr_liv_area           1717 non-null   int64  \n",
      " 28  bsmt_full_bath        1717 non-null   float64\n",
      " 29  bsmt_half_bath        1717 non-null   float64\n",
      " 30  full_bath             1717 non-null   int64  \n",
      " 31  half_bath             1717 non-null   int64  \n",
      " 32  bedroom_abvgr         1717 non-null   int64  \n",
      " 33  kitchen_abvgr         1717 non-null   int64  \n",
      " 34  kitchen_qual          1717 non-null   int64  \n",
      " 35  functional            1717 non-null   int64  \n",
      " 36  fireplaces            1717 non-null   int64  \n",
      " 37  fireplace_qu          1717 non-null   int64  \n",
      " 38  garage_finish         1717 non-null   int64  \n",
      " 39  garage_area           1717 non-null   float64\n",
      " 40  garage_qual           1717 non-null   int64  \n",
      " 41  garage_cond           1717 non-null   int64  \n",
      " 42  paved_drive           1717 non-null   int64  \n",
      " 43  wood_deck_sf          1717 non-null   int64  \n",
      " 44  open_porch_sf         1717 non-null   int64  \n",
      " 45  enclosed_porch        1717 non-null   int64  \n",
      " 46  3ssn_porch            1717 non-null   int64  \n",
      " 47  screen_porch          1717 non-null   int64  \n",
      " 48  pool_area             1717 non-null   int64  \n",
      " 49  pool_qc               1717 non-null   int64  \n",
      " 50  fence                 1717 non-null   int64  \n",
      " 51  misc_val              1717 non-null   int64  \n",
      " 52  saleprice             1717 non-null   int64  \n",
      " 53  ms_subclass_20        1717 non-null   uint8  \n",
      " 54  ms_subclass_30        1717 non-null   uint8  \n",
      " 55  ms_subclass_40        1717 non-null   uint8  \n",
      " 56  ms_subclass_45        1717 non-null   uint8  \n",
      " 57  ms_subclass_50        1717 non-null   uint8  \n",
      " 58  ms_subclass_60        1717 non-null   uint8  \n",
      " 59  ms_subclass_70        1717 non-null   uint8  \n",
      " 60  ms_subclass_75        1717 non-null   uint8  \n",
      " 61  ms_subclass_80        1717 non-null   uint8  \n",
      " 62  ms_subclass_85        1717 non-null   uint8  \n",
      " 63  ms_subclass_90        1717 non-null   uint8  \n",
      " 64  ms_subclass_120       1717 non-null   uint8  \n",
      " 65  ms_subclass_160       1717 non-null   uint8  \n",
      " 66  ms_subclass_180       1717 non-null   uint8  \n",
      " 67  ms_subclass_190       1717 non-null   uint8  \n",
      " 68  ms_zoning_A (agr)     1717 non-null   uint8  \n",
      " 69  ms_zoning_C (all)     1717 non-null   uint8  \n",
      " 70  ms_zoning_FV          1717 non-null   uint8  \n",
      " 71  ms_zoning_I (all)     1717 non-null   uint8  \n",
      " 72  ms_zoning_RH          1717 non-null   uint8  \n",
      " 73  ms_zoning_RL          1717 non-null   uint8  \n",
      " 74  ms_zoning_RM          1717 non-null   uint8  \n",
      " 75  street_Grvl           1717 non-null   uint8  \n",
      " 76  street_Pave           1717 non-null   uint8  \n",
      " 77  alley_0               1717 non-null   uint8  \n",
      " 78  alley_1               1717 non-null   uint8  \n",
      " 79  land_contour_Bnk      1717 non-null   uint8  \n",
      " 80  land_contour_HLS      1717 non-null   uint8  \n",
      " 81  land_contour_Low      1717 non-null   uint8  \n",
      " 82  land_contour_Lvl      1717 non-null   uint8  \n",
      " 83  lot_config_Corner     1717 non-null   uint8  \n",
      " 84  lot_config_CulDSac    1717 non-null   uint8  \n",
      " 85  lot_config_FR2        1717 non-null   uint8  \n",
      " 86  lot_config_FR3        1717 non-null   uint8  \n",
      " 87  lot_config_Inside     1717 non-null   uint8  \n",
      " 88  neighborhood_Blmngtn  1717 non-null   uint8  \n",
      " 89  neighborhood_Blueste  1717 non-null   uint8  \n",
      " 90  neighborhood_BrDale   1717 non-null   uint8  \n",
      " 91  neighborhood_BrkSide  1717 non-null   uint8  \n",
      " 92  neighborhood_ClearCr  1717 non-null   uint8  \n",
      " 93  neighborhood_CollgCr  1717 non-null   uint8  \n",
      " 94  neighborhood_Crawfor  1717 non-null   uint8  \n",
      " 95  neighborhood_Edwards  1717 non-null   uint8  \n",
      " 96  neighborhood_Gilbert  1717 non-null   uint8  \n",
      " 97  neighborhood_Greens   1717 non-null   uint8  \n",
      " 98  neighborhood_IDOTRR   1717 non-null   uint8  \n",
      " 99  neighborhood_MeadowV  1717 non-null   uint8  \n",
      " 100 neighborhood_Mitchel  1717 non-null   uint8  \n",
      " 101 neighborhood_NAmes    1717 non-null   uint8  \n",
      " 102 neighborhood_NPkVill  1717 non-null   uint8  \n",
      " 103 neighborhood_NWAmes   1717 non-null   uint8  \n",
      " 104 neighborhood_NoRidge  1717 non-null   uint8  \n",
      " 105 neighborhood_NridgHt  1717 non-null   uint8  \n",
      " 106 neighborhood_OldTown  1717 non-null   uint8  \n",
      " 107 neighborhood_SWISU    1717 non-null   uint8  \n",
      " 108 neighborhood_Sawyer   1717 non-null   uint8  \n",
      " 109 neighborhood_SawyerW  1717 non-null   uint8  \n",
      " 110 neighborhood_Somerst  1717 non-null   uint8  \n",
      " 111 neighborhood_StoneBr  1717 non-null   uint8  \n",
      " 112 neighborhood_Timber   1717 non-null   uint8  \n",
      " 113 neighborhood_Veenker  1717 non-null   uint8  \n",
      " 114 condition_1_Artery    1717 non-null   uint8  \n",
      " 115 condition_1_Feedr     1717 non-null   uint8  \n",
      " 116 condition_1_Norm      1717 non-null   uint8  \n",
      " 117 condition_1_PosA      1717 non-null   uint8  \n",
      " 118 condition_1_PosN      1717 non-null   uint8  \n",
      " 119 condition_1_RRAe      1717 non-null   uint8  \n",
      " 120 condition_1_RRAn      1717 non-null   uint8  \n",
      " 121 condition_1_RRNe      1717 non-null   uint8  \n",
      " 122 condition_1_RRNn      1717 non-null   uint8  \n",
      " 123 condition_2_Artery    1717 non-null   uint8  \n",
      " 124 condition_2_Feedr     1717 non-null   uint8  \n",
      " 125 condition_2_Norm      1717 non-null   uint8  \n",
      " 126 condition_2_PosA      1717 non-null   uint8  \n",
      " 127 condition_2_PosN      1717 non-null   uint8  \n",
      " 128 condition_2_RRNn      1717 non-null   uint8  \n",
      " 129 bldg_type_1Fam        1717 non-null   uint8  \n",
      " 130 bldg_type_2fmCon      1717 non-null   uint8  \n",
      " 131 bldg_type_Duplex      1717 non-null   uint8  \n",
      " 132 bldg_type_Twnhs       1717 non-null   uint8  \n",
      " 133 bldg_type_TwnhsE      1717 non-null   uint8  \n",
      " 134 house_style_1.5Fin    1717 non-null   uint8  \n",
      " 135 house_style_1.5Unf    1717 non-null   uint8  \n",
      " 136 house_style_1Story    1717 non-null   uint8  \n",
      " 137 house_style_2.5Fin    1717 non-null   uint8  \n",
      " 138 house_style_2.5Unf    1717 non-null   uint8  \n",
      " 139 house_style_2Story    1717 non-null   uint8  \n",
      " 140 house_style_SFoyer    1717 non-null   uint8  \n",
      " 141 house_style_SLvl      1717 non-null   uint8  \n",
      " 142 roof_style_Flat       1717 non-null   uint8  \n",
      " 143 roof_style_Gable      1717 non-null   uint8  \n",
      " 144 roof_style_Gambrel    1717 non-null   uint8  \n",
      " 145 roof_style_Hip        1717 non-null   uint8  \n",
      " 146 roof_style_Mansard    1717 non-null   uint8  \n",
      " 147 roof_style_Shed       1717 non-null   uint8  \n",
      " 148 roof_matl_CompShg     1717 non-null   uint8  \n",
      " 149 roof_matl_Membran     1717 non-null   uint8  \n",
      " 150 roof_matl_Tar&Grv     1717 non-null   uint8  \n",
      " 151 roof_matl_WdShake     1717 non-null   uint8  \n",
      " 152 roof_matl_WdShngl     1717 non-null   uint8  \n",
      " 153 exterior_1st_AsbShng  1717 non-null   uint8  \n",
      " 154 exterior_1st_AsphShn  1717 non-null   uint8  \n",
      " 155 exterior_1st_BrkComm  1717 non-null   uint8  \n",
      " 156 exterior_1st_BrkFace  1717 non-null   uint8  \n",
      " 157 exterior_1st_CBlock   1717 non-null   uint8  \n",
      " 158 exterior_1st_CemntBd  1717 non-null   uint8  \n",
      " 159 exterior_1st_HdBoard  1717 non-null   uint8  \n",
      " 160 exterior_1st_ImStucc  1717 non-null   uint8  \n",
      " 161 exterior_1st_MetalSd  1717 non-null   uint8  \n",
      " 162 exterior_1st_Plywood  1717 non-null   uint8  \n",
      " 163 exterior_1st_Stone    1717 non-null   uint8  \n",
      " 164 exterior_1st_Stucco   1717 non-null   uint8  \n",
      " 165 exterior_1st_VinylSd  1717 non-null   uint8  \n",
      " 166 exterior_1st_Wd Sdng  1717 non-null   uint8  \n",
      " 167 exterior_1st_WdShing  1717 non-null   uint8  \n",
      " 168 exterior_2nd_AsbShng  1717 non-null   uint8  \n",
      " 169 exterior_2nd_AsphShn  1717 non-null   uint8  \n",
      " 170 exterior_2nd_Brk Cmn  1717 non-null   uint8  \n",
      " 171 exterior_2nd_BrkFace  1717 non-null   uint8  \n",
      " 172 exterior_2nd_CBlock   1717 non-null   uint8  \n",
      " 173 exterior_2nd_CmentBd  1717 non-null   uint8  \n",
      " 174 exterior_2nd_HdBoard  1717 non-null   uint8  \n",
      " 175 exterior_2nd_ImStucc  1717 non-null   uint8  \n",
      " 176 exterior_2nd_MetalSd  1717 non-null   uint8  \n",
      " 177 exterior_2nd_Plywood  1717 non-null   uint8  \n",
      " 178 exterior_2nd_Stone    1717 non-null   uint8  \n",
      " 179 exterior_2nd_Stucco   1717 non-null   uint8  \n",
      " 180 exterior_2nd_VinylSd  1717 non-null   uint8  \n",
      " 181 exterior_2nd_Wd Sdng  1717 non-null   uint8  \n",
      " 182 exterior_2nd_Wd Shng  1717 non-null   uint8  \n",
      " 183 mas_vnr_type_BrkCmn   1717 non-null   uint8  \n",
      " 184 mas_vnr_type_BrkFace  1717 non-null   uint8  \n",
      " 185 mas_vnr_type_None     1717 non-null   uint8  \n",
      " 186 mas_vnr_type_Stone    1717 non-null   uint8  \n",
      " 187 foundation_BrkTil     1717 non-null   uint8  \n",
      " 188 foundation_CBlock     1717 non-null   uint8  \n",
      " 189 foundation_PConc      1717 non-null   uint8  \n",
      " 190 foundation_Slab       1717 non-null   uint8  \n",
      " 191 foundation_Stone      1717 non-null   uint8  \n",
      " 192 foundation_Wood       1717 non-null   uint8  \n",
      " 193 heating_GasA          1717 non-null   uint8  \n",
      " 194 heating_GasW          1717 non-null   uint8  \n",
      " 195 heating_Grav          1717 non-null   uint8  \n",
      " 196 heating_OthW          1717 non-null   uint8  \n",
      " 197 heating_Wall          1717 non-null   uint8  \n",
      " 198 central_air_N         1717 non-null   uint8  \n",
      " 199 central_air_Y         1717 non-null   uint8  \n",
      " 200 garage_type_2Types    1717 non-null   uint8  \n",
      " 201 garage_type_Attchd    1717 non-null   uint8  \n",
      " 202 garage_type_Basment   1717 non-null   uint8  \n",
      " 203 garage_type_BuiltIn   1717 non-null   uint8  \n",
      " 204 garage_type_CarPort   1717 non-null   uint8  \n",
      " 205 garage_type_Detchd    1717 non-null   uint8  \n",
      " 206 garage_type_None      1717 non-null   uint8  \n",
      " 207 misc_feature_Gar2     1717 non-null   uint8  \n",
      " 208 misc_feature_None     1717 non-null   uint8  \n",
      " 209 misc_feature_Othr     1717 non-null   uint8  \n",
      " 210 misc_feature_Shed     1717 non-null   uint8  \n",
      " 211 misc_feature_TenC     1717 non-null   uint8  \n",
      " 212 sale_type_COD         1717 non-null   uint8  \n",
      " 213 sale_type_CWD         1717 non-null   uint8  \n",
      " 214 sale_type_Con         1717 non-null   uint8  \n",
      " 215 sale_type_ConLD       1717 non-null   uint8  \n",
      " 216 sale_type_ConLI       1717 non-null   uint8  \n",
      " 217 sale_type_ConLw       1717 non-null   uint8  \n",
      " 218 sale_type_New         1717 non-null   uint8  \n",
      " 219 sale_type_Oth         1717 non-null   uint8  \n",
      " 220 sale_type_WD          1717 non-null   uint8  \n",
      " 221 mo_sold_1             1717 non-null   uint8  \n",
      " 222 mo_sold_2             1717 non-null   uint8  \n",
      " 223 mo_sold_3             1717 non-null   uint8  \n",
      " 224 mo_sold_4             1717 non-null   uint8  \n",
      " 225 mo_sold_5             1717 non-null   uint8  \n",
      " 226 mo_sold_6             1717 non-null   uint8  \n",
      " 227 mo_sold_7             1717 non-null   uint8  \n",
      " 228 mo_sold_8             1717 non-null   uint8  \n",
      " 229 mo_sold_9             1717 non-null   uint8  \n",
      " 230 mo_sold_10            1717 non-null   uint8  \n",
      " 231 mo_sold_11            1717 non-null   uint8  \n",
      " 232 mo_sold_12            1717 non-null   uint8  \n",
      " 233 yr_sold_2006          1717 non-null   uint8  \n",
      " 234 yr_sold_2007          1717 non-null   uint8  \n",
      " 235 yr_sold_2008          1717 non-null   uint8  \n",
      " 236 yr_sold_2009          1717 non-null   uint8  \n",
      " 237 yr_sold_2010          1717 non-null   uint8  \n",
      "dtypes: float64(9), int64(44), uint8(185)\n",
      "memory usage: 1.0 MB\n"
     ]
    }
   ],
   "source": [
    "train_dummies.info(verbose=True, null_counts=True)"
   ]
  },
  {
   "cell_type": "code",
   "execution_count": 92,
   "metadata": {},
   "outputs": [
    {
     "name": "stdout",
     "output_type": "stream",
     "text": [
      "<class 'pandas.core.frame.DataFrame'>\n",
      "Int64Index: 719 entries, 0 to 878\n",
      "Data columns (total 230 columns):\n",
      " #   Column                Non-Null Count  Dtype  \n",
      "---  ------                --------------  -----  \n",
      " 0   id                    719 non-null    int64  \n",
      " 1   lot_frontage          719 non-null    float64\n",
      " 2   lot_area              719 non-null    int64  \n",
      " 3   lot_shape             719 non-null    int64  \n",
      " 4   utilities             719 non-null    int64  \n",
      " 5   land_slope            719 non-null    int64  \n",
      " 6   overall_qual          719 non-null    int64  \n",
      " 7   overall_cond          719 non-null    int64  \n",
      " 8   year_built            719 non-null    int64  \n",
      " 9   year_remod/add        719 non-null    int64  \n",
      " 10  mas_vnr_area          719 non-null    float64\n",
      " 11  exter_qual            719 non-null    int64  \n",
      " 12  exter_cond            719 non-null    int64  \n",
      " 13  bsmt_qual             719 non-null    int64  \n",
      " 14  bsmt_cond             719 non-null    int64  \n",
      " 15  bsmt_exposure         719 non-null    int64  \n",
      " 16  bsmtfin_type_1        719 non-null    int64  \n",
      " 17  bsmtfin_sf_1          719 non-null    int64  \n",
      " 18  bsmtfin_type_2        719 non-null    int64  \n",
      " 19  bsmtfin_sf_2          719 non-null    int64  \n",
      " 20  bsmt_unf_sf           719 non-null    int64  \n",
      " 21  total_bsmt_sf         719 non-null    int64  \n",
      " 22  heating_qc            719 non-null    int64  \n",
      " 23  electrical            719 non-null    int64  \n",
      " 24  1st_flr_sf            719 non-null    int64  \n",
      " 25  2nd_flr_sf            719 non-null    int64  \n",
      " 26  low_qual_fin_sf       719 non-null    int64  \n",
      " 27  gr_liv_area           719 non-null    int64  \n",
      " 28  bsmt_full_bath        719 non-null    int64  \n",
      " 29  bsmt_half_bath        719 non-null    int64  \n",
      " 30  full_bath             719 non-null    int64  \n",
      " 31  half_bath             719 non-null    int64  \n",
      " 32  bedroom_abvgr         719 non-null    int64  \n",
      " 33  kitchen_abvgr         719 non-null    int64  \n",
      " 34  kitchen_qual          719 non-null    int64  \n",
      " 35  functional            719 non-null    int64  \n",
      " 36  fireplaces            719 non-null    int64  \n",
      " 37  fireplace_qu          719 non-null    int64  \n",
      " 38  garage_finish         719 non-null    int64  \n",
      " 39  garage_area           719 non-null    int64  \n",
      " 40  garage_qual           719 non-null    int64  \n",
      " 41  garage_cond           719 non-null    int64  \n",
      " 42  paved_drive           719 non-null    int64  \n",
      " 43  wood_deck_sf          719 non-null    int64  \n",
      " 44  open_porch_sf         719 non-null    int64  \n",
      " 45  enclosed_porch        719 non-null    int64  \n",
      " 46  3ssn_porch            719 non-null    int64  \n",
      " 47  screen_porch          719 non-null    int64  \n",
      " 48  pool_area             719 non-null    int64  \n",
      " 49  pool_qc               719 non-null    int64  \n",
      " 50  fence                 719 non-null    int64  \n",
      " 51  misc_val              719 non-null    int64  \n",
      " 52  ms_subclass_20        719 non-null    uint8  \n",
      " 53  ms_subclass_30        719 non-null    uint8  \n",
      " 54  ms_subclass_40        719 non-null    uint8  \n",
      " 55  ms_subclass_45        719 non-null    uint8  \n",
      " 56  ms_subclass_50        719 non-null    uint8  \n",
      " 57  ms_subclass_60        719 non-null    uint8  \n",
      " 58  ms_subclass_70        719 non-null    uint8  \n",
      " 59  ms_subclass_75        719 non-null    uint8  \n",
      " 60  ms_subclass_80        719 non-null    uint8  \n",
      " 61  ms_subclass_85        719 non-null    uint8  \n",
      " 62  ms_subclass_90        719 non-null    uint8  \n",
      " 63  ms_subclass_120       719 non-null    uint8  \n",
      " 64  ms_subclass_160       719 non-null    uint8  \n",
      " 65  ms_subclass_180       719 non-null    uint8  \n",
      " 66  ms_subclass_190       719 non-null    uint8  \n",
      " 67  ms_zoning_C (all)     719 non-null    uint8  \n",
      " 68  ms_zoning_FV          719 non-null    uint8  \n",
      " 69  ms_zoning_RH          719 non-null    uint8  \n",
      " 70  ms_zoning_RL          719 non-null    uint8  \n",
      " 71  ms_zoning_RM          719 non-null    uint8  \n",
      " 72  street_Grvl           719 non-null    uint8  \n",
      " 73  street_Pave           719 non-null    uint8  \n",
      " 74  alley_0               719 non-null    uint8  \n",
      " 75  alley_1               719 non-null    uint8  \n",
      " 76  land_contour_Bnk      719 non-null    uint8  \n",
      " 77  land_contour_HLS      719 non-null    uint8  \n",
      " 78  land_contour_Low      719 non-null    uint8  \n",
      " 79  land_contour_Lvl      719 non-null    uint8  \n",
      " 80  lot_config_Corner     719 non-null    uint8  \n",
      " 81  lot_config_CulDSac    719 non-null    uint8  \n",
      " 82  lot_config_FR2        719 non-null    uint8  \n",
      " 83  lot_config_FR3        719 non-null    uint8  \n",
      " 84  lot_config_Inside     719 non-null    uint8  \n",
      " 85  neighborhood_Blmngtn  719 non-null    uint8  \n",
      " 86  neighborhood_Blueste  719 non-null    uint8  \n",
      " 87  neighborhood_BrDale   719 non-null    uint8  \n",
      " 88  neighborhood_BrkSide  719 non-null    uint8  \n",
      " 89  neighborhood_ClearCr  719 non-null    uint8  \n",
      " 90  neighborhood_CollgCr  719 non-null    uint8  \n",
      " 91  neighborhood_Crawfor  719 non-null    uint8  \n",
      " 92  neighborhood_Edwards  719 non-null    uint8  \n",
      " 93  neighborhood_Gilbert  719 non-null    uint8  \n",
      " 94  neighborhood_Greens   719 non-null    uint8  \n",
      " 95  neighborhood_IDOTRR   719 non-null    uint8  \n",
      " 96  neighborhood_MeadowV  719 non-null    uint8  \n",
      " 97  neighborhood_Mitchel  719 non-null    uint8  \n",
      " 98  neighborhood_NAmes    719 non-null    uint8  \n",
      " 99  neighborhood_NPkVill  719 non-null    uint8  \n",
      " 100 neighborhood_NWAmes   719 non-null    uint8  \n",
      " 101 neighborhood_NoRidge  719 non-null    uint8  \n",
      " 102 neighborhood_NridgHt  719 non-null    uint8  \n",
      " 103 neighborhood_OldTown  719 non-null    uint8  \n",
      " 104 neighborhood_SWISU    719 non-null    uint8  \n",
      " 105 neighborhood_Sawyer   719 non-null    uint8  \n",
      " 106 neighborhood_SawyerW  719 non-null    uint8  \n",
      " 107 neighborhood_Somerst  719 non-null    uint8  \n",
      " 108 neighborhood_StoneBr  719 non-null    uint8  \n",
      " 109 neighborhood_Timber   719 non-null    uint8  \n",
      " 110 neighborhood_Veenker  719 non-null    uint8  \n",
      " 111 condition_1_Artery    719 non-null    uint8  \n",
      " 112 condition_1_Feedr     719 non-null    uint8  \n",
      " 113 condition_1_Norm      719 non-null    uint8  \n",
      " 114 condition_1_PosA      719 non-null    uint8  \n",
      " 115 condition_1_PosN      719 non-null    uint8  \n",
      " 116 condition_1_RRAe      719 non-null    uint8  \n",
      " 117 condition_1_RRAn      719 non-null    uint8  \n",
      " 118 condition_1_RRNe      719 non-null    uint8  \n",
      " 119 condition_1_RRNn      719 non-null    uint8  \n",
      " 120 condition_2_Feedr     719 non-null    uint8  \n",
      " 121 condition_2_Norm      719 non-null    uint8  \n",
      " 122 condition_2_PosA      719 non-null    uint8  \n",
      " 123 condition_2_PosN      719 non-null    uint8  \n",
      " 124 bldg_type_1Fam        719 non-null    uint8  \n",
      " 125 bldg_type_2fmCon      719 non-null    uint8  \n",
      " 126 bldg_type_Duplex      719 non-null    uint8  \n",
      " 127 bldg_type_Twnhs       719 non-null    uint8  \n",
      " 128 bldg_type_TwnhsE      719 non-null    uint8  \n",
      " 129 house_style_1.5Fin    719 non-null    uint8  \n",
      " 130 house_style_1.5Unf    719 non-null    uint8  \n",
      " 131 house_style_1Story    719 non-null    uint8  \n",
      " 132 house_style_2.5Fin    719 non-null    uint8  \n",
      " 133 house_style_2.5Unf    719 non-null    uint8  \n",
      " 134 house_style_2Story    719 non-null    uint8  \n",
      " 135 house_style_SFoyer    719 non-null    uint8  \n",
      " 136 house_style_SLvl      719 non-null    uint8  \n",
      " 137 roof_style_Flat       719 non-null    uint8  \n",
      " 138 roof_style_Gable      719 non-null    uint8  \n",
      " 139 roof_style_Gambrel    719 non-null    uint8  \n",
      " 140 roof_style_Hip        719 non-null    uint8  \n",
      " 141 roof_style_Mansard    719 non-null    uint8  \n",
      " 142 roof_style_Shed       719 non-null    uint8  \n",
      " 143 roof_matl_CompShg     719 non-null    uint8  \n",
      " 144 roof_matl_Roll        719 non-null    uint8  \n",
      " 145 roof_matl_Tar&Grv     719 non-null    uint8  \n",
      " 146 roof_matl_WdShake     719 non-null    uint8  \n",
      " 147 roof_matl_WdShngl     719 non-null    uint8  \n",
      " 148 exterior_1st_AsbShng  719 non-null    uint8  \n",
      " 149 exterior_1st_AsphShn  719 non-null    uint8  \n",
      " 150 exterior_1st_BrkComm  719 non-null    uint8  \n",
      " 151 exterior_1st_BrkFace  719 non-null    uint8  \n",
      " 152 exterior_1st_CemntBd  719 non-null    uint8  \n",
      " 153 exterior_1st_HdBoard  719 non-null    uint8  \n",
      " 154 exterior_1st_MetalSd  719 non-null    uint8  \n",
      " 155 exterior_1st_Plywood  719 non-null    uint8  \n",
      " 156 exterior_1st_PreCast  719 non-null    uint8  \n",
      " 157 exterior_1st_Stucco   719 non-null    uint8  \n",
      " 158 exterior_1st_VinylSd  719 non-null    uint8  \n",
      " 159 exterior_1st_Wd Sdng  719 non-null    uint8  \n",
      " 160 exterior_1st_WdShing  719 non-null    uint8  \n",
      " 161 exterior_2nd_AsbShng  719 non-null    uint8  \n",
      " 162 exterior_2nd_AsphShn  719 non-null    uint8  \n",
      " 163 exterior_2nd_Brk Cmn  719 non-null    uint8  \n",
      " 164 exterior_2nd_BrkFace  719 non-null    uint8  \n",
      " 165 exterior_2nd_CBlock   719 non-null    uint8  \n",
      " 166 exterior_2nd_CmentBd  719 non-null    uint8  \n",
      " 167 exterior_2nd_HdBoard  719 non-null    uint8  \n",
      " 168 exterior_2nd_ImStucc  719 non-null    uint8  \n",
      " 169 exterior_2nd_MetalSd  719 non-null    uint8  \n",
      " 170 exterior_2nd_Other    719 non-null    uint8  \n",
      " 171 exterior_2nd_Plywood  719 non-null    uint8  \n",
      " 172 exterior_2nd_PreCast  719 non-null    uint8  \n",
      " 173 exterior_2nd_Stucco   719 non-null    uint8  \n",
      " 174 exterior_2nd_VinylSd  719 non-null    uint8  \n",
      " 175 exterior_2nd_Wd Sdng  719 non-null    uint8  \n",
      " 176 exterior_2nd_Wd Shng  719 non-null    uint8  \n",
      " 177 mas_vnr_type_BrkCmn   719 non-null    uint8  \n",
      " 178 mas_vnr_type_BrkFace  719 non-null    uint8  \n",
      " 179 mas_vnr_type_CBlock   719 non-null    uint8  \n",
      " 180 mas_vnr_type_None     719 non-null    uint8  \n",
      " 181 mas_vnr_type_Stone    719 non-null    uint8  \n",
      " 182 foundation_BrkTil     719 non-null    uint8  \n",
      " 183 foundation_CBlock     719 non-null    uint8  \n",
      " 184 foundation_PConc      719 non-null    uint8  \n",
      " 185 foundation_Slab       719 non-null    uint8  \n",
      " 186 foundation_Stone      719 non-null    uint8  \n",
      " 187 foundation_Wood       719 non-null    uint8  \n",
      " 188 heating_GasA          719 non-null    uint8  \n",
      " 189 heating_GasW          719 non-null    uint8  \n",
      " 190 heating_Grav          719 non-null    uint8  \n",
      " 191 central_air_N         719 non-null    uint8  \n",
      " 192 central_air_Y         719 non-null    uint8  \n",
      " 193 garage_type_2Types    719 non-null    uint8  \n",
      " 194 garage_type_Attchd    719 non-null    uint8  \n",
      " 195 garage_type_Basment   719 non-null    uint8  \n",
      " 196 garage_type_BuiltIn   719 non-null    uint8  \n",
      " 197 garage_type_CarPort   719 non-null    uint8  \n",
      " 198 garage_type_Detchd    719 non-null    uint8  \n",
      " 199 garage_type_None      719 non-null    uint8  \n",
      " 200 misc_feature_None     719 non-null    uint8  \n",
      " 201 misc_feature_Othr     719 non-null    uint8  \n",
      " 202 misc_feature_Shed     719 non-null    uint8  \n",
      " 203 sale_type_COD         719 non-null    uint8  \n",
      " 204 sale_type_CWD         719 non-null    uint8  \n",
      " 205 sale_type_Con         719 non-null    uint8  \n",
      " 206 sale_type_ConLD       719 non-null    uint8  \n",
      " 207 sale_type_ConLI       719 non-null    uint8  \n",
      " 208 sale_type_ConLw       719 non-null    uint8  \n",
      " 209 sale_type_New         719 non-null    uint8  \n",
      " 210 sale_type_Oth         719 non-null    uint8  \n",
      " 211 sale_type_VWD         719 non-null    uint8  \n",
      " 212 sale_type_WD          719 non-null    uint8  \n",
      " 213 mo_sold_1             719 non-null    uint8  \n",
      " 214 mo_sold_2             719 non-null    uint8  \n",
      " 215 mo_sold_3             719 non-null    uint8  \n",
      " 216 mo_sold_4             719 non-null    uint8  \n",
      " 217 mo_sold_5             719 non-null    uint8  \n",
      " 218 mo_sold_6             719 non-null    uint8  \n",
      " 219 mo_sold_7             719 non-null    uint8  \n",
      " 220 mo_sold_8             719 non-null    uint8  \n",
      " 221 mo_sold_9             719 non-null    uint8  \n",
      " 222 mo_sold_10            719 non-null    uint8  \n",
      " 223 mo_sold_11            719 non-null    uint8  \n",
      " 224 mo_sold_12            719 non-null    uint8  \n",
      " 225 yr_sold_2006          719 non-null    uint8  \n",
      " 226 yr_sold_2007          719 non-null    uint8  \n",
      " 227 yr_sold_2008          719 non-null    uint8  \n",
      " 228 yr_sold_2009          719 non-null    uint8  \n",
      " 229 yr_sold_2010          719 non-null    uint8  \n",
      "dtypes: float64(2), int64(50), uint8(178)\n",
      "memory usage: 422.7 KB\n"
     ]
    }
   ],
   "source": [
    "test_dummies.info(verbose=True, null_counts=True)"
   ]
  },
  {
   "cell_type": "code",
   "execution_count": 93,
   "metadata": {},
   "outputs": [
    {
     "data": {
      "text/plain": [
       "(1717, 238)"
      ]
     },
     "execution_count": 93,
     "metadata": {},
     "output_type": "execute_result"
    }
   ],
   "source": [
    "train_dummies.shape"
   ]
  },
  {
   "cell_type": "code",
   "execution_count": 94,
   "metadata": {},
   "outputs": [
    {
     "data": {
      "text/plain": [
       "(719, 230)"
      ]
     },
     "execution_count": 94,
     "metadata": {},
     "output_type": "execute_result"
    }
   ],
   "source": [
    "test_dummies.shape"
   ]
  },
  {
   "cell_type": "markdown",
   "metadata": {},
   "source": [
    "In order to keep the same dataframe strucuture between train and test datasets, I will add 0 to the missing columns in test_clean_dummies dataset."
   ]
  },
  {
   "cell_type": "code",
   "execution_count": 95,
   "metadata": {},
   "outputs": [],
   "source": [
    "missing_cols = set(train_dummies.columns) - set(test_dummies.columns)\n",
    "\n",
    "for col in missing_cols:\n",
    "    test_dummies[col] = 0"
   ]
  },
  {
   "cell_type": "code",
   "execution_count": 96,
   "metadata": {},
   "outputs": [],
   "source": [
    "test_dummies = test_dummies[train_dummies.columns]"
   ]
  },
  {
   "cell_type": "code",
   "execution_count": 97,
   "metadata": {},
   "outputs": [],
   "source": [
    "test_dummies.drop(columns = ['saleprice'], inplace = True)"
   ]
  },
  {
   "cell_type": "code",
   "execution_count": 98,
   "metadata": {},
   "outputs": [
    {
     "data": {
      "text/plain": [
       "(719, 237)"
      ]
     },
     "execution_count": 98,
     "metadata": {},
     "output_type": "execute_result"
    }
   ],
   "source": [
    "test_dummies.shape"
   ]
  },
  {
   "cell_type": "markdown",
   "metadata": {},
   "source": [
    "### Modeling"
   ]
  },
  {
   "cell_type": "markdown",
   "metadata": {},
   "source": [
    "### Model Prep: Create our features matrix (`X`) and target vector (`y`)"
   ]
  },
  {
   "cell_type": "code",
   "execution_count": 99,
   "metadata": {},
   "outputs": [],
   "source": [
    "features = [col for col in train_dummies.columns if col != 'saleprice']\n",
    "\n",
    "X = train_dummies[features]\n",
    "y = train_dummies.saleprice"
   ]
  },
  {
   "cell_type": "markdown",
   "metadata": {},
   "source": [
    "### Model Prep: Train/test split"
   ]
  },
  {
   "cell_type": "code",
   "execution_count": 100,
   "metadata": {},
   "outputs": [],
   "source": [
    "X_train, X_test, y_train, y_test = train_test_split(X, y, test_size=0.3, random_state=42)"
   ]
  },
  {
   "cell_type": "markdown",
   "metadata": {},
   "source": [
    "### Model Prep: Scaling"
   ]
  },
  {
   "cell_type": "code",
   "execution_count": 101,
   "metadata": {},
   "outputs": [],
   "source": [
    "ss = StandardScaler()\n",
    "ss.fit(X_train)\n",
    "X_train = ss.transform(X_train)\n",
    "X_test = ss.transform(X_test)"
   ]
  },
  {
   "cell_type": "markdown",
   "metadata": {},
   "source": [
    "### Model Prep: Instantiate our models\n",
    "\n",
    "I'll be evaluating `LinearRegression`, `LassoCV` and `RidgeCV`, so we'll need to create instances of all three learning algorithms."
   ]
  },
  {
   "cell_type": "code",
   "execution_count": 102,
   "metadata": {},
   "outputs": [],
   "source": [
    "lr = LinearRegression()"
   ]
  },
  {
   "cell_type": "code",
   "execution_count": 103,
   "metadata": {},
   "outputs": [],
   "source": [
    "lasso = LassoCV(n_alphas=200)"
   ]
  },
  {
   "cell_type": "code",
   "execution_count": 104,
   "metadata": {},
   "outputs": [],
   "source": [
    "ridge = RidgeCV(alphas=np.linspace(.1, 10, 100))"
   ]
  },
  {
   "cell_type": "markdown",
   "metadata": {},
   "source": [
    "### Cross validation\n",
    "\n",
    "Use `cross_val_score` to evaluate all three learning algorithms."
   ]
  },
  {
   "cell_type": "code",
   "execution_count": 105,
   "metadata": {},
   "outputs": [
    {
     "data": {
      "text/plain": [
       "-5.150003376485943e+20"
      ]
     },
     "execution_count": 105,
     "metadata": {},
     "output_type": "execute_result"
    }
   ],
   "source": [
    "lr_scores = cross_val_score(lr, X_train, y_train, cv=5)\n",
    "lr_scores.mean()"
   ]
  },
  {
   "cell_type": "code",
   "execution_count": 106,
   "metadata": {},
   "outputs": [
    {
     "data": {
      "text/plain": [
       "0.9130454920084263"
      ]
     },
     "execution_count": 106,
     "metadata": {},
     "output_type": "execute_result"
    }
   ],
   "source": [
    "lasso_scores = cross_val_score(lasso, X_train, y_train, cv=5)\n",
    "lasso_scores.mean()"
   ]
  },
  {
   "cell_type": "code",
   "execution_count": 107,
   "metadata": {},
   "outputs": [
    {
     "data": {
      "text/plain": [
       "0.9018047309101125"
      ]
     },
     "execution_count": 107,
     "metadata": {},
     "output_type": "execute_result"
    }
   ],
   "source": [
    "ridge_scores = cross_val_score(ridge, X_train, y_train, cv=5)\n",
    "ridge_scores.mean()"
   ]
  },
  {
   "cell_type": "markdown",
   "metadata": {},
   "source": [
    "### LassoCV Model Fitting and Evaluation"
   ]
  },
  {
   "cell_type": "code",
   "execution_count": 108,
   "metadata": {},
   "outputs": [
    {
     "data": {
      "text/plain": [
       "LassoCV(n_alphas=200)"
      ]
     },
     "execution_count": 108,
     "metadata": {},
     "output_type": "execute_result"
    }
   ],
   "source": [
    "lasso.fit(X_train, y_train)"
   ]
  },
  {
   "cell_type": "code",
   "execution_count": 109,
   "metadata": {},
   "outputs": [
    {
     "data": {
      "text/plain": [
       "0.9348675328297206"
      ]
     },
     "execution_count": 109,
     "metadata": {},
     "output_type": "execute_result"
    }
   ],
   "source": [
    "lasso.score(X_train, y_train)"
   ]
  },
  {
   "cell_type": "code",
   "execution_count": 110,
   "metadata": {},
   "outputs": [
    {
     "data": {
      "text/plain": [
       "0.9184654343621441"
      ]
     },
     "execution_count": 110,
     "metadata": {},
     "output_type": "execute_result"
    }
   ],
   "source": [
    "lasso.score(X_test, y_test)"
   ]
  },
  {
   "cell_type": "code",
   "execution_count": 111,
   "metadata": {},
   "outputs": [
    {
     "data": {
      "text/plain": [
       "0.9130454920084263"
      ]
     },
     "execution_count": 111,
     "metadata": {},
     "output_type": "execute_result"
    }
   ],
   "source": [
    "lasso_scores.mean()"
   ]
  },
  {
   "cell_type": "code",
   "execution_count": 112,
   "metadata": {},
   "outputs": [
    {
     "data": {
      "text/plain": [
       "22878.64708710483"
      ]
     },
     "execution_count": 112,
     "metadata": {},
     "output_type": "execute_result"
    }
   ],
   "source": [
    "lasso_pred = lasso.predict(X_test)\n",
    "\n",
    "(mean_squared_error(y_test, lasso_pred)) ** .5"
   ]
  },
  {
   "cell_type": "code",
   "execution_count": 113,
   "metadata": {},
   "outputs": [
    {
     "data": {
      "text/plain": [
       "0.9184654343621441"
      ]
     },
     "execution_count": 113,
     "metadata": {},
     "output_type": "execute_result"
    }
   ],
   "source": [
    "r2_score(y_test, lasso_pred)"
   ]
  },
  {
   "cell_type": "code",
   "execution_count": 114,
   "metadata": {},
   "outputs": [
    {
     "data": {
      "text/plain": [
       "21314.261770546214"
      ]
     },
     "metadata": {},
     "output_type": "display_data"
    },
    {
     "data": {
      "text/plain": [
       "22878.64708710483"
      ]
     },
     "metadata": {},
     "output_type": "display_data"
    }
   ],
   "source": [
    "# RMSE for both train and test\n",
    "\n",
    "display(np.sqrt(mean_squared_error(y_train, lasso.predict(X_train))),\n",
    "        np.sqrt(mean_squared_error(y_test, lasso.predict(X_test))))"
   ]
  },
  {
   "cell_type": "code",
   "execution_count": 115,
   "metadata": {},
   "outputs": [
    {
     "data": {
      "text/plain": [
       "-1564.3853165586152"
      ]
     },
     "execution_count": 115,
     "metadata": {},
     "output_type": "execute_result"
    }
   ],
   "source": [
    "# difference in RMSE\n",
    "\n",
    "np.sqrt(mean_squared_error(y_train, lasso.predict(X_train))) - np.sqrt(mean_squared_error(y_test, lasso.predict(X_test)))\n",
    "\n"
   ]
  },
  {
   "cell_type": "markdown",
   "metadata": {},
   "source": [
    "\n",
    "### RidgeCV Model Fitting and Evaluation"
   ]
  },
  {
   "cell_type": "code",
   "execution_count": 116,
   "metadata": {},
   "outputs": [
    {
     "data": {
      "text/plain": [
       "RidgeCV(alphas=array([ 0.1,  0.2,  0.3,  0.4,  0.5,  0.6,  0.7,  0.8,  0.9,  1. ,  1.1,\n",
       "        1.2,  1.3,  1.4,  1.5,  1.6,  1.7,  1.8,  1.9,  2. ,  2.1,  2.2,\n",
       "        2.3,  2.4,  2.5,  2.6,  2.7,  2.8,  2.9,  3. ,  3.1,  3.2,  3.3,\n",
       "        3.4,  3.5,  3.6,  3.7,  3.8,  3.9,  4. ,  4.1,  4.2,  4.3,  4.4,\n",
       "        4.5,  4.6,  4.7,  4.8,  4.9,  5. ,  5.1,  5.2,  5.3,  5.4,  5.5,\n",
       "        5.6,  5.7,  5.8,  5.9,  6. ,  6.1,  6.2,  6.3,  6.4,  6.5,  6.6,\n",
       "        6.7,  6.8,  6.9,  7. ,  7.1,  7.2,  7.3,  7.4,  7.5,  7.6,  7.7,\n",
       "        7.8,  7.9,  8. ,  8.1,  8.2,  8.3,  8.4,  8.5,  8.6,  8.7,  8.8,\n",
       "        8.9,  9. ,  9.1,  9.2,  9.3,  9.4,  9.5,  9.6,  9.7,  9.8,  9.9,\n",
       "       10. ]))"
      ]
     },
     "execution_count": 116,
     "metadata": {},
     "output_type": "execute_result"
    }
   ],
   "source": [
    "ridge.fit(X_train, y_train)"
   ]
  },
  {
   "cell_type": "code",
   "execution_count": 117,
   "metadata": {},
   "outputs": [
    {
     "data": {
      "text/plain": [
       "0.9436460982531211"
      ]
     },
     "execution_count": 117,
     "metadata": {},
     "output_type": "execute_result"
    }
   ],
   "source": [
    "ridge.score(X_train, y_train)"
   ]
  },
  {
   "cell_type": "code",
   "execution_count": 118,
   "metadata": {},
   "outputs": [
    {
     "data": {
      "text/plain": [
       "0.9079072833177921"
      ]
     },
     "execution_count": 118,
     "metadata": {},
     "output_type": "execute_result"
    }
   ],
   "source": [
    "ridge.score(X_test, y_test)"
   ]
  },
  {
   "cell_type": "code",
   "execution_count": 119,
   "metadata": {},
   "outputs": [
    {
     "data": {
      "text/plain": [
       "24314.878318342817"
      ]
     },
     "execution_count": 119,
     "metadata": {},
     "output_type": "execute_result"
    }
   ],
   "source": [
    "ridge_pred = ridge.predict(X_test)\n",
    "\n",
    "(mean_squared_error(y_test, ridge_pred)) ** .5"
   ]
  },
  {
   "cell_type": "code",
   "execution_count": 120,
   "metadata": {},
   "outputs": [
    {
     "data": {
      "text/plain": [
       "0.9079072833177921"
      ]
     },
     "execution_count": 120,
     "metadata": {},
     "output_type": "execute_result"
    }
   ],
   "source": [
    "r2_score(y_test, ridge_pred)"
   ]
  },
  {
   "cell_type": "code",
   "execution_count": 121,
   "metadata": {},
   "outputs": [
    {
     "data": {
      "text/plain": [
       "19825.928054661403"
      ]
     },
     "metadata": {},
     "output_type": "display_data"
    },
    {
     "data": {
      "text/plain": [
       "24314.878318342817"
      ]
     },
     "metadata": {},
     "output_type": "display_data"
    }
   ],
   "source": [
    "# RMSE for both train and test\n",
    "\n",
    "display(np.sqrt(mean_squared_error(y_train, ridge.predict(X_train))),\n",
    "        np.sqrt(mean_squared_error(y_test, ridge.predict(X_test))))"
   ]
  },
  {
   "cell_type": "code",
   "execution_count": 122,
   "metadata": {},
   "outputs": [
    {
     "data": {
      "text/plain": [
       "-4488.950263681414"
      ]
     },
     "execution_count": 122,
     "metadata": {},
     "output_type": "execute_result"
    }
   ],
   "source": [
    "# difference in RMSE\n",
    "\n",
    "np.sqrt(mean_squared_error(y_train, ridge.predict(X_train))) - np.sqrt(mean_squared_error(y_test, ridge.predict(X_test)))\n",
    "\n",
    "\n"
   ]
  },
  {
   "cell_type": "markdown",
   "metadata": {},
   "source": [
    "#### Compare model"
   ]
  },
  {
   "cell_type": "markdown",
   "metadata": {},
   "source": [
    "\n",
    "\n",
    "Lasso: \n",
    "R2: 0.914\n",
    "difference in RMSE: 1564\n",
    "\n",
    "Ridge:\n",
    "R2: 0.892\n",
    "difference in RMSE: 4488\n",
    "\n",
    "Since Lasso model has better R2 score, and its difference in RMSE between train and datasets are smaller, Lasso model is the better model.\n"
   ]
  },
  {
   "cell_type": "markdown",
   "metadata": {},
   "source": [
    "To visualise our regression model, I will plot predictions against the actual housing sales price."
   ]
  },
  {
   "cell_type": "code",
   "execution_count": 123,
   "metadata": {},
   "outputs": [
    {
     "data": {
      "text/plain": [
       "Text(0.5, 1.0, 'Predicted Prices v.s. Residuals')"
      ]
     },
     "execution_count": 123,
     "metadata": {},
     "output_type": "execute_result"
    },
    {
     "data": {
      "image/png": "[encoded data removed]",
      "text/plain": [
       "<Figure size 432x288 with 1 Axes>"
      ]
     },
     "metadata": {
      "needs_background": "light"
     },
     "output_type": "display_data"
    }
   ],
   "source": [
    "lasso_pred = lasso.predict(X_test)\n",
    "residuals = y_test - lasso_pred\n",
    "\n",
    "sns.regplot(lasso_pred, residuals)\n",
    "plt.xlabel('Predicted Home Prices')\n",
    "plt.ylabel('Residuals')\n",
    "plt.title('Predicted Prices v.s. Residuals')"
   ]
  },
  {
   "cell_type": "code",
   "execution_count": 124,
   "metadata": {},
   "outputs": [
    {
     "data": {
      "text/plain": [
       "<matplotlib.collections.PathCollection at 0x7fa1975405b0>"
      ]
     },
     "execution_count": 124,
     "metadata": {},
     "output_type": "execute_result"
    },
    {
     "data": {
      "image/png": "[encoded data removed]",
      "text/plain": [
       "<Figure size 432x288 with 1 Axes>"
      ]
     },
     "metadata": {
      "needs_background": "light"
     },
     "output_type": "display_data"
    }
   ],
   "source": [
    "plt.scatter(lasso_pred, residuals)"
   ]
  },
  {
   "cell_type": "code",
   "execution_count": 125,
   "metadata": {},
   "outputs": [
    {
     "data": {
      "text/plain": [
       "567.8240877265099"
      ]
     },
     "execution_count": 125,
     "metadata": {},
     "output_type": "execute_result"
    }
   ],
   "source": [
    "lasso.alpha_"
   ]
  },
  {
   "cell_type": "code",
   "execution_count": 126,
   "metadata": {},
   "outputs": [
    {
     "data": {
      "text/plain": [
       "array([-0.00000000e+00,  0.00000000e+00,  6.21577105e+03,  0.00000000e+00,\n",
       "        0.00000000e+00, -0.00000000e+00,  1.31607751e+04,  4.54890696e+03,\n",
       "        7.32220615e+03,  1.42513682e+03,  6.35106180e+03,  8.45076931e+03,\n",
       "       -0.00000000e+00,  0.00000000e+00, -6.90496788e+02,  3.62876759e+03,\n",
       "        0.00000000e+00,  9.91405233e+03,  0.00000000e+00,  3.41387762e+02,\n",
       "       -0.00000000e+00,  7.39164931e+03,  6.25713282e+01, -0.00000000e+00,\n",
       "        8.88007662e+02,  0.00000000e+00, -0.00000000e+00,  2.39392061e+04,\n",
       "        1.35262578e+03, -0.00000000e+00,  6.99456257e+02,  1.37561839e+03,\n",
       "       -2.09274854e+03, -1.24643756e+02,  4.08330005e+03,  2.92807482e+03,\n",
       "        1.24219527e+03, -0.00000000e+00,  0.00000000e+00,  6.97360252e+03,\n",
       "       -0.00000000e+00, -0.00000000e+00,  0.00000000e+00,  2.19950571e+02,\n",
       "        6.44352471e+02, -0.00000000e+00,  0.00000000e+00,  3.02462926e+03,\n",
       "       -0.00000000e+00,  0.00000000e+00, -0.00000000e+00,  0.00000000e+00,\n",
       "        0.00000000e+00,  5.84442740e+02, -0.00000000e+00,  4.23469654e+01,\n",
       "       -0.00000000e+00,  0.00000000e+00, -0.00000000e+00,  6.57673105e+01,\n",
       "       -0.00000000e+00, -0.00000000e+00, -0.00000000e+00, -2.35087375e+03,\n",
       "       -1.24720488e+03,  0.00000000e+00, -0.00000000e+00,  0.00000000e+00,\n",
       "       -1.58797579e+02,  9.80190332e+02,  0.00000000e+00,  0.00000000e+00,\n",
       "        0.00000000e+00, -0.00000000e+00, -9.04408683e+01,  5.81591949e-13,\n",
       "        4.21366001e+02, -2.90795975e-13, -0.00000000e+00,  2.58281616e+03,\n",
       "       -0.00000000e+00, -0.00000000e+00, -0.00000000e+00,  1.89175750e+03,\n",
       "       -0.00000000e+00, -2.40770981e+02,  0.00000000e+00,  0.00000000e+00,\n",
       "        0.00000000e+00,  0.00000000e+00,  8.35275267e+02,  6.67072908e+01,\n",
       "       -1.21878862e+03,  2.01602981e+03, -8.96399147e+02, -0.00000000e+00,\n",
       "       -0.00000000e+00,  0.00000000e+00, -0.00000000e+00,  0.00000000e+00,\n",
       "       -6.26190564e+02,  6.64776661e+02, -6.28056304e+02,  1.75739969e+03,\n",
       "        7.53683000e+03, -1.49034330e+02, -0.00000000e+00,  0.00000000e+00,\n",
       "       -1.27856728e+03,  0.00000000e+00,  6.52983270e+03,  5.07392451e+01,\n",
       "        0.00000000e+00, -8.48318862e+02, -0.00000000e+00,  8.66285247e+02,\n",
       "        5.00044419e+02,  4.11035078e+02, -0.00000000e+00, -0.00000000e+00,\n",
       "       -2.46598709e+01,  2.20890093e+02, -0.00000000e+00,  0.00000000e+00,\n",
       "       -0.00000000e+00,  3.41808142e+02, -1.12629190e+03,  0.00000000e+00,\n",
       "        3.97691782e+03,  0.00000000e+00, -0.00000000e+00, -0.00000000e+00,\n",
       "       -0.00000000e+00, -0.00000000e+00,  0.00000000e+00,  0.00000000e+00,\n",
       "        0.00000000e+00,  0.00000000e+00, -0.00000000e+00, -0.00000000e+00,\n",
       "       -0.00000000e+00,  0.00000000e+00, -0.00000000e+00, -0.00000000e+00,\n",
       "        1.41217427e+03, -0.00000000e+00,  0.00000000e+00, -0.00000000e+00,\n",
       "        8.09566403e+01, -0.00000000e+00,  0.00000000e+00,  7.05343197e+02,\n",
       "        1.30116959e+02,  4.21881161e+02, -5.11855854e+02,  1.84508599e+03,\n",
       "        0.00000000e+00,  0.00000000e+00, -0.00000000e+00, -0.00000000e+00,\n",
       "        0.00000000e+00, -0.00000000e+00,  0.00000000e+00, -0.00000000e+00,\n",
       "        0.00000000e+00, -0.00000000e+00, -0.00000000e+00,  0.00000000e+00,\n",
       "        0.00000000e+00,  0.00000000e+00, -2.23533487e+02,  0.00000000e+00,\n",
       "        3.74491566e+02, -1.24540477e+03,  0.00000000e+00,  0.00000000e+00,\n",
       "       -1.47385628e+03,  2.87696043e+02, -5.28353932e+01,  0.00000000e+00,\n",
       "       -0.00000000e+00, -4.04865856e+00, -1.05546939e+03, -2.81861544e+03,\n",
       "        0.00000000e+00,  6.71131363e+02, -1.35177079e+02, -0.00000000e+00,\n",
       "        5.31058612e+01,  5.45989794e+02,  0.00000000e+00,  0.00000000e+00,\n",
       "        6.41617888e+01, -4.02271921e+02, -0.00000000e+00, -1.04579931e+03,\n",
       "        0.00000000e+00,  0.00000000e+00, -0.00000000e+00, -1.33405091e+03,\n",
       "       -0.00000000e+00, -1.66554092e+02,  1.87776958e+02,  4.81207687e+01,\n",
       "        0.00000000e+00,  1.10939627e+03,  0.00000000e+00, -0.00000000e+00,\n",
       "        4.38061691e+02,  0.00000000e+00,  0.00000000e+00, -1.00584707e+03,\n",
       "        2.60317407e+02,  7.85422779e+02,  3.23117022e+02, -0.00000000e+00,\n",
       "        0.00000000e+00,  4.26996773e+03,  4.84112451e+02, -6.70329284e+02,\n",
       "        4.78704122e+01, -0.00000000e+00, -0.00000000e+00,  0.00000000e+00,\n",
       "        2.48020067e+02, -0.00000000e+00,  5.09772233e+02, -3.44973527e+02,\n",
       "        0.00000000e+00, -0.00000000e+00, -7.04245746e+02,  2.45079609e+02,\n",
       "       -0.00000000e+00, -0.00000000e+00,  0.00000000e+00, -0.00000000e+00,\n",
       "        0.00000000e+00])"
      ]
     },
     "execution_count": 126,
     "metadata": {},
     "output_type": "execute_result"
    }
   ],
   "source": [
    "lasso.coef_"
   ]
  },
  {
   "cell_type": "markdown",
   "metadata": {},
   "source": [
    "Using the coefficient, we will be able to determine which features have the strongest influence over sales price."
   ]
  },
  {
   "cell_type": "code",
   "execution_count": 127,
   "metadata": {},
   "outputs": [
    {
     "data": {
      "text/html": [
       "<div>\n",
       "<style scoped>\n",
       "    .dataframe tbody tr th:only-of-type {\n",
       "        vertical-align: middle;\n",
       "    }\n",
       "\n",
       "    .dataframe tbody tr th {\n",
       "        vertical-align: top;\n",
       "    }\n",
       "\n",
       "    .dataframe thead th {\n",
       "        text-align: right;\n",
       "    }\n",
       "</style>\n",
       "<table border=\"1\" class=\"dataframe\">\n",
       "  <thead>\n",
       "    <tr style=\"text-align: right;\">\n",
       "      <th></th>\n",
       "      <th>variable</th>\n",
       "      <th>coef</th>\n",
       "      <th>abs_coef</th>\n",
       "    </tr>\n",
       "  </thead>\n",
       "  <tbody>\n",
       "    <tr>\n",
       "      <th>27</th>\n",
       "      <td>gr_liv_area</td>\n",
       "      <td>23939.206088</td>\n",
       "      <td>23939.206088</td>\n",
       "    </tr>\n",
       "    <tr>\n",
       "      <th>6</th>\n",
       "      <td>overall_qual</td>\n",
       "      <td>13160.775101</td>\n",
       "      <td>13160.775101</td>\n",
       "    </tr>\n",
       "    <tr>\n",
       "      <th>17</th>\n",
       "      <td>bsmtfin_sf_1</td>\n",
       "      <td>9914.052326</td>\n",
       "      <td>9914.052326</td>\n",
       "    </tr>\n",
       "    <tr>\n",
       "      <th>11</th>\n",
       "      <td>exter_qual</td>\n",
       "      <td>8450.769313</td>\n",
       "      <td>8450.769313</td>\n",
       "    </tr>\n",
       "    <tr>\n",
       "      <th>104</th>\n",
       "      <td>neighborhood_NridgHt</td>\n",
       "      <td>7536.830001</td>\n",
       "      <td>7536.830001</td>\n",
       "    </tr>\n",
       "    <tr>\n",
       "      <th>21</th>\n",
       "      <td>total_bsmt_sf</td>\n",
       "      <td>7391.649313</td>\n",
       "      <td>7391.649313</td>\n",
       "    </tr>\n",
       "    <tr>\n",
       "      <th>8</th>\n",
       "      <td>year_built</td>\n",
       "      <td>7322.206152</td>\n",
       "      <td>7322.206152</td>\n",
       "    </tr>\n",
       "    <tr>\n",
       "      <th>39</th>\n",
       "      <td>garage_area</td>\n",
       "      <td>6973.602517</td>\n",
       "      <td>6973.602517</td>\n",
       "    </tr>\n",
       "    <tr>\n",
       "      <th>110</th>\n",
       "      <td>neighborhood_StoneBr</td>\n",
       "      <td>6529.832697</td>\n",
       "      <td>6529.832697</td>\n",
       "    </tr>\n",
       "    <tr>\n",
       "      <th>10</th>\n",
       "      <td>mas_vnr_area</td>\n",
       "      <td>6351.061799</td>\n",
       "      <td>6351.061799</td>\n",
       "    </tr>\n",
       "  </tbody>\n",
       "</table>\n",
       "</div>"
      ],
      "text/plain": [
       "                 variable          coef      abs_coef\n",
       "27            gr_liv_area  23939.206088  23939.206088\n",
       "6            overall_qual  13160.775101  13160.775101\n",
       "17           bsmtfin_sf_1   9914.052326   9914.052326\n",
       "11             exter_qual   8450.769313   8450.769313\n",
       "104  neighborhood_NridgHt   7536.830001   7536.830001\n",
       "21          total_bsmt_sf   7391.649313   7391.649313\n",
       "8              year_built   7322.206152   7322.206152\n",
       "39            garage_area   6973.602517   6973.602517\n",
       "110  neighborhood_StoneBr   6529.832697   6529.832697\n",
       "10           mas_vnr_area   6351.061799   6351.061799"
      ]
     },
     "execution_count": 127,
     "metadata": {},
     "output_type": "execute_result"
    }
   ],
   "source": [
    "lasso.fit(X_train, y_train)\n",
    "\n",
    "lasso_coefs = pd.DataFrame({'variable':X.columns,\n",
    "                            'coef':lasso.coef_,\n",
    "                            'abs_coef':np.abs(lasso.coef_)})\n",
    "\n",
    "lasso_coefs.sort_values('abs_coef', inplace=True, ascending=False)\n",
    "\n",
    "lasso_coefs.head(10)"
   ]
  },
  {
   "cell_type": "code",
   "execution_count": 128,
   "metadata": {},
   "outputs": [],
   "source": [
    "def plot_coef(model, top_n = 10):\n",
    "    \n",
    "    cols = X.columns\n",
    "    coef = model.coef_\n",
    "    zipped = list(zip(cols, coef))\n",
    "    zipped.sort(key=lambda x: x[1], reverse = True)\n",
    "    top_10 = pd.DataFrame(zipped).head(top_n)\n",
    "    return pd.concat([top_10], axis=0).plot.barh(x = 0, y = 1)"
   ]
  },
  {
   "cell_type": "code",
   "execution_count": 129,
   "metadata": {},
   "outputs": [
    {
     "data": {
      "text/plain": [
       "<matplotlib.axes._subplots.AxesSubplot at 0x7fa197564ac0>"
      ]
     },
     "execution_count": 129,
     "metadata": {},
     "output_type": "execute_result"
    },
    {
     "data": {
      "image/png": "[encoded data removed]",
      "text/plain": [
       "<Figure size 432x288 with 1 Axes>"
      ]
     },
     "metadata": {
      "needs_background": "light"
     },
     "output_type": "display_data"
    }
   ],
   "source": [
    "plot_coef(lasso)"
   ]
  },
  {
   "cell_type": "markdown",
   "metadata": {},
   "source": [
    "After modeling, we have learnt that the top 5 features that have the strongest influence over sales price are:\n",
    "\n",
    "1. Above Ground Living Area\n",
    "2. Overall Quality \t\n",
    "3. Basement Finish Surface Area\n",
    "4. External Quality\n",
    "5. Total Basement Surface Area\n",
    "\n",
    "The two good neighbourhoods are: \n",
    "\n",
    "1. Northridge Heights\n",
    "2. Stone Brook "
   ]
  },
  {
   "cell_type": "code",
   "execution_count": 130,
   "metadata": {},
   "outputs": [],
   "source": [
    "def plot_coef(model, top_n = 10):\n",
    "    \n",
    "    cols = X.columns\n",
    "    coef = model.coef_\n",
    "    zipped = list(zip(cols, coef))\n",
    "    zipped.sort(key=lambda x: x[1], reverse = True)\n",
    "    bottom_10 = pd.DataFrame(zipped).tail(top_n)\n",
    "    return pd.concat([bottom_10], axis=0).plot.barh(x = 0, y = 1)"
   ]
  },
  {
   "cell_type": "code",
   "execution_count": 131,
   "metadata": {},
   "outputs": [
    {
     "data": {
      "text/plain": [
       "<matplotlib.axes._subplots.AxesSubplot at 0x7fa19909c9a0>"
      ]
     },
     "execution_count": 131,
     "metadata": {},
     "output_type": "execute_result"
    },
    {
     "data": {
      "image/png": "[encoded data removed]",
      "text/plain": [
       "<Figure size 432x288 with 1 Axes>"
      ]
     },
     "metadata": {
      "needs_background": "light"
     },
     "output_type": "display_data"
    }
   ],
   "source": [
    "plot_coef(lasso)"
   ]
  },
  {
   "cell_type": "markdown",
   "metadata": {},
   "source": [
    "The 5 features that hurt the value of a home the most are: \n",
    "\n",
    "1. Masonry veneer type BrkFace\n",
    "2. Ms_subclass 2 storey\n",
    "2. Bedroom above ground\n",
    "3. Ms subclass 1 storey\n",
    "4. Neighborhoood CollgCr\n",
    "5. Exterior 2nd Plywood"
   ]
  },
  {
   "cell_type": "markdown",
   "metadata": {},
   "source": [
    "## Predict Test Dataset"
   ]
  },
  {
   "cell_type": "code",
   "execution_count": 132,
   "metadata": {},
   "outputs": [],
   "source": [
    "test_dummies_sc = ss.transform(test_dummies)"
   ]
  },
  {
   "cell_type": "code",
   "execution_count": 133,
   "metadata": {},
   "outputs": [],
   "source": [
    "pred = lasso.predict(test_dummies_sc)"
   ]
  },
  {
   "cell_type": "code",
   "execution_count": 134,
   "metadata": {},
   "outputs": [],
   "source": [
    "submission = pd.DataFrame(pred, index=test_dummies.index, columns=['saleprice'])"
   ]
  },
  {
   "cell_type": "code",
   "execution_count": 135,
   "metadata": {},
   "outputs": [
    {
     "data": {
      "text/html": [
       "<div>\n",
       "<style scoped>\n",
       "    .dataframe tbody tr th:only-of-type {\n",
       "        vertical-align: middle;\n",
       "    }\n",
       "\n",
       "    .dataframe tbody tr th {\n",
       "        vertical-align: top;\n",
       "    }\n",
       "\n",
       "    .dataframe thead th {\n",
       "        text-align: right;\n",
       "    }\n",
       "</style>\n",
       "<table border=\"1\" class=\"dataframe\">\n",
       "  <thead>\n",
       "    <tr style=\"text-align: right;\">\n",
       "      <th></th>\n",
       "      <th>saleprice</th>\n",
       "    </tr>\n",
       "  </thead>\n",
       "  <tbody>\n",
       "    <tr>\n",
       "      <th>0</th>\n",
       "      <td>143683.176203</td>\n",
       "    </tr>\n",
       "    <tr>\n",
       "      <th>2</th>\n",
       "      <td>231772.266148</td>\n",
       "    </tr>\n",
       "    <tr>\n",
       "      <th>3</th>\n",
       "      <td>125283.166492</td>\n",
       "    </tr>\n",
       "    <tr>\n",
       "      <th>5</th>\n",
       "      <td>83301.075657</td>\n",
       "    </tr>\n",
       "    <tr>\n",
       "      <th>6</th>\n",
       "      <td>106310.723651</td>\n",
       "    </tr>\n",
       "    <tr>\n",
       "      <th>8</th>\n",
       "      <td>181754.303896</td>\n",
       "    </tr>\n",
       "    <tr>\n",
       "      <th>9</th>\n",
       "      <td>162418.444815</td>\n",
       "    </tr>\n",
       "    <tr>\n",
       "      <th>10</th>\n",
       "      <td>138785.803051</td>\n",
       "    </tr>\n",
       "    <tr>\n",
       "      <th>11</th>\n",
       "      <td>123881.600757</td>\n",
       "    </tr>\n",
       "    <tr>\n",
       "      <th>12</th>\n",
       "      <td>149221.974905</td>\n",
       "    </tr>\n",
       "  </tbody>\n",
       "</table>\n",
       "</div>"
      ],
      "text/plain": [
       "        saleprice\n",
       "0   143683.176203\n",
       "2   231772.266148\n",
       "3   125283.166492\n",
       "5    83301.075657\n",
       "6   106310.723651\n",
       "8   181754.303896\n",
       "9   162418.444815\n",
       "10  138785.803051\n",
       "11  123881.600757\n",
       "12  149221.974905"
      ]
     },
     "execution_count": 135,
     "metadata": {},
     "output_type": "execute_result"
    }
   ],
   "source": [
    "submission.head(10)"
   ]
  },
  {
   "cell_type": "code",
   "execution_count": 136,
   "metadata": {},
   "outputs": [
    {
     "data": {
      "text/html": [
       "<div>\n",
       "<style scoped>\n",
       "    .dataframe tbody tr th:only-of-type {\n",
       "        vertical-align: middle;\n",
       "    }\n",
       "\n",
       "    .dataframe tbody tr th {\n",
       "        vertical-align: top;\n",
       "    }\n",
       "\n",
       "    .dataframe thead th {\n",
       "        text-align: right;\n",
       "    }\n",
       "</style>\n",
       "<table border=\"1\" class=\"dataframe\">\n",
       "  <thead>\n",
       "    <tr style=\"text-align: right;\">\n",
       "      <th></th>\n",
       "      <th>saleprice</th>\n",
       "    </tr>\n",
       "  </thead>\n",
       "  <tbody>\n",
       "    <tr>\n",
       "      <th>0</th>\n",
       "      <td>143683.176203</td>\n",
       "    </tr>\n",
       "    <tr>\n",
       "      <th>2</th>\n",
       "      <td>231772.266148</td>\n",
       "    </tr>\n",
       "    <tr>\n",
       "      <th>3</th>\n",
       "      <td>125283.166492</td>\n",
       "    </tr>\n",
       "    <tr>\n",
       "      <th>5</th>\n",
       "      <td>83301.075657</td>\n",
       "    </tr>\n",
       "    <tr>\n",
       "      <th>6</th>\n",
       "      <td>106310.723651</td>\n",
       "    </tr>\n",
       "  </tbody>\n",
       "</table>\n",
       "</div>"
      ],
      "text/plain": [
       "       saleprice\n",
       "0  143683.176203\n",
       "2  231772.266148\n",
       "3  125283.166492\n",
       "5   83301.075657\n",
       "6  106310.723651"
      ]
     },
     "execution_count": 136,
     "metadata": {},
     "output_type": "execute_result"
    }
   ],
   "source": [
    "submission.sort_index(inplace=True)\n",
    "submission.head()"
   ]
  },
  {
   "cell_type": "code",
   "execution_count": 137,
   "metadata": {},
   "outputs": [],
   "source": [
    "# save the submission data \n",
    "\n",
    "submission.to_csv('datasets/submission.csv')"
   ]
  },
  {
   "cell_type": "markdown",
   "metadata": {},
   "source": [
    "## Conclusion and Recommendations"
   ]
  },
  {
   "cell_type": "markdown",
   "metadata": {},
   "source": [
    "After modeling, we have learnt that the top 5 features that have the strongest influence over sales price are:\n",
    "\n",
    "1. Above Ground Living Area\n",
    "2. Overall Quality \t\n",
    "3. Basement Finish Surface Area\n",
    "4. External Quality\n",
    "5. Total Basement Surface Area\n",
    "\n",
    "The two good neighbourhoods are: \n",
    "\n",
    "1. Northridge Heights\n",
    "2. Stone Brook \n",
    "\n",
    "The 5 features that hurt the value of a home the most are: \n",
    "\n",
    "1. Masonry veneer type BrkFace\n",
    "2. Ms_subclass 2 storey\n",
    "2. Bedroom above ground\n",
    "3. Ms subclass 1 storey\n",
    "4. Neighborhoood CollgCr\n",
    "5. Exterior 2nd Plywood\n",
    "\n",
    "\n",
    "I don't think lasso model can generalize to other cities, as the main problem with lasso regression model itself is that when we have correlated variables, it retains only one variable and sets other correlated variables to zero. That will possibly lead to some loss of information resulting in lower accuracy in our model.\n",
    "\n",
    "If we want to retain all of the features, we can consider to apply ridge regression, as it has similar score as lasso. However, ridge will shrink the coefficients and the model will remain complex and might lead to poor model performance. Hence, we can consider elastic net regression, which is basically a hybrid of ridge and lasso regression.\n",
    "\n",
    "In this case, I chose lasso model coz it has the best score among the three regression models. If we want to develop a model that can be generalized to other cities, elastic net regression would be a better option as it will not omit some variables like lasso. "
   ]
  }
 ],
 "metadata": {
  "kernelspec": {
   "display_name": "Python 3",
   "language": "python",
   "name": "python3"
  },
  "language_info": {
   "codemirror_mode": {
    "name": "ipython",
    "version": 3
   },
   "file_extension": ".py",
   "mimetype": "text/x-python",
   "name": "python",
   "nbconvert_exporter": "python",
   "pygments_lexer": "ipython3",
   "version": "3.8.5"
  }
 },
 "nbformat": 4,
 "nbformat_minor": 4
}
